{
 "cells": [
  {
   "cell_type": "code",
   "execution_count": 1,
   "metadata": {},
   "outputs": [],
   "source": [
    "import pandas as pd\n",
    "import re\n",
    "from itertools import chain,cycle, islice\n",
    "import itertools\n",
    "import numpy as np\n",
    "import seaborn as sns\n",
    "import matplotlib.pyplot as plt\n",
    "from IPython.display import display, HTML, display_html"
   ]
  },
  {
   "cell_type": "code",
   "execution_count": 2,
   "metadata": {},
   "outputs": [],
   "source": [
    "# Do not truncate column content and show all columns\n",
    "pd.set_option('display.max_colwidth', None)\n",
    "\n",
    "# Update output cell format to display mutliple objects (dataframes)\n",
    "# https://stackoverflow.com/questions/38783027/jupyter-notebook-display-two-pandas-tables-side-by-side\n",
    "def display_side_by_side(*args,titles=cycle([''])):\n",
    "    html_str=''\n",
    "    for df,title in zip(args, chain(titles,cycle(['</br>'])) ):\n",
    "        html_str+='<th style=\"text-align:center\"><td style=\"vertical-align:top\">'\n",
    "        html_str+=f'<h4>{title}</h4>'\n",
    "        html_str+=df.to_html().replace('table','table style=\"display:inline\"')\n",
    "        html_str+='</td></th>'\n",
    "    display_html(html_str,raw=True)"
   ]
  },
  {
   "cell_type": "code",
   "execution_count": 3,
   "metadata": {},
   "outputs": [],
   "source": [
    "prefix = '../../data/'\n",
    "filePaths = {\n",
    "    \"reviews\": prefix + 'yelp_academic_dataset_review.json',\n",
    "    \"businesses\": prefix + 'yelp_academic_dataset_business.json',\n",
    "    \"checkins\": prefix + 'yelp_academic_dataset_checkin.json',\n",
    "    \"tips\": prefix + 'yelp_academic_dataset_tip.json',\n",
    "    \"users\": prefix + 'yelp_academic_dataset_user.json'\n",
    "}"
   ]
  },
  {
   "cell_type": "markdown",
   "metadata": {},
   "source": [
    "---\n",
    "\n",
    "# Businesses json\n",
    "## Data Pre-Processing: Removing Unrelated Business Categories\n",
    "\n",
    "---\n",
    "\n",
    "## Problem Description:\n",
    "* The dataset ```yelp_academic_dataset_business.json``` has many business categories unrelated to food reviews.\n",
    "* Since our project focuses on food review text, we need to identify and remove unrelated business categories from our dataset during preprocessing."
   ]
  },
  {
   "cell_type": "markdown",
   "metadata": {},
   "source": [
    "___"
   ]
  },
  {
   "cell_type": "code",
   "execution_count": 4,
   "metadata": {},
   "outputs": [],
   "source": [
    "# Create a dataframe containing all business categories\n",
    "dfBusiness = pd.read_json(\n",
    "    filePaths[\"businesses\"], \n",
    "    lines=True\n",
    ")"
   ]
  },
  {
   "cell_type": "markdown",
   "metadata": {},
   "source": [
    "## Business Categories Documentation:\n",
    "\n",
    "* The yelp developer documentation has a businesses [category list](https://www.yelp.com/developers/documentation/v3/category_list). \n",
    "\n",
    "\n",
    "* The category```Restaurant (restaurant)``` sub-divides into cuisine types, e.g.: \n",
    "    * Soul Food\n",
    "    * Tapas\n",
    "    * ...\n",
    "\n",
    "\n",
    "* The category```Food (food)``` sub-divides into food vendors, e.g.:\n",
    "    * Gelato\n",
    "    * Food Trucks\n",
    "    * ...\n",
    "    \n",
    "\n",
    "* We should be good to go by just filtering out all businesses that do not contain 'Food' or 'Restaurant' using regular expressions.\n",
    "\n",
    "---\n"
   ]
  },
  {
   "cell_type": "markdown",
   "metadata": {},
   "source": [
    "## Solution 1: "
   ]
  },
  {
   "cell_type": "code",
   "execution_count": 5,
   "metadata": {},
   "outputs": [],
   "source": [
    "def regexMask():\n",
    "    # Use the regular expression above to create a boolean mask for each row in the dataframe. Note: na=False also filters NaN values\n",
    "    boolMask = dfBusiness['categories'].str.contains(r'\\bfood\\b|\\brestaurants\\b',flags=re.IGNORECASE, na=False)\n",
    "#     print(boolMask[:5])\n",
    "\n",
    "    # Apply the boolean mask to filter out all unrelated business categories\n",
    "    restaurants = dfBusiness[boolMask]\n",
    "    return restaurants"
   ]
  },
  {
   "cell_type": "markdown",
   "metadata": {},
   "source": [
    "---\n",
    "\n",
    "## Solution 2:\n",
    "\n",
    "* Similar to solution 1: Use regex and bool mask but code may be more readable"
   ]
  },
  {
   "cell_type": "code",
   "execution_count": 6,
   "metadata": {},
   "outputs": [],
   "source": [
    "def containsMask():\n",
    "    # Filter the original dataframe categories using a bool mask for 'Restaurants' or 'Food' and str.contains()\n",
    "    restaurants = dfBusiness[\n",
    "            (dfBusiness['categories'].str.contains('Restaurants')==True) | \n",
    "            (dfBusiness['categories'].str.contains('Food')==True) \n",
    "    ]\n",
    "    return restaurants"
   ]
  },
  {
   "cell_type": "markdown",
   "metadata": {},
   "source": [
    "### Performance Comparison"
   ]
  },
  {
   "cell_type": "markdown",
   "metadata": {},
   "source": [
    "`%timeit -n100 -r3 <statement>`\n",
    "> The statement will get executed 3 times * 100 loops per execution = 300 times"
   ]
  },
  {
   "cell_type": "markdown",
   "metadata": {},
   "source": [
    "%timeit -n20 -r3 regexMask()\n",
    "%timeit -n20 -r3 containsMask()"
   ]
  },
  {
   "cell_type": "code",
   "execution_count": 7,
   "metadata": {},
   "outputs": [],
   "source": [
    "restaurants = containsMask()"
   ]
  },
  {
   "cell_type": "markdown",
   "metadata": {},
   "source": [
    "## Examining Restaurant Categories\n",
    "\n",
    "- Removing some low-hanging False Positives (see commented example below)\n",
    "\n",
    "> Restaurants dataset: business containing either \"Restaurants\" or \"Food\" as a category\n",
    "\n",
    "___\n",
    "\n",
    "***Run by Group:***\n",
    "- Potentially take subsets of restaurants with high category frequency"
   ]
  },
  {
   "cell_type": "code",
   "execution_count": 8,
   "metadata": {},
   "outputs": [],
   "source": [
    "# Explode takes column that contains list values, and expand into multiple rows\n",
    "dfExploded = restaurants.assign(categories = restaurants.categories.str.split(', ')).explode('categories')\n",
    "dfCategoryCount = dfExploded.categories.value_counts().reset_index()\n",
    "dfCategoryCount.columns = ['categories', 'count']"
   ]
  },
  {
   "cell_type": "code",
   "execution_count": 9,
   "metadata": {},
   "outputs": [
    {
     "data": {
      "text/html": [
       "<th style=\"text-align:center\"><td style=\"vertical-align:top\"><h4>Top 5 Restaurant Categories</h4><table style=\"display:inline\" border=\"1\" class=\"dataframe\">\n",
       "  <thead>\n",
       "    <tr style=\"text-align: right;\">\n",
       "      <th></th>\n",
       "      <th>categories</th>\n",
       "      <th>count</th>\n",
       "    </tr>\n",
       "  </thead>\n",
       "  <tbody>\n",
       "    <tr>\n",
       "      <th>0</th>\n",
       "      <td>Restaurants</td>\n",
       "      <td>63944</td>\n",
       "    </tr>\n",
       "    <tr>\n",
       "      <th>1</th>\n",
       "      <td>Food</td>\n",
       "      <td>32991</td>\n",
       "    </tr>\n",
       "    <tr>\n",
       "      <th>2</th>\n",
       "      <td>Nightlife</td>\n",
       "      <td>9962</td>\n",
       "    </tr>\n",
       "    <tr>\n",
       "      <th>3</th>\n",
       "      <td>Bars</td>\n",
       "      <td>9490</td>\n",
       "    </tr>\n",
       "    <tr>\n",
       "      <th>4</th>\n",
       "      <td>Coffee &amp; Tea</td>\n",
       "      <td>8415</td>\n",
       "    </tr>\n",
       "  </tbody>\n",
       "</table style=\"display:inline\"></td></th><th style=\"text-align:center\"><td style=\"vertical-align:top\"><h4>Bottom 5 Restaurant Categories</h4><table style=\"display:inline\" border=\"1\" class=\"dataframe\">\n",
       "  <thead>\n",
       "    <tr style=\"text-align: right;\">\n",
       "      <th></th>\n",
       "      <th>categories</th>\n",
       "      <th>count</th>\n",
       "    </tr>\n",
       "  </thead>\n",
       "  <tbody>\n",
       "    <tr>\n",
       "      <th>919</th>\n",
       "      <td>Refinishing Services</td>\n",
       "      <td>1</td>\n",
       "    </tr>\n",
       "    <tr>\n",
       "      <th>920</th>\n",
       "      <td>Public Relations</td>\n",
       "      <td>1</td>\n",
       "    </tr>\n",
       "    <tr>\n",
       "      <th>921</th>\n",
       "      <td>Bookkeepers</td>\n",
       "      <td>1</td>\n",
       "    </tr>\n",
       "    <tr>\n",
       "      <th>922</th>\n",
       "      <td>Legal Services</td>\n",
       "      <td>1</td>\n",
       "    </tr>\n",
       "    <tr>\n",
       "      <th>923</th>\n",
       "      <td>Eastern European</td>\n",
       "      <td>1</td>\n",
       "    </tr>\n",
       "  </tbody>\n",
       "</table style=\"display:inline\"></td></th>"
      ]
     },
     "metadata": {},
     "output_type": "display_data"
    }
   ],
   "source": [
    "topCategories = dfCategoryCount.head(5)\n",
    "bottomCategories = dfCategoryCount.tail(5)\n",
    "\n",
    "display_side_by_side(topCategories, bottomCategories, titles=[f'Top {len(topCategories)} Restaurant Categories',f'Bottom {len(bottomCategories)} Restaurant Categories'])"
   ]
  },
  {
   "cell_type": "markdown",
   "metadata": {},
   "source": [
    "#### Examples of False Positives in Restaurants"
   ]
  },
  {
   "cell_type": "markdown",
   "metadata": {},
   "source": [
    "# Example of categories with count of 1 \n",
    "dfCategoryCount.loc[dfCategoryCount['count']==1].head()\n",
    "\n",
    "# Examining how a company with 'software Dev' got passed restaurant filter\n",
    "seriesExploded.loc[seriesExploded['categories']=='Software Development']\n",
    "\n",
    "# Examining all categories of this business: Software Development, Restaurant, Windows Installation, etc.\n",
    "seriesExploded.loc[seriesExploded['name']=='Panda Windows & Doors']"
   ]
  },
  {
   "cell_type": "markdown",
   "metadata": {},
   "source": [
    "### Removing Restaurants: with category count of 1 "
   ]
  },
  {
   "cell_type": "code",
   "execution_count": 10,
   "metadata": {},
   "outputs": [],
   "source": [
    "# collect all categories with count less than 1\n",
    "categoriestoDrop = set(dfCategoryCount.loc[dfCategoryCount['count'] == 1]['categories'])\n",
    "\n",
    "# collect and drop restaurants whose category count is less than 1\n",
    "restaurantstoDrop = set(dfExploded[dfExploded['categories'].isin(categoriestoDrop)]['business_id'])\n",
    "restaurantsTrimmed = restaurants[~restaurants['business_id'].isin(restaurantstoDrop)]"
   ]
  },
  {
   "cell_type": "code",
   "execution_count": 11,
   "metadata": {},
   "outputs": [
    {
     "name": "stdout",
     "output_type": "stream",
     "text": [
      "# of Businesses dropped from restaurants: 163, out of 80492\n"
     ]
    }
   ],
   "source": [
    "print(f'# of Businesses dropped from restaurants: {len(restaurants)-len(restaurantsTrimmed)}, out of {len(restaurants)}')"
   ]
  },
  {
   "cell_type": "markdown",
   "metadata": {},
   "source": [
    "---\n",
    "\n",
    "## Export to JSON\n",
    "\n",
    "* Apply the restaurant filter to all datapoints in ```yelp_academic_dataset_business.json``` then export the processed data as a JSON "
   ]
  },
  {
   "cell_type": "code",
   "execution_count": 12,
   "metadata": {},
   "outputs": [],
   "source": [
    "# Export to JSON\n",
    "restaurantsTrimmed.to_json(r'yelp_academic_dataset_restaurants.json')"
   ]
  },
  {
   "cell_type": "markdown",
   "metadata": {},
   "source": [
    "## Summary:\n",
    "    \n",
    "* According to the Yelp developer documentation, regular expressions should be sufficient to remove unrelated business categories from our dataset.\n",
    "\n",
    "* If our data set were not structured and well documented, we would likely need to consider a classification technique for businesses such as **Named Entiy Recognition (NER)**.\n"
   ]
  },
  {
   "cell_type": "markdown",
   "metadata": {},
   "source": [
    "***\n",
    "# Users json\n",
    "\n",
    "## Data Pre-Processing: User Features and Users\n",
    "\n",
    "---\n",
    "\n",
    "## Problem Description:\n",
    "* Remove redundant attributes through correlation analysis\n",
    "* Normalize user attributes"
   ]
  },
  {
   "cell_type": "markdown",
   "metadata": {},
   "source": [
    "## Reduce User attributes"
   ]
  },
  {
   "cell_type": "code",
   "execution_count": 13,
   "metadata": {},
   "outputs": [],
   "source": [
    "userReader = pd.read_json(\n",
    "    filePaths[\"users\"], \n",
    "    lines=True,\n",
    "    chunksize=100000 # Dataframe size\n",
    ")"
   ]
  },
  {
   "cell_type": "markdown",
   "metadata": {},
   "source": [
    "### Correlation Analysis on attributes (Pearson correlation coefficient)"
   ]
  },
  {
   "cell_type": "code",
   "execution_count": 14,
   "metadata": {},
   "outputs": [],
   "source": [
    "for df in itertools.islice(userReader, 1):\n",
    "    df = df.filter(items=['useful', 'funny', 'cool', 'fans',\n",
    "                          'compliment_hot', 'compliment_more', 'compliment_profile', 'compliment_cute', \n",
    "                          'compliment_list', 'compliment_note','compliment_plain','compliment_cool', \n",
    "                          'compliment_funny','compliment_writer','compliment_photos'])"
   ]
  },
  {
   "cell_type": "code",
   "execution_count": 15,
   "metadata": {},
   "outputs": [
    {
     "data": {
      "image/png": "[encoded data removed]",
      "text/plain": [
       "<Figure size 432x288 with 2 Axes>"
      ]
     },
     "metadata": {
      "needs_background": "light"
     },
     "output_type": "display_data"
    },
    {
     "data": {
      "text/plain": [
       "None"
      ]
     },
     "metadata": {},
     "output_type": "display_data"
    },
    {
     "data": {
      "text/html": [
       "<div>\n",
       "<style scoped>\n",
       "    .dataframe tbody tr th:only-of-type {\n",
       "        vertical-align: middle;\n",
       "    }\n",
       "\n",
       "    .dataframe tbody tr th {\n",
       "        vertical-align: top;\n",
       "    }\n",
       "\n",
       "    .dataframe thead th {\n",
       "        text-align: right;\n",
       "    }\n",
       "</style>\n",
       "<table border=\"1\" class=\"dataframe\">\n",
       "  <thead>\n",
       "    <tr style=\"text-align: right;\">\n",
       "      <th></th>\n",
       "      <th>useful</th>\n",
       "      <th>funny</th>\n",
       "      <th>cool</th>\n",
       "      <th>fans</th>\n",
       "      <th>compliment_hot</th>\n",
       "      <th>compliment_more</th>\n",
       "      <th>compliment_profile</th>\n",
       "      <th>compliment_cute</th>\n",
       "      <th>compliment_list</th>\n",
       "      <th>compliment_note</th>\n",
       "      <th>compliment_plain</th>\n",
       "      <th>compliment_cool</th>\n",
       "      <th>compliment_funny</th>\n",
       "      <th>compliment_writer</th>\n",
       "      <th>compliment_photos</th>\n",
       "    </tr>\n",
       "  </thead>\n",
       "  <tbody>\n",
       "    <tr>\n",
       "      <th>useful</th>\n",
       "      <td>1.000000</td>\n",
       "      <td>0.964429</td>\n",
       "      <td>0.990598</td>\n",
       "      <td>0.800100</td>\n",
       "      <td>0.676497</td>\n",
       "      <td>0.590853</td>\n",
       "      <td>0.412548</td>\n",
       "      <td>0.438856</td>\n",
       "      <td>0.344067</td>\n",
       "      <td>0.750283</td>\n",
       "      <td>0.703319</td>\n",
       "      <td>0.775660</td>\n",
       "      <td>0.775660</td>\n",
       "      <td>0.778985</td>\n",
       "      <td>0.541254</td>\n",
       "    </tr>\n",
       "    <tr>\n",
       "      <th>funny</th>\n",
       "      <td>0.964429</td>\n",
       "      <td>1.000000</td>\n",
       "      <td>0.979204</td>\n",
       "      <td>0.749508</td>\n",
       "      <td>0.715929</td>\n",
       "      <td>0.618694</td>\n",
       "      <td>0.440731</td>\n",
       "      <td>0.469765</td>\n",
       "      <td>0.357368</td>\n",
       "      <td>0.755032</td>\n",
       "      <td>0.686609</td>\n",
       "      <td>0.798937</td>\n",
       "      <td>0.798937</td>\n",
       "      <td>0.800462</td>\n",
       "      <td>0.582671</td>\n",
       "    </tr>\n",
       "    <tr>\n",
       "      <th>cool</th>\n",
       "      <td>0.990598</td>\n",
       "      <td>0.979204</td>\n",
       "      <td>1.000000</td>\n",
       "      <td>0.765961</td>\n",
       "      <td>0.700247</td>\n",
       "      <td>0.596475</td>\n",
       "      <td>0.420534</td>\n",
       "      <td>0.446676</td>\n",
       "      <td>0.341227</td>\n",
       "      <td>0.747148</td>\n",
       "      <td>0.696675</td>\n",
       "      <td>0.793365</td>\n",
       "      <td>0.793365</td>\n",
       "      <td>0.785179</td>\n",
       "      <td>0.564949</td>\n",
       "    </tr>\n",
       "    <tr>\n",
       "      <th>fans</th>\n",
       "      <td>0.800100</td>\n",
       "      <td>0.749508</td>\n",
       "      <td>0.765961</td>\n",
       "      <td>1.000000</td>\n",
       "      <td>0.579987</td>\n",
       "      <td>0.503817</td>\n",
       "      <td>0.354003</td>\n",
       "      <td>0.475781</td>\n",
       "      <td>0.341401</td>\n",
       "      <td>0.718988</td>\n",
       "      <td>0.741951</td>\n",
       "      <td>0.672836</td>\n",
       "      <td>0.672836</td>\n",
       "      <td>0.663137</td>\n",
       "      <td>0.427317</td>\n",
       "    </tr>\n",
       "    <tr>\n",
       "      <th>compliment_hot</th>\n",
       "      <td>0.676497</td>\n",
       "      <td>0.715929</td>\n",
       "      <td>0.700247</td>\n",
       "      <td>0.579987</td>\n",
       "      <td>1.000000</td>\n",
       "      <td>0.747986</td>\n",
       "      <td>0.640863</td>\n",
       "      <td>0.723005</td>\n",
       "      <td>0.485924</td>\n",
       "      <td>0.844187</td>\n",
       "      <td>0.735904</td>\n",
       "      <td>0.931059</td>\n",
       "      <td>0.931059</td>\n",
       "      <td>0.883451</td>\n",
       "      <td>0.797463</td>\n",
       "    </tr>\n",
       "    <tr>\n",
       "      <th>compliment_more</th>\n",
       "      <td>0.590853</td>\n",
       "      <td>0.618694</td>\n",
       "      <td>0.596475</td>\n",
       "      <td>0.503817</td>\n",
       "      <td>0.747986</td>\n",
       "      <td>1.000000</td>\n",
       "      <td>0.931205</td>\n",
       "      <td>0.795233</td>\n",
       "      <td>0.846183</td>\n",
       "      <td>0.820796</td>\n",
       "      <td>0.609691</td>\n",
       "      <td>0.750316</td>\n",
       "      <td>0.750316</td>\n",
       "      <td>0.847727</td>\n",
       "      <td>0.652559</td>\n",
       "    </tr>\n",
       "    <tr>\n",
       "      <th>compliment_profile</th>\n",
       "      <td>0.412548</td>\n",
       "      <td>0.440731</td>\n",
       "      <td>0.420534</td>\n",
       "      <td>0.354003</td>\n",
       "      <td>0.640863</td>\n",
       "      <td>0.931205</td>\n",
       "      <td>1.000000</td>\n",
       "      <td>0.803681</td>\n",
       "      <td>0.909674</td>\n",
       "      <td>0.675253</td>\n",
       "      <td>0.470958</td>\n",
       "      <td>0.606259</td>\n",
       "      <td>0.606259</td>\n",
       "      <td>0.724287</td>\n",
       "      <td>0.594420</td>\n",
       "    </tr>\n",
       "    <tr>\n",
       "      <th>compliment_cute</th>\n",
       "      <td>0.438856</td>\n",
       "      <td>0.469765</td>\n",
       "      <td>0.446676</td>\n",
       "      <td>0.475781</td>\n",
       "      <td>0.723005</td>\n",
       "      <td>0.795233</td>\n",
       "      <td>0.803681</td>\n",
       "      <td>1.000000</td>\n",
       "      <td>0.794522</td>\n",
       "      <td>0.687479</td>\n",
       "      <td>0.534824</td>\n",
       "      <td>0.652611</td>\n",
       "      <td>0.652611</td>\n",
       "      <td>0.696560</td>\n",
       "      <td>0.563257</td>\n",
       "    </tr>\n",
       "    <tr>\n",
       "      <th>compliment_list</th>\n",
       "      <td>0.344067</td>\n",
       "      <td>0.357368</td>\n",
       "      <td>0.341227</td>\n",
       "      <td>0.341401</td>\n",
       "      <td>0.485924</td>\n",
       "      <td>0.846183</td>\n",
       "      <td>0.909674</td>\n",
       "      <td>0.794522</td>\n",
       "      <td>1.000000</td>\n",
       "      <td>0.596576</td>\n",
       "      <td>0.422405</td>\n",
       "      <td>0.478811</td>\n",
       "      <td>0.478811</td>\n",
       "      <td>0.590107</td>\n",
       "      <td>0.379907</td>\n",
       "    </tr>\n",
       "    <tr>\n",
       "      <th>compliment_note</th>\n",
       "      <td>0.750283</td>\n",
       "      <td>0.755032</td>\n",
       "      <td>0.747148</td>\n",
       "      <td>0.718988</td>\n",
       "      <td>0.844187</td>\n",
       "      <td>0.820796</td>\n",
       "      <td>0.675253</td>\n",
       "      <td>0.687479</td>\n",
       "      <td>0.596576</td>\n",
       "      <td>1.000000</td>\n",
       "      <td>0.871704</td>\n",
       "      <td>0.909363</td>\n",
       "      <td>0.909363</td>\n",
       "      <td>0.881898</td>\n",
       "      <td>0.683735</td>\n",
       "    </tr>\n",
       "    <tr>\n",
       "      <th>compliment_plain</th>\n",
       "      <td>0.703319</td>\n",
       "      <td>0.686609</td>\n",
       "      <td>0.696675</td>\n",
       "      <td>0.741951</td>\n",
       "      <td>0.735904</td>\n",
       "      <td>0.609691</td>\n",
       "      <td>0.470958</td>\n",
       "      <td>0.534824</td>\n",
       "      <td>0.422405</td>\n",
       "      <td>0.871704</td>\n",
       "      <td>1.000000</td>\n",
       "      <td>0.844504</td>\n",
       "      <td>0.844504</td>\n",
       "      <td>0.766483</td>\n",
       "      <td>0.525559</td>\n",
       "    </tr>\n",
       "    <tr>\n",
       "      <th>compliment_cool</th>\n",
       "      <td>0.775660</td>\n",
       "      <td>0.798937</td>\n",
       "      <td>0.793365</td>\n",
       "      <td>0.672836</td>\n",
       "      <td>0.931059</td>\n",
       "      <td>0.750316</td>\n",
       "      <td>0.606259</td>\n",
       "      <td>0.652611</td>\n",
       "      <td>0.478811</td>\n",
       "      <td>0.909363</td>\n",
       "      <td>0.844504</td>\n",
       "      <td>1.000000</td>\n",
       "      <td>1.000000</td>\n",
       "      <td>0.923049</td>\n",
       "      <td>0.757292</td>\n",
       "    </tr>\n",
       "    <tr>\n",
       "      <th>compliment_funny</th>\n",
       "      <td>0.775660</td>\n",
       "      <td>0.798937</td>\n",
       "      <td>0.793365</td>\n",
       "      <td>0.672836</td>\n",
       "      <td>0.931059</td>\n",
       "      <td>0.750316</td>\n",
       "      <td>0.606259</td>\n",
       "      <td>0.652611</td>\n",
       "      <td>0.478811</td>\n",
       "      <td>0.909363</td>\n",
       "      <td>0.844504</td>\n",
       "      <td>1.000000</td>\n",
       "      <td>1.000000</td>\n",
       "      <td>0.923049</td>\n",
       "      <td>0.757292</td>\n",
       "    </tr>\n",
       "    <tr>\n",
       "      <th>compliment_writer</th>\n",
       "      <td>0.778985</td>\n",
       "      <td>0.800462</td>\n",
       "      <td>0.785179</td>\n",
       "      <td>0.663137</td>\n",
       "      <td>0.883451</td>\n",
       "      <td>0.847727</td>\n",
       "      <td>0.724287</td>\n",
       "      <td>0.696560</td>\n",
       "      <td>0.590107</td>\n",
       "      <td>0.881898</td>\n",
       "      <td>0.766483</td>\n",
       "      <td>0.923049</td>\n",
       "      <td>0.923049</td>\n",
       "      <td>1.000000</td>\n",
       "      <td>0.771606</td>\n",
       "    </tr>\n",
       "    <tr>\n",
       "      <th>compliment_photos</th>\n",
       "      <td>0.541254</td>\n",
       "      <td>0.582671</td>\n",
       "      <td>0.564949</td>\n",
       "      <td>0.427317</td>\n",
       "      <td>0.797463</td>\n",
       "      <td>0.652559</td>\n",
       "      <td>0.594420</td>\n",
       "      <td>0.563257</td>\n",
       "      <td>0.379907</td>\n",
       "      <td>0.683735</td>\n",
       "      <td>0.525559</td>\n",
       "      <td>0.757292</td>\n",
       "      <td>0.757292</td>\n",
       "      <td>0.771606</td>\n",
       "      <td>1.000000</td>\n",
       "    </tr>\n",
       "  </tbody>\n",
       "</table>\n",
       "</div>"
      ],
      "text/plain": [
       "                      useful     funny      cool      fans  compliment_hot  \\\n",
       "useful              1.000000  0.964429  0.990598  0.800100        0.676497   \n",
       "funny               0.964429  1.000000  0.979204  0.749508        0.715929   \n",
       "cool                0.990598  0.979204  1.000000  0.765961        0.700247   \n",
       "fans                0.800100  0.749508  0.765961  1.000000        0.579987   \n",
       "compliment_hot      0.676497  0.715929  0.700247  0.579987        1.000000   \n",
       "compliment_more     0.590853  0.618694  0.596475  0.503817        0.747986   \n",
       "compliment_profile  0.412548  0.440731  0.420534  0.354003        0.640863   \n",
       "compliment_cute     0.438856  0.469765  0.446676  0.475781        0.723005   \n",
       "compliment_list     0.344067  0.357368  0.341227  0.341401        0.485924   \n",
       "compliment_note     0.750283  0.755032  0.747148  0.718988        0.844187   \n",
       "compliment_plain    0.703319  0.686609  0.696675  0.741951        0.735904   \n",
       "compliment_cool     0.775660  0.798937  0.793365  0.672836        0.931059   \n",
       "compliment_funny    0.775660  0.798937  0.793365  0.672836        0.931059   \n",
       "compliment_writer   0.778985  0.800462  0.785179  0.663137        0.883451   \n",
       "compliment_photos   0.541254  0.582671  0.564949  0.427317        0.797463   \n",
       "\n",
       "                    compliment_more  compliment_profile  compliment_cute  \\\n",
       "useful                     0.590853            0.412548         0.438856   \n",
       "funny                      0.618694            0.440731         0.469765   \n",
       "cool                       0.596475            0.420534         0.446676   \n",
       "fans                       0.503817            0.354003         0.475781   \n",
       "compliment_hot             0.747986            0.640863         0.723005   \n",
       "compliment_more            1.000000            0.931205         0.795233   \n",
       "compliment_profile         0.931205            1.000000         0.803681   \n",
       "compliment_cute            0.795233            0.803681         1.000000   \n",
       "compliment_list            0.846183            0.909674         0.794522   \n",
       "compliment_note            0.820796            0.675253         0.687479   \n",
       "compliment_plain           0.609691            0.470958         0.534824   \n",
       "compliment_cool            0.750316            0.606259         0.652611   \n",
       "compliment_funny           0.750316            0.606259         0.652611   \n",
       "compliment_writer          0.847727            0.724287         0.696560   \n",
       "compliment_photos          0.652559            0.594420         0.563257   \n",
       "\n",
       "                    compliment_list  compliment_note  compliment_plain  \\\n",
       "useful                     0.344067         0.750283          0.703319   \n",
       "funny                      0.357368         0.755032          0.686609   \n",
       "cool                       0.341227         0.747148          0.696675   \n",
       "fans                       0.341401         0.718988          0.741951   \n",
       "compliment_hot             0.485924         0.844187          0.735904   \n",
       "compliment_more            0.846183         0.820796          0.609691   \n",
       "compliment_profile         0.909674         0.675253          0.470958   \n",
       "compliment_cute            0.794522         0.687479          0.534824   \n",
       "compliment_list            1.000000         0.596576          0.422405   \n",
       "compliment_note            0.596576         1.000000          0.871704   \n",
       "compliment_plain           0.422405         0.871704          1.000000   \n",
       "compliment_cool            0.478811         0.909363          0.844504   \n",
       "compliment_funny           0.478811         0.909363          0.844504   \n",
       "compliment_writer          0.590107         0.881898          0.766483   \n",
       "compliment_photos          0.379907         0.683735          0.525559   \n",
       "\n",
       "                    compliment_cool  compliment_funny  compliment_writer  \\\n",
       "useful                     0.775660          0.775660           0.778985   \n",
       "funny                      0.798937          0.798937           0.800462   \n",
       "cool                       0.793365          0.793365           0.785179   \n",
       "fans                       0.672836          0.672836           0.663137   \n",
       "compliment_hot             0.931059          0.931059           0.883451   \n",
       "compliment_more            0.750316          0.750316           0.847727   \n",
       "compliment_profile         0.606259          0.606259           0.724287   \n",
       "compliment_cute            0.652611          0.652611           0.696560   \n",
       "compliment_list            0.478811          0.478811           0.590107   \n",
       "compliment_note            0.909363          0.909363           0.881898   \n",
       "compliment_plain           0.844504          0.844504           0.766483   \n",
       "compliment_cool            1.000000          1.000000           0.923049   \n",
       "compliment_funny           1.000000          1.000000           0.923049   \n",
       "compliment_writer          0.923049          0.923049           1.000000   \n",
       "compliment_photos          0.757292          0.757292           0.771606   \n",
       "\n",
       "                    compliment_photos  \n",
       "useful                       0.541254  \n",
       "funny                        0.582671  \n",
       "cool                         0.564949  \n",
       "fans                         0.427317  \n",
       "compliment_hot               0.797463  \n",
       "compliment_more              0.652559  \n",
       "compliment_profile           0.594420  \n",
       "compliment_cute              0.563257  \n",
       "compliment_list              0.379907  \n",
       "compliment_note              0.683735  \n",
       "compliment_plain             0.525559  \n",
       "compliment_cool              0.757292  \n",
       "compliment_funny             0.757292  \n",
       "compliment_writer            0.771606  \n",
       "compliment_photos            1.000000  "
      ]
     },
     "metadata": {},
     "output_type": "display_data"
    }
   ],
   "source": [
    "# Calculate Pearson correlation coefficient amongst variables\n",
    "data = df\n",
    "corr = data.corr()\n",
    "\n",
    "# Create correlation matrix chart\n",
    "fig = plt.figure()\n",
    "ax = fig.add_subplot(111)\n",
    "cax = ax.matshow(corr,cmap='coolwarm', vmin=-1, vmax=1)\n",
    "\n",
    "# Set and orient labels \n",
    "fig.colorbar(cax)\n",
    "ticks = np.arange(0,len(data.columns),1)\n",
    "ax.set_xticks(ticks)\n",
    "plt.xticks(rotation=90)\n",
    "ax.set_yticks(ticks)\n",
    "ax.set_xticklabels(data.columns)\n",
    "ax.set_yticklabels(data.columns)\n",
    "\n",
    "\n",
    "display(plt.show())\n",
    "display(corr)"
   ]
  },
  {
   "cell_type": "code",
   "execution_count": 16,
   "metadata": {},
   "outputs": [],
   "source": [
    "# Not a final list, just some to get the ball rolling \n",
    "dropUserAtrributes = ['cool','compliment_hot', 'compliment_more', 'compliment_profile', \n",
    "                     'compliment_cute', 'compliment_list', 'compliment_note','compliment_plain',\n",
    "                     'compliment_cool', 'compliment_funny','compliment_writer','compliment_photos']"
   ]
  },
  {
   "cell_type": "markdown",
   "metadata": {},
   "source": [
    "## Fully read in Users File now\n",
    "> Now that key data reduction has been performed"
   ]
  },
  {
   "cell_type": "code",
   "execution_count": 17,
   "metadata": {},
   "outputs": [],
   "source": [
    "chunksize = 1000000\n",
    "userReader = pd.read_json(filePaths['users'], lines=True,\n",
    "                      dtype={'user_id':str,'name':str, 'review_count':int, 'yelping_since':str,\n",
    "                             'friends':list,'useful':int, 'funny':int, 'cool':int, 'fans':int, \n",
    "                             'elite': list, 'average_stars': float,'business_id':str,'stars':int,\n",
    "                             'compliment_hot':int, 'compliment_more':int, 'compliment_profile':int, \n",
    "                             'compliment_cute':int, 'compliment_list':int, 'compliment_note':int,'compliment_plain':int,\n",
    "                             'compliment_cool':int, 'compliment_funny':int,'compliment_writer':int,'compliment_photos':int\n",
    "                            },\n",
    "                      chunksize=chunksize)"
   ]
  },
  {
   "cell_type": "code",
   "execution_count": 18,
   "metadata": {},
   "outputs": [
    {
     "name": "stdout",
     "output_type": "stream",
     "text": [
      "1000000 merged out of 1,000,000 users\n",
      "968703 merged out of 1,000,000 users\n"
     ]
    }
   ],
   "source": [
    "# Collect all df chunks \n",
    "chunk_list = []\n",
    "for userChunk in userReader:\n",
    "    userChunk = userChunk.drop(dropUserAtrributes, axis=1)\n",
    "    # Show feedback on progress\n",
    "    print(f\"{userChunk.shape[0]} merged out of {chunksize:,} users\")\n",
    "    chunk_list.append(userChunk)"
   ]
  },
  {
   "cell_type": "code",
   "execution_count": 19,
   "metadata": {},
   "outputs": [],
   "source": [
    "# concat all dataframe chunks into 1 datafram\n",
    "dfUsers = pd.concat(chunk_list, ignore_index=True, axis=0)"
   ]
  },
  {
   "cell_type": "code",
   "execution_count": 20,
   "metadata": {},
   "outputs": [
    {
     "name": "stdout",
     "output_type": "stream",
     "text": [
      "<class 'pandas.core.frame.DataFrame'>\n",
      "RangeIndex: 1968703 entries, 0 to 1968702\n",
      "Data columns (total 10 columns):\n",
      " #   Column         Dtype  \n",
      "---  ------         -----  \n",
      " 0   user_id        object \n",
      " 1   name           object \n",
      " 2   review_count   int32  \n",
      " 3   yelping_since  object \n",
      " 4   useful         int32  \n",
      " 5   funny          int32  \n",
      " 6   elite          object \n",
      " 7   friends        object \n",
      " 8   fans           int32  \n",
      " 9   average_stars  float64\n",
      "dtypes: float64(1), int32(4), object(5)\n",
      "memory usage: 120.2+ MB\n"
     ]
    }
   ],
   "source": [
    "dfUsers.info()"
   ]
  },
  {
   "cell_type": "code",
   "execution_count": null,
   "metadata": {},
   "outputs": [],
   "source": []
  },
  {
   "cell_type": "markdown",
   "metadata": {},
   "source": [
    "## Reduce/Partition Users: \n",
    "Users with Low/Med and Users with High # of reviews\n",
    "\n",
    "***Run by Group:***\n",
    "- Potentially opportunity to cut down users, by taking subsets such as \"normal users\" and \"power users\""
   ]
  },
  {
   "cell_type": "code",
   "execution_count": 39,
   "metadata": {},
   "outputs": [
    {
     "name": "stdout",
     "output_type": "stream",
     "text": [
      "# of users: 1968703\n"
     ]
    }
   ],
   "source": [
    "print(f'# of users: {len(dfUsers)}')"
   ]
  },
  {
   "cell_type": "markdown",
   "metadata": {},
   "source": [
    "### Review Count Frequencies"
   ]
  },
  {
   "cell_type": "code",
   "execution_count": 190,
   "metadata": {},
   "outputs": [
    {
     "name": "stdout",
     "output_type": "stream",
     "text": [
      "Average # of reviews given, per user: 22.17\n",
      "Users with 0 reviews: 18\n"
     ]
    }
   ],
   "source": [
    "print(f\"Average # of reviews given, per user: {round(dfUsers['review_count'].mean(),2)}\")\n",
    "print(f\"Users with 0 reviews: {len(dfUsers.loc[dfUsers['review_count']==0])}\")"
   ]
  },
  {
   "cell_type": "code",
   "execution_count": 191,
   "metadata": {},
   "outputs": [],
   "source": [
    "reviewCount = dfUsers['review_count'].to_list()"
   ]
  },
  {
   "cell_type": "code",
   "execution_count": 188,
   "metadata": {},
   "outputs": [],
   "source": [
    "superuserThreshold  = 100\n",
    "\n",
    "smallReviewCount, smallReviewPercent = [count for count in reviewCount if count <= superuserThreshold], round(len(smallReviewCount)/len(reviewCount)*100,2)\n",
    "bigReviewCount, bigReviewPercent = [count for count in reviewCount if count > superuserThreshold], round(len(bigReviewCount)/len(reviewCount)*100,2)"
   ]
  },
  {
   "cell_type": "code",
   "execution_count": 189,
   "metadata": {},
   "outputs": [
    {
     "data": {
      "image/png": "[encoded data removed]",
      "text/plain": [
       "<Figure size 1440x288 with 2 Axes>"
      ]
     },
     "metadata": {
      "needs_background": "light"
     },
     "output_type": "display_data"
    }
   ],
   "source": [
    "fig, (ax1, ax2) = plt.subplots(1,2,figsize=(20,4))\n",
    "sns.histplot(smallReviewCount, binwidth=10, ax=ax1)\n",
    "sns.histplot(bigReviewCount, binwidth=100, ax=ax2)\n",
    "\n",
    "ax1.set(title=f'Users with <= {superuserThreshold} review count (n={len(smallReviewCount)}, {smallReviewPercent}%)', xlabel='# of Reviews', ylabel='User Count')\n",
    "ax2.set(title=f'Users with > {superuserThreshold} review count (n={len(bigReviewCount)}, {bigReviewPercent}%)', xlabel='# of Reviews', ylabel='User Count')\n",
    "plt.show()"
   ]
  },
  {
   "cell_type": "markdown",
   "metadata": {},
   "source": [
    "### `user.average_stars` Analysis: comparing Super users vs Normal users \n",
    "> Super users are denoted by a review count > 100"
   ]
  },
  {
   "cell_type": "code",
   "execution_count": 174,
   "metadata": {},
   "outputs": [
    {
     "name": "stdout",
     "output_type": "stream",
     "text": [
      " 'Normal users' avg stars: 3.64\n",
      " 'Super users' avg stars: 3.81\n"
     ]
    }
   ],
   "source": [
    "print(f\" 'Normal users' avg stars: {  round(dfUsers.loc[dfUsers['review_count'] <= superuserThreshold]['average_stars'].mean(),2)  }\")\n",
    "print(f\" 'Super users' avg stars: {   round(dfUsers.loc[dfUsers['review_count'] > superuserThreshold]['average_stars'].mean(),2)  }\")"
   ]
  },
  {
   "cell_type": "code",
   "execution_count": 194,
   "metadata": {},
   "outputs": [
    {
     "data": {
      "image/png": "[encoded data removed]",
      "text/plain": [
       "<Figure size 432x288 with 1 Axes>"
      ]
     },
     "metadata": {
      "needs_background": "light"
     },
     "output_type": "display_data"
    }
   ],
   "source": [
    "sns.histplot(dfUsers['average_stars'], bins=50).set(title='average_stars distribution')\n",
    "plt.show()"
   ]
  },
  {
   "cell_type": "markdown",
   "metadata": {},
   "source": [
    "### Users ordered by Review Count \n",
    "> By definition top and bottom 3, are super and normal users"
   ]
  },
  {
   "cell_type": "code",
   "execution_count": 184,
   "metadata": {},
   "outputs": [
    {
     "data": {
      "text/html": [
       "<div>\n",
       "<style scoped>\n",
       "    .dataframe tbody tr th:only-of-type {\n",
       "        vertical-align: middle;\n",
       "    }\n",
       "\n",
       "    .dataframe tbody tr th {\n",
       "        vertical-align: top;\n",
       "    }\n",
       "\n",
       "    .dataframe thead th {\n",
       "        text-align: right;\n",
       "    }\n",
       "</style>\n",
       "<table border=\"1\" class=\"dataframe\">\n",
       "  <thead>\n",
       "    <tr style=\"text-align: right;\">\n",
       "      <th></th>\n",
       "      <th>user_id</th>\n",
       "      <th>name</th>\n",
       "      <th>review_count</th>\n",
       "      <th>yelping_since</th>\n",
       "      <th>useful</th>\n",
       "      <th>funny</th>\n",
       "      <th>elite</th>\n",
       "      <th>friends</th>\n",
       "      <th>fans</th>\n",
       "      <th>average_stars</th>\n",
       "    </tr>\n",
       "  </thead>\n",
       "  <tbody>\n",
       "    <tr>\n",
       "      <th>416</th>\n",
       "      <td>8k3aO-mPeyhbR5HUucA5aA</td>\n",
       "      <td>Victor</td>\n",
       "      <td>14455</td>\n",
       "      <td>2007-12-08 14:56:45</td>\n",
       "      <td>101960</td>\n",
       "      <td>62685</td>\n",
       "      <td>2008,2009,2010,2011,2012,2013,2014,2015,2016,2...</td>\n",
       "      <td>G2S8uIPRkyFNSs5os0hybA, y5HZivYR6HDOBwSDlddx6A...</td>\n",
       "      <td>1271</td>\n",
       "      <td>3.28</td>\n",
       "    </tr>\n",
       "    <tr>\n",
       "      <th>14169</th>\n",
       "      <td>RtGqdDBvvBCjcu5dUqwfzA</td>\n",
       "      <td>Shila</td>\n",
       "      <td>12772</td>\n",
       "      <td>2010-10-17 06:35:06</td>\n",
       "      <td>10508</td>\n",
       "      <td>3568</td>\n",
       "      <td>2012,2013,2014,2015,2016,2017,2018</td>\n",
       "      <td>hz79Mq7EGhHXZkIspAQtrg, HuBgs7uHyUz7DzcaScZqjg...</td>\n",
       "      <td>285</td>\n",
       "      <td>3.87</td>\n",
       "    </tr>\n",
       "    <tr>\n",
       "      <th>635</th>\n",
       "      <td>hWDybu_KvYLSdEFzGrniTw</td>\n",
       "      <td>Bruce</td>\n",
       "      <td>12487</td>\n",
       "      <td>2009-03-08 21:47:44</td>\n",
       "      <td>108027</td>\n",
       "      <td>68719</td>\n",
       "      <td>2010,2011,2012,2013,2014,2015,2016,2017,2018</td>\n",
       "      <td>OK-GE2QwR_D3qi5jrX8RsA, gjhzKWsqCIrpEd9pevbKZw...</td>\n",
       "      <td>659</td>\n",
       "      <td>3.64</td>\n",
       "    </tr>\n",
       "  </tbody>\n",
       "</table>\n",
       "</div>"
      ],
      "text/plain": [
       "                      user_id    name  \\\n",
       "416    8k3aO-mPeyhbR5HUucA5aA  Victor   \n",
       "14169  RtGqdDBvvBCjcu5dUqwfzA   Shila   \n",
       "635    hWDybu_KvYLSdEFzGrniTw   Bruce   \n",
       "\n",
       "       review_count        yelping_since  \\\n",
       "416           14455  2007-12-08 14:56:45   \n",
       "14169         12772  2010-10-17 06:35:06   \n",
       "635           12487  2009-03-08 21:47:44   \n",
       "\n",
       "       useful  funny  \\\n",
       "416    101960  62685   \n",
       "14169   10508   3568   \n",
       "635    108027  68719   \n",
       "\n",
       "                                                   elite  \\\n",
       "416    2008,2009,2010,2011,2012,2013,2014,2015,2016,2...   \n",
       "14169                 2012,2013,2014,2015,2016,2017,2018   \n",
       "635         2010,2011,2012,2013,2014,2015,2016,2017,2018   \n",
       "\n",
       "                                                 friends  \\\n",
       "416    G2S8uIPRkyFNSs5os0hybA, y5HZivYR6HDOBwSDlddx6A...   \n",
       "14169  hz79Mq7EGhHXZkIspAQtrg, HuBgs7uHyUz7DzcaScZqjg...   \n",
       "635    OK-GE2QwR_D3qi5jrX8RsA, gjhzKWsqCIrpEd9pevbKZw...   \n",
       "\n",
       "       fans  average_stars  \n",
       "416    1271           3.28  \n",
       "14169   285           3.87  \n",
       "635     659           3.64  "
      ]
     },
     "metadata": {},
     "output_type": "display_data"
    },
    {
     "data": {
      "text/html": [
       "<div>\n",
       "<style scoped>\n",
       "    .dataframe tbody tr th:only-of-type {\n",
       "        vertical-align: middle;\n",
       "    }\n",
       "\n",
       "    .dataframe tbody tr th {\n",
       "        vertical-align: top;\n",
       "    }\n",
       "\n",
       "    .dataframe thead th {\n",
       "        text-align: right;\n",
       "    }\n",
       "</style>\n",
       "<table border=\"1\" class=\"dataframe\">\n",
       "  <thead>\n",
       "    <tr style=\"text-align: right;\">\n",
       "      <th></th>\n",
       "      <th>user_id</th>\n",
       "      <th>name</th>\n",
       "      <th>review_count</th>\n",
       "      <th>yelping_since</th>\n",
       "      <th>useful</th>\n",
       "      <th>funny</th>\n",
       "      <th>elite</th>\n",
       "      <th>friends</th>\n",
       "      <th>fans</th>\n",
       "      <th>average_stars</th>\n",
       "    </tr>\n",
       "  </thead>\n",
       "  <tbody>\n",
       "    <tr>\n",
       "      <th>125809</th>\n",
       "      <td>AbbeFj9SPxOoHNKkeDVn6w</td>\n",
       "      <td>Janet</td>\n",
       "      <td>0</td>\n",
       "      <td>2017-07-11 06:37:38</td>\n",
       "      <td>0</td>\n",
       "      <td>2</td>\n",
       "      <td></td>\n",
       "      <td>fwwZK_bVBK-0ovQU8XCKBQ, etlj3-oBXWZDXFaF-684NA...</td>\n",
       "      <td>0</td>\n",
       "      <td>1.0</td>\n",
       "    </tr>\n",
       "    <tr>\n",
       "      <th>1474346</th>\n",
       "      <td>SoFv1NZbpnZdL051sVVXBA</td>\n",
       "      <td>Susanna</td>\n",
       "      <td>0</td>\n",
       "      <td>2017-09-16 21:26:12</td>\n",
       "      <td>0</td>\n",
       "      <td>0</td>\n",
       "      <td></td>\n",
       "      <td>588RSIeWljDTtZRcaGvB2w, vI2BFlKdFOpusSG4S0oEWg...</td>\n",
       "      <td>0</td>\n",
       "      <td>5.0</td>\n",
       "    </tr>\n",
       "    <tr>\n",
       "      <th>830420</th>\n",
       "      <td>0EoFWrwXLcY0HVmTqa13Bw</td>\n",
       "      <td>Amanda</td>\n",
       "      <td>0</td>\n",
       "      <td>2015-07-07 16:20:25</td>\n",
       "      <td>2</td>\n",
       "      <td>0</td>\n",
       "      <td></td>\n",
       "      <td>Vk7MRc1eBC9rWLYudTeueg, nO7l2G_dhnHmWeNHT-x0iA...</td>\n",
       "      <td>0</td>\n",
       "      <td>1.0</td>\n",
       "    </tr>\n",
       "  </tbody>\n",
       "</table>\n",
       "</div>"
      ],
      "text/plain": [
       "                        user_id     name  \\\n",
       "125809   AbbeFj9SPxOoHNKkeDVn6w    Janet   \n",
       "1474346  SoFv1NZbpnZdL051sVVXBA  Susanna   \n",
       "830420   0EoFWrwXLcY0HVmTqa13Bw   Amanda   \n",
       "\n",
       "         review_count        yelping_since  \\\n",
       "125809              0  2017-07-11 06:37:38   \n",
       "1474346             0  2017-09-16 21:26:12   \n",
       "830420              0  2015-07-07 16:20:25   \n",
       "\n",
       "         useful  funny elite  \\\n",
       "125809        0      2         \n",
       "1474346       0      0         \n",
       "830420        2      0         \n",
       "\n",
       "                                                   friends  \\\n",
       "125809   fwwZK_bVBK-0ovQU8XCKBQ, etlj3-oBXWZDXFaF-684NA...   \n",
       "1474346  588RSIeWljDTtZRcaGvB2w, vI2BFlKdFOpusSG4S0oEWg...   \n",
       "830420   Vk7MRc1eBC9rWLYudTeueg, nO7l2G_dhnHmWeNHT-x0iA...   \n",
       "\n",
       "         fans  average_stars  \n",
       "125809      0            1.0  \n",
       "1474346     0            5.0  \n",
       "830420      0            1.0  "
      ]
     },
     "metadata": {},
     "output_type": "display_data"
    }
   ],
   "source": [
    "dfUsers_sortedby_reviewCount = dfUsers.sort_values(by=['review_count'], ascending=False)\n",
    "topUsers = dfUsers_sortedby_reviewCount.head(3)\n",
    "bottomUsers = dfUsers_sortedby_reviewCount.tail(3)\n",
    "\n",
    "display(topUsers, bottomUsers)"
   ]
  },
  {
   "cell_type": "code",
   "execution_count": 192,
   "metadata": {},
   "outputs": [
    {
     "name": "stdout",
     "output_type": "stream",
     "text": [
      "Top 100 users Avg stars: 3.73\n",
      "Bottom 1,000 users Avg stars: 3.27\n"
     ]
    }
   ],
   "source": [
    "print( f\"Top 100 users Avg stars: {round(dfUsers_sortedby_reviewCount.iloc[:100,:]['average_stars'].mean(),2)}\")\n",
    "print( f\"Bottom 1,000 users Avg stars: {round(dfUsers_sortedby_reviewCount.iloc[-1000:,:]['average_stars'].mean(),2)}\")"
   ]
  },
  {
   "cell_type": "code",
   "execution_count": null,
   "metadata": {},
   "outputs": [],
   "source": []
  },
  {
   "cell_type": "code",
   "execution_count": null,
   "metadata": {},
   "outputs": [],
   "source": []
  },
  {
   "cell_type": "markdown",
   "metadata": {},
   "source": [
    "***\n",
    "# Reviews json"
   ]
  },
  {
   "cell_type": "markdown",
   "metadata": {},
   "source": [
    "# Data Pre-Processing: Review Text\n",
    "---\n",
    "\n",
    "## Problem Description:\n",
    "- Bin and cluster average user rating to detect and remove \"outlier\" users that preferentially give the highest or lowest possible rating.\n",
    "- Use the bag-of-words model to simplify review text (i.e. tokenize words, generate feature vectors for sentences).\n",
    "- Model review text sentiment to classify reviews as either negative, positive or neutral\n",
    "\n",
    "- Trendy foods, Time and Restaurant Category "
   ]
  },
  {
   "cell_type": "code",
   "execution_count": 24,
   "metadata": {},
   "outputs": [],
   "source": [
    "chunksize = 1000000\n",
    "reviewReader = pd.read_json(filePaths['reviews'], lines=True,\n",
    "                      dtype={'review_id':str,'user_id':str,\n",
    "                             'business_id':str,'stars':int,\n",
    "                             'date':str,'text':str,'useful':int,\n",
    "                             'funny':int,'cool':int},\n",
    "                      chunksize=chunksize)"
   ]
  },
  {
   "cell_type": "markdown",
   "metadata": {},
   "source": [
    "## Todo: Pre-Process"
   ]
  },
  {
   "cell_type": "code",
   "execution_count": null,
   "metadata": {},
   "outputs": [],
   "source": []
  },
  {
   "cell_type": "code",
   "execution_count": null,
   "metadata": {},
   "outputs": [],
   "source": []
  },
  {
   "cell_type": "code",
   "execution_count": null,
   "metadata": {},
   "outputs": [],
   "source": []
  },
  {
   "cell_type": "markdown",
   "metadata": {},
   "source": [
    "***\n",
    "## Merge json files: Reviews + Restaurants\n",
    "> only combining reviews data relevant to businesses in our restaurants dataset\n",
    "***"
   ]
  },
  {
   "cell_type": "code",
   "execution_count": 25,
   "metadata": {},
   "outputs": [
    {
     "name": "stdout",
     "output_type": "stream",
     "text": [
      "687736 merged out of 1,000,000 reviews\n",
      "689432 merged out of 1,000,000 reviews\n",
      "687518 merged out of 1,000,000 reviews\n",
      "683562 merged out of 1,000,000 reviews\n",
      "678753 merged out of 1,000,000 reviews\n",
      "690264 merged out of 1,000,000 reviews\n",
      "691960 merged out of 1,000,000 reviews\n",
      "677194 merged out of 1,000,000 reviews\n",
      "12134 merged out of 1,000,000 reviews\n"
     ]
    }
   ],
   "source": [
    "# Collect all df chunks \n",
    "chunk_list = []\n",
    "for reviewChunk in reviewReader:\n",
    "    reviewChunk = reviewChunk.drop(['review_id','useful','funny','cool'], axis=1)\n",
    "    reviewChunk = reviewChunk.rename(columns={'stars': 'review_stars'})\n",
    "    # Inner merge to obtain reviews for only restaurant\n",
    "    chunk_merged = pd.merge(restaurantsTrimmed, reviewChunk, on='business_id', how='inner')\n",
    "    # Show feedback on progress\n",
    "    print(f\"{chunk_merged.shape[0]} merged out of {chunksize:,} reviews\")\n",
    "    chunk_list.append(chunk_merged)"
   ]
  },
  {
   "cell_type": "code",
   "execution_count": 26,
   "metadata": {},
   "outputs": [
    {
     "name": "stdout",
     "output_type": "stream",
     "text": [
      "<class 'pandas.core.frame.DataFrame'>\n",
      "RangeIndex: 5498553 entries, 0 to 5498552\n",
      "Data columns (total 18 columns):\n",
      " #   Column        Dtype  \n",
      "---  ------        -----  \n",
      " 0   business_id   object \n",
      " 1   name          object \n",
      " 2   address       object \n",
      " 3   city          object \n",
      " 4   state         object \n",
      " 5   postal_code   object \n",
      " 6   latitude      float64\n",
      " 7   longitude     float64\n",
      " 8   stars         float64\n",
      " 9   review_count  int64  \n",
      " 10  is_open       int64  \n",
      " 11  attributes    object \n",
      " 12  categories    object \n",
      " 13  hours         object \n",
      " 14  user_id       object \n",
      " 15  review_stars  int32  \n",
      " 16  text          object \n",
      " 17  date          object \n",
      "dtypes: float64(3), int32(1), int64(2), object(12)\n",
      "memory usage: 734.1+ MB\n"
     ]
    }
   ],
   "source": [
    "# concat all dataframe chunks into 1 dataframe\n",
    "restaurants_reviews_df = pd.concat(chunk_list, ignore_index=True, axis=0)\n",
    "restaurants_reviews_df.info()"
   ]
  },
  {
   "cell_type": "code",
   "execution_count": null,
   "metadata": {},
   "outputs": [],
   "source": []
  },
  {
   "cell_type": "code",
   "execution_count": null,
   "metadata": {},
   "outputs": [],
   "source": []
  },
  {
   "cell_type": "code",
   "execution_count": null,
   "metadata": {},
   "outputs": [],
   "source": []
  },
  {
   "cell_type": "markdown",
   "metadata": {},
   "source": [
    "### City Distribution"
   ]
  },
  {
   "cell_type": "code",
   "execution_count": 202,
   "metadata": {},
   "outputs": [
    {
     "data": {
      "text/html": [
       "<div>\n",
       "<style scoped>\n",
       "    .dataframe tbody tr th:only-of-type {\n",
       "        vertical-align: middle;\n",
       "    }\n",
       "\n",
       "    .dataframe tbody tr th {\n",
       "        vertical-align: top;\n",
       "    }\n",
       "\n",
       "    .dataframe thead th {\n",
       "        text-align: right;\n",
       "    }\n",
       "</style>\n",
       "<table border=\"1\" class=\"dataframe\">\n",
       "  <thead>\n",
       "    <tr style=\"text-align: right;\">\n",
       "      <th></th>\n",
       "      <th>city</th>\n",
       "      <th>count</th>\n",
       "    </tr>\n",
       "  </thead>\n",
       "  <tbody>\n",
       "    <tr>\n",
       "      <th>0</th>\n",
       "      <td>Las Vegas</td>\n",
       "      <td>1609318</td>\n",
       "    </tr>\n",
       "    <tr>\n",
       "      <th>1</th>\n",
       "      <td>Phoenix</td>\n",
       "      <td>550164</td>\n",
       "    </tr>\n",
       "    <tr>\n",
       "      <th>2</th>\n",
       "      <td>Toronto</td>\n",
       "      <td>483619</td>\n",
       "    </tr>\n",
       "    <tr>\n",
       "      <th>3</th>\n",
       "      <td>Scottsdale</td>\n",
       "      <td>294496</td>\n",
       "    </tr>\n",
       "    <tr>\n",
       "      <th>4</th>\n",
       "      <td>Charlotte</td>\n",
       "      <td>283581</td>\n",
       "    </tr>\n",
       "    <tr>\n",
       "      <th>5</th>\n",
       "      <td>Pittsburgh</td>\n",
       "      <td>212637</td>\n",
       "    </tr>\n",
       "    <tr>\n",
       "      <th>6</th>\n",
       "      <td>Henderson</td>\n",
       "      <td>156332</td>\n",
       "    </tr>\n",
       "    <tr>\n",
       "      <th>7</th>\n",
       "      <td>Tempe</td>\n",
       "      <td>153852</td>\n",
       "    </tr>\n",
       "    <tr>\n",
       "      <th>8</th>\n",
       "      <td>Montréal</td>\n",
       "      <td>150174</td>\n",
       "    </tr>\n",
       "    <tr>\n",
       "      <th>9</th>\n",
       "      <td>Mesa</td>\n",
       "      <td>120877</td>\n",
       "    </tr>\n",
       "  </tbody>\n",
       "</table>\n",
       "</div>"
      ],
      "text/plain": [
       "         city    count\n",
       "0   Las Vegas  1609318\n",
       "1     Phoenix   550164\n",
       "2     Toronto   483619\n",
       "3  Scottsdale   294496\n",
       "4   Charlotte   283581\n",
       "5  Pittsburgh   212637\n",
       "6   Henderson   156332\n",
       "7       Tempe   153852\n",
       "8    Montréal   150174\n",
       "9        Mesa   120877"
      ]
     },
     "execution_count": 202,
     "metadata": {},
     "output_type": "execute_result"
    }
   ],
   "source": [
    "restaurant_city = restaurants_reviews_df.city.value_counts().reset_index()\n",
    "restaurant_city.columns = ['city', 'count']\n",
    "restaurant_city.head(10)"
   ]
  },
  {
   "cell_type": "code",
   "execution_count": null,
   "metadata": {},
   "outputs": [],
   "source": []
  },
  {
   "cell_type": "code",
   "execution_count": null,
   "metadata": {},
   "outputs": [],
   "source": []
  },
  {
   "cell_type": "markdown",
   "metadata": {},
   "source": [
    "### Which cities have the best ```<category>``` ? "
   ]
  },
  {
   "cell_type": "code",
   "execution_count": 27,
   "metadata": {},
   "outputs": [],
   "source": [
    "pd.set_option('display.max_colwidth', 50)"
   ]
  },
  {
   "cell_type": "code",
   "execution_count": 28,
   "metadata": {},
   "outputs": [
    {
     "data": {
      "text/html": [
       "<div>\n",
       "<style scoped>\n",
       "    .dataframe tbody tr th:only-of-type {\n",
       "        vertical-align: middle;\n",
       "    }\n",
       "\n",
       "    .dataframe tbody tr th {\n",
       "        vertical-align: top;\n",
       "    }\n",
       "\n",
       "    .dataframe thead th {\n",
       "        text-align: right;\n",
       "    }\n",
       "</style>\n",
       "<table border=\"1\" class=\"dataframe\">\n",
       "  <thead>\n",
       "    <tr style=\"text-align: right;\">\n",
       "      <th></th>\n",
       "      <th>business_id</th>\n",
       "      <th>name</th>\n",
       "      <th>address</th>\n",
       "      <th>city</th>\n",
       "      <th>state</th>\n",
       "      <th>postal_code</th>\n",
       "      <th>latitude</th>\n",
       "      <th>longitude</th>\n",
       "      <th>stars</th>\n",
       "      <th>review_count</th>\n",
       "      <th>is_open</th>\n",
       "      <th>attributes</th>\n",
       "      <th>categories</th>\n",
       "      <th>hours</th>\n",
       "    </tr>\n",
       "  </thead>\n",
       "  <tbody>\n",
       "    <tr>\n",
       "      <th>8</th>\n",
       "      <td>pQeaRpvuhoEqudo3uymHIQ</td>\n",
       "      <td>The Empanadas House</td>\n",
       "      <td>404 E Green St</td>\n",
       "      <td>Champaign</td>\n",
       "      <td>IL</td>\n",
       "      <td>61820</td>\n",
       "      <td>40.110446</td>\n",
       "      <td>-88.233073</td>\n",
       "      <td>4.5</td>\n",
       "      <td>5</td>\n",
       "      <td>1</td>\n",
       "      <td>{'RestaurantsAttire': 'u'casual'', 'Restaurant...</td>\n",
       "      <td>Ethnic Food, Food Trucks, Specialty Food, Impo...</td>\n",
       "      <td>{'Monday': '11:30-14:30', 'Tuesday': '11:30-14...</td>\n",
       "    </tr>\n",
       "    <tr>\n",
       "      <th>12</th>\n",
       "      <td>M_guz7Dj7hX0evS672wIwA</td>\n",
       "      <td>Chocolate Shoppe Ice Cream</td>\n",
       "      <td>2831 Parmenter St</td>\n",
       "      <td>Middleton</td>\n",
       "      <td>WI</td>\n",
       "      <td>53562</td>\n",
       "      <td>43.105310</td>\n",
       "      <td>-89.510142</td>\n",
       "      <td>3.5</td>\n",
       "      <td>6</td>\n",
       "      <td>1</td>\n",
       "      <td>{'BikeParking': 'True', 'Caters': 'True', 'Whe...</td>\n",
       "      <td>Desserts, Food, Ice Cream &amp; Frozen Yogurt</td>\n",
       "      <td>{'Monday': '0:0-0:0', 'Tuesday': '11:0-21:0', ...</td>\n",
       "    </tr>\n",
       "    <tr>\n",
       "      <th>20</th>\n",
       "      <td>CsLQLiRoafpJPJSkNX2h5Q</td>\n",
       "      <td>Middle East Deli</td>\n",
       "      <td>4508 E Independence Blvd</td>\n",
       "      <td>Charlotte</td>\n",
       "      <td>NC</td>\n",
       "      <td>28205</td>\n",
       "      <td>35.194894</td>\n",
       "      <td>-80.767442</td>\n",
       "      <td>3.0</td>\n",
       "      <td>5</td>\n",
       "      <td>0</td>\n",
       "      <td>{'RestaurantsGoodForGroups': 'True', 'OutdoorS...</td>\n",
       "      <td>Food, Restaurants, Grocery, Middle Eastern</td>\n",
       "      <td>None</td>\n",
       "    </tr>\n",
       "    <tr>\n",
       "      <th>23</th>\n",
       "      <td>mKTq1T_IAplDpHUcMzOXkw</td>\n",
       "      <td>Tipsy Ryde</td>\n",
       "      <td></td>\n",
       "      <td>Gastonia</td>\n",
       "      <td>NC</td>\n",
       "      <td>28054</td>\n",
       "      <td>35.252842</td>\n",
       "      <td>-81.152698</td>\n",
       "      <td>3.5</td>\n",
       "      <td>3</td>\n",
       "      <td>1</td>\n",
       "      <td>{'BusinessAcceptsCreditCards': 'True'}</td>\n",
       "      <td>Hotels &amp; Travel, Transportation, Taxis, Beer, ...</td>\n",
       "      <td>{'Monday': '0:0-0:0', 'Tuesday': '9:0-0:0', 'W...</td>\n",
       "    </tr>\n",
       "    <tr>\n",
       "      <th>24</th>\n",
       "      <td>eBEfgOPG7pvFhb2wcG9I7w</td>\n",
       "      <td>Philthy Phillys</td>\n",
       "      <td>15480 Bayview Avenue, unit D0110</td>\n",
       "      <td>Aurora</td>\n",
       "      <td>ON</td>\n",
       "      <td>L4G 7J1</td>\n",
       "      <td>44.010962</td>\n",
       "      <td>-79.448677</td>\n",
       "      <td>4.5</td>\n",
       "      <td>4</td>\n",
       "      <td>1</td>\n",
       "      <td>{'RestaurantsTableService': 'False', 'Restaura...</td>\n",
       "      <td>Restaurants, Cheesesteaks, Poutineries</td>\n",
       "      <td>{'Monday': '11:0-22:0', 'Tuesday': '11:0-22:0'...</td>\n",
       "    </tr>\n",
       "  </tbody>\n",
       "</table>\n",
       "</div>"
      ],
      "text/plain": [
       "               business_id                        name  \\\n",
       "8   pQeaRpvuhoEqudo3uymHIQ         The Empanadas House   \n",
       "12  M_guz7Dj7hX0evS672wIwA  Chocolate Shoppe Ice Cream   \n",
       "20  CsLQLiRoafpJPJSkNX2h5Q            Middle East Deli   \n",
       "23  mKTq1T_IAplDpHUcMzOXkw                  Tipsy Ryde   \n",
       "24  eBEfgOPG7pvFhb2wcG9I7w             Philthy Phillys   \n",
       "\n",
       "                             address       city state postal_code   latitude  \\\n",
       "8                     404 E Green St  Champaign    IL       61820  40.110446   \n",
       "12                 2831 Parmenter St  Middleton    WI       53562  43.105310   \n",
       "20          4508 E Independence Blvd  Charlotte    NC       28205  35.194894   \n",
       "23                                     Gastonia    NC       28054  35.252842   \n",
       "24  15480 Bayview Avenue, unit D0110     Aurora    ON     L4G 7J1  44.010962   \n",
       "\n",
       "    longitude  stars  review_count  is_open  \\\n",
       "8  -88.233073    4.5             5        1   \n",
       "12 -89.510142    3.5             6        1   \n",
       "20 -80.767442    3.0             5        0   \n",
       "23 -81.152698    3.5             3        1   \n",
       "24 -79.448677    4.5             4        1   \n",
       "\n",
       "                                           attributes  \\\n",
       "8   {'RestaurantsAttire': 'u'casual'', 'Restaurant...   \n",
       "12  {'BikeParking': 'True', 'Caters': 'True', 'Whe...   \n",
       "20  {'RestaurantsGoodForGroups': 'True', 'OutdoorS...   \n",
       "23             {'BusinessAcceptsCreditCards': 'True'}   \n",
       "24  {'RestaurantsTableService': 'False', 'Restaura...   \n",
       "\n",
       "                                           categories  \\\n",
       "8   Ethnic Food, Food Trucks, Specialty Food, Impo...   \n",
       "12          Desserts, Food, Ice Cream & Frozen Yogurt   \n",
       "20         Food, Restaurants, Grocery, Middle Eastern   \n",
       "23  Hotels & Travel, Transportation, Taxis, Beer, ...   \n",
       "24             Restaurants, Cheesesteaks, Poutineries   \n",
       "\n",
       "                                                hours  \n",
       "8   {'Monday': '11:30-14:30', 'Tuesday': '11:30-14...  \n",
       "12  {'Monday': '0:0-0:0', 'Tuesday': '11:0-21:0', ...  \n",
       "20                                               None  \n",
       "23  {'Monday': '0:0-0:0', 'Tuesday': '9:0-0:0', 'W...  \n",
       "24  {'Monday': '11:0-22:0', 'Tuesday': '11:0-22:0'...  "
      ]
     },
     "execution_count": 28,
     "metadata": {},
     "output_type": "execute_result"
    }
   ],
   "source": [
    "restaurantsTrimmed.head()\n",
    "# dfCities = restaurantsTrimmed[[]]"
   ]
  },
  {
   "cell_type": "code",
   "execution_count": null,
   "metadata": {},
   "outputs": [],
   "source": []
  },
  {
   "cell_type": "code",
   "execution_count": null,
   "metadata": {},
   "outputs": [],
   "source": []
  },
  {
   "cell_type": "code",
   "execution_count": null,
   "metadata": {},
   "outputs": [],
   "source": []
  },
  {
   "cell_type": "markdown",
   "metadata": {},
   "source": [
    "# Reviews: Text Features"
   ]
  },
  {
   "cell_type": "code",
   "execution_count": null,
   "metadata": {},
   "outputs": [],
   "source": []
  },
  {
   "cell_type": "code",
   "execution_count": null,
   "metadata": {},
   "outputs": [],
   "source": []
  },
  {
   "cell_type": "code",
   "execution_count": null,
   "metadata": {},
   "outputs": [],
   "source": []
  },
  {
   "cell_type": "markdown",
   "metadata": {},
   "source": [
    "## Todo: Data integration\n",
    "\n",
    "> Compile all .json files into a relational database to improve accessibility.\n"
   ]
  }
 ],
 "metadata": {
  "kernelspec": {
   "display_name": "venv",
   "language": "python",
   "name": "venv"
  },
  "language_info": {
   "codemirror_mode": {
    "name": "ipython",
    "version": 3
   },
   "file_extension": ".py",
   "mimetype": "text/x-python",
   "name": "python",
   "nbconvert_exporter": "python",
   "pygments_lexer": "ipython3",
   "version": "3.9.2"
  }
 },
 "nbformat": 4,
 "nbformat_minor": 4
}
