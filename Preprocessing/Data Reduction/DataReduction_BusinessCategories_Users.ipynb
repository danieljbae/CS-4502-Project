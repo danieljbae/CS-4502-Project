{
 "cells": [
  {
   "cell_type": "code",
   "execution_count": 17,
   "metadata": {},
   "outputs": [],
   "source": [
    "import pandas as pd\n",
    "import re\n",
    "import itertools \n",
    "import numpy as np\n",
    "import seaborn as sns\n",
    "import matplotlib.pyplot as plt\n",
    "from IPython.display import display, HTML, display_html"
   ]
  },
  {
   "cell_type": "code",
   "execution_count": 18,
   "metadata": {},
   "outputs": [],
   "source": [
    "# Do not truncate column content and show all columns\n",
    "pd.set_option('display.max_colwidth', None)\n",
    "\n",
    "# Update output cell format to display mutliple objects (dataframes)\n",
    "# https://stackoverflow.com/questions/38783027/jupyter-notebook-display-two-pandas-tables-side-by-side\n",
    "def display_side_by_side(*args,titles=cycle([''])):\n",
    "    html_str=''\n",
    "    for df,title in zip(args, chain(titles,cycle(['</br>'])) ):\n",
    "        html_str+='<th style=\"text-align:center\"><td style=\"vertical-align:top\">'\n",
    "        html_str+=f'<h4>{title}</h4>'\n",
    "        html_str+=df.to_html().replace('table','table style=\"display:inline\"')\n",
    "        html_str+='</td></th>'\n",
    "    display_html(html_str,raw=True)"
   ]
  },
  {
   "cell_type": "code",
   "execution_count": 3,
   "metadata": {},
   "outputs": [],
   "source": [
    "prefix = '../../data/'\n",
    "filePaths = {\n",
    "    \"reviews\": prefix + 'yelp_academic_dataset_review.json',\n",
    "    \"businesses\": prefix + 'yelp_academic_dataset_business.json',\n",
    "    \"checkins\": prefix + 'yelp_academic_dataset_checkin.json',\n",
    "    \"tips\": prefix + 'yelp_academic_dataset_tip.json',\n",
    "    \"users\": prefix + 'yelp_academic_dataset_user.json'\n",
    "}"
   ]
  },
  {
   "cell_type": "markdown",
   "metadata": {},
   "source": [
    "---\n",
    "\n",
    "# Businesses json\n",
    "## Data Pre-Processing: Removing Unrelated Business Categories\n",
    "\n",
    "---\n",
    "\n",
    "## Problem Description:\n",
    "* The dataset ```yelp_academic_dataset_business.json``` has many business categories unrelated to food reviews.\n",
    "* Since our project focuses on food review text, we need to identify and remove unrelated business categories from our dataset during preprocessing."
   ]
  },
  {
   "cell_type": "markdown",
   "metadata": {},
   "source": [
    "___"
   ]
  },
  {
   "cell_type": "code",
   "execution_count": 4,
   "metadata": {},
   "outputs": [],
   "source": [
    "# Create a dataframe containing all business categories\n",
    "dfBusiness = pd.read_json(\n",
    "    filePaths[\"businesses\"], \n",
    "    lines=True\n",
    ")"
   ]
  },
  {
   "cell_type": "markdown",
   "metadata": {},
   "source": [
    "## Business Categories Documentation:\n",
    "\n",
    "* The yelp developer documentation has a businesses [category list](https://www.yelp.com/developers/documentation/v3/category_list). \n",
    "\n",
    "\n",
    "* The category```Restaurant (restaurant)``` sub-divides into cuisine types, e.g.: \n",
    "    * Soul Food\n",
    "    * Tapas\n",
    "    * ...\n",
    "\n",
    "\n",
    "* The category```Food (food)``` sub-divides into food vendors, e.g.:\n",
    "    * Gelato\n",
    "    * Food Trucks\n",
    "    * ...\n",
    "    \n",
    "\n",
    "* We should be good to go by just filtering out all businesses that do not contain 'Food' or 'Restaurant' using regular expressions.\n",
    "\n",
    "---\n"
   ]
  },
  {
   "cell_type": "markdown",
   "metadata": {},
   "source": [
    "## Solution 1: "
   ]
  },
  {
   "cell_type": "code",
   "execution_count": 5,
   "metadata": {},
   "outputs": [],
   "source": [
    "def regexMask():\n",
    "    # Use the regular expression above to create a boolean mask for each row in the dataframe. Note: na=False also filters NaN values\n",
    "    boolMask = dfBusiness['categories'].str.contains(r'\\bfood\\b|\\brestaurants\\b',flags=re.IGNORECASE, na=False)\n",
    "#     print(boolMask[:5])\n",
    "\n",
    "    # Apply the boolean mask to filter out all unrelated business categories\n",
    "    restaurants = dfBusiness[boolMask]\n",
    "    return restaurants"
   ]
  },
  {
   "cell_type": "markdown",
   "metadata": {},
   "source": [
    "---\n",
    "\n",
    "## Solution 2:\n",
    "\n",
    "* Similar to solution 1: Use regex and bool mask but code may be more readable"
   ]
  },
  {
   "cell_type": "code",
   "execution_count": 6,
   "metadata": {},
   "outputs": [],
   "source": [
    "def containsMask():\n",
    "    # Filter the original dataframe categories using a bool mask for 'Restaurants' or 'Food' and str.contains()\n",
    "    restaurants = dfBusiness[\n",
    "            (dfBusiness['categories'].str.contains('Restaurants')==True) | \n",
    "            (dfBusiness['categories'].str.contains('Food')==True) \n",
    "    ]\n",
    "    return restaurants"
   ]
  },
  {
   "cell_type": "markdown",
   "metadata": {},
   "source": [
    "### Performance Comparison"
   ]
  },
  {
   "cell_type": "markdown",
   "metadata": {},
   "source": [
    "`%timeit -n100 -r3 <statement>`\n",
    "> The statement will get executed 3 times * 100 loops per execution = 300 times"
   ]
  },
  {
   "cell_type": "code",
   "execution_count": 7,
   "metadata": {},
   "outputs": [
    {
     "name": "stdout",
     "output_type": "stream",
     "text": [
      "319 ms ± 1.57 ms per loop (mean ± std. dev. of 3 runs, 20 loops each)\n",
      "196 ms ± 1.16 ms per loop (mean ± std. dev. of 3 runs, 20 loops each)\n"
     ]
    }
   ],
   "source": [
    "%timeit -n20 -r3 regexMask()\n",
    "%timeit -n20 -r3 containsMask()"
   ]
  },
  {
   "cell_type": "code",
   "execution_count": 7,
   "metadata": {},
   "outputs": [],
   "source": [
    "restaurants = containsMask()"
   ]
  },
  {
   "cell_type": "markdown",
   "metadata": {},
   "source": [
    "## Examining Restaurant Categories\n",
    "\n",
    "- Removing some low-hanging False Positives (see commented example below)\n",
    "\n",
    "> Restaurants dataset: business containing either \"Restaurants\" or \"Food\" as a category\n",
    "\n",
    "___\n",
    "\n",
    "***Run by Group:***\n",
    "- Potentially take subsets of restaurants with high category frequency"
   ]
  },
  {
   "cell_type": "code",
   "execution_count": 8,
   "metadata": {},
   "outputs": [],
   "source": [
    "# Explode takes column that contains list values, and expand into multiple rows\n",
    "dfExploded = restaurants.assign(categories = restaurants.categories.str.split(', ')).explode('categories')\n",
    "dfCategoryCount = dfExploded.categories.value_counts().reset_index()\n",
    "dfCategoryCount.columns = ['categories', 'count']"
   ]
  },
  {
   "cell_type": "code",
   "execution_count": 9,
   "metadata": {},
   "outputs": [
    {
     "data": {
      "text/html": [
       "<th style=\"text-align:center\"><td style=\"vertical-align:top\"><h4>Top 5 Restaurant Categories</h4><table style=\"display:inline\" border=\"1\" class=\"dataframe\">\n",
       "  <thead>\n",
       "    <tr style=\"text-align: right;\">\n",
       "      <th></th>\n",
       "      <th>categories</th>\n",
       "      <th>count</th>\n",
       "    </tr>\n",
       "  </thead>\n",
       "  <tbody>\n",
       "    <tr>\n",
       "      <th>0</th>\n",
       "      <td>Restaurants</td>\n",
       "      <td>63944</td>\n",
       "    </tr>\n",
       "    <tr>\n",
       "      <th>1</th>\n",
       "      <td>Food</td>\n",
       "      <td>32991</td>\n",
       "    </tr>\n",
       "    <tr>\n",
       "      <th>2</th>\n",
       "      <td>Nightlife</td>\n",
       "      <td>9962</td>\n",
       "    </tr>\n",
       "    <tr>\n",
       "      <th>3</th>\n",
       "      <td>Bars</td>\n",
       "      <td>9490</td>\n",
       "    </tr>\n",
       "    <tr>\n",
       "      <th>4</th>\n",
       "      <td>Coffee &amp; Tea</td>\n",
       "      <td>8415</td>\n",
       "    </tr>\n",
       "  </tbody>\n",
       "</table style=\"display:inline\"></td></th><th style=\"text-align:center\"><td style=\"vertical-align:top\"><h4>Bottom 5 Restaurant Categories</h4><table style=\"display:inline\" border=\"1\" class=\"dataframe\">\n",
       "  <thead>\n",
       "    <tr style=\"text-align: right;\">\n",
       "      <th></th>\n",
       "      <th>categories</th>\n",
       "      <th>count</th>\n",
       "    </tr>\n",
       "  </thead>\n",
       "  <tbody>\n",
       "    <tr>\n",
       "      <th>919</th>\n",
       "      <td>Synagogues</td>\n",
       "      <td>1</td>\n",
       "    </tr>\n",
       "    <tr>\n",
       "      <th>920</th>\n",
       "      <td>Data Recovery</td>\n",
       "      <td>1</td>\n",
       "    </tr>\n",
       "    <tr>\n",
       "      <th>921</th>\n",
       "      <td>Golf Cart Rentals</td>\n",
       "      <td>1</td>\n",
       "    </tr>\n",
       "    <tr>\n",
       "      <th>922</th>\n",
       "      <td>Cardiologists</td>\n",
       "      <td>1</td>\n",
       "    </tr>\n",
       "    <tr>\n",
       "      <th>923</th>\n",
       "      <td>Sleep Specialists</td>\n",
       "      <td>1</td>\n",
       "    </tr>\n",
       "  </tbody>\n",
       "</table style=\"display:inline\"></td></th>"
      ]
     },
     "metadata": {},
     "output_type": "display_data"
    }
   ],
   "source": [
    "topCategories = dfCategoryCount.head(5)\n",
    "bottomCategories = dfCategoryCount.tail(5)\n",
    "\n",
    "display_side_by_side(topCategories, bottomCategories, titles=[f'Top {len(topCategories)} Restaurant Categories',f'Bottom {len(bottomCategories)} Restaurant Categories'])"
   ]
  },
  {
   "cell_type": "markdown",
   "metadata": {},
   "source": [
    "#### Examples of False Positives in Restaurants"
   ]
  },
  {
   "cell_type": "code",
   "execution_count": 60,
   "metadata": {},
   "outputs": [],
   "source": [
    "## Example of categories with count of 1 \n",
    "# dfCategoryCount.loc[dfCategoryCount['count']==1].head()\n",
    "\n",
    "## Examining how a company with 'software Dev' got passed restaurant filter\n",
    "# seriesExploded.loc[seriesExploded['categories']=='Software Development']\n",
    "\n",
    "## Examining all categories of this business: Software Development, Restaurant, Windows Installation, etc.\n",
    "# seriesExploded.loc[seriesExploded['name']=='Panda Windows & Doors']"
   ]
  },
  {
   "cell_type": "markdown",
   "metadata": {},
   "source": [
    "### Removing Restaurants: with category count of 1 "
   ]
  },
  {
   "cell_type": "code",
   "execution_count": 10,
   "metadata": {},
   "outputs": [],
   "source": [
    "# collect all categories with count less than 1\n",
    "categoriestoDrop = set(dfCategoryCount.loc[dfCategoryCount['count'] == 1]['categories'])\n",
    "\n",
    "# collect and drop restaurants whose category count is less than 1\n",
    "restaurantstoDrop = set(dfExploded[dfExploded['categories'].isin(categoriestoDrop)]['business_id'])\n",
    "restaurantsTrimmed = restaurants[~restaurants['business_id'].isin(restaurantstoDrop)]"
   ]
  },
  {
   "cell_type": "code",
   "execution_count": 11,
   "metadata": {},
   "outputs": [
    {
     "name": "stdout",
     "output_type": "stream",
     "text": [
      "# of Businesses dropped from restaurants: 163, out of 80492\n"
     ]
    }
   ],
   "source": [
    "print(f'# of Businesses dropped from restaurants: {len(restaurants)-len(restaurantsTrimmed)}, out of {len(restaurants)}')"
   ]
  },
  {
   "cell_type": "markdown",
   "metadata": {},
   "source": [
    "---\n",
    "\n",
    "## Export to JSON\n",
    "\n",
    "* Apply the restaurant filter to all datapoints in ```yelp_academic_dataset_business.json``` then export the processed data as a JSON "
   ]
  },
  {
   "cell_type": "code",
   "execution_count": 12,
   "metadata": {},
   "outputs": [],
   "source": [
    "# Export to JSON\n",
    "restaurantsTrimmed.to_json(r'yelp_academic_dataset_restaurants.json')"
   ]
  },
  {
   "cell_type": "markdown",
   "metadata": {},
   "source": [
    "## Summary:\n",
    "    \n",
    "* According to the Yelp developer documentation, regular expressions should be sufficient to remove unrelated business categories from our dataset.\n",
    "\n",
    "* If our data set were not structured and well documented, we would likely need to consider a classification technique for businesses such as **Named Entiy Recognition (NER)**.\n"
   ]
  },
  {
   "cell_type": "markdown",
   "metadata": {},
   "source": [
    "***\n",
    "# Users json\n",
    "\n",
    "## Data Pre-Processing: User Features and Users\n",
    "\n",
    "---\n",
    "\n",
    "## Problem Description:\n",
    "* Remove redundant attributes through correlation analysis\n",
    "* Normalize user attributes"
   ]
  },
  {
   "cell_type": "markdown",
   "metadata": {},
   "source": [
    "## Reduce User attributes"
   ]
  },
  {
   "cell_type": "code",
   "execution_count": 23,
   "metadata": {},
   "outputs": [],
   "source": [
    "userReader = pd.read_json(\n",
    "    filePaths[\"users\"], \n",
    "    lines=True,\n",
    "    chunksize=100000 # Dataframe size\n",
    ")"
   ]
  },
  {
   "cell_type": "markdown",
   "metadata": {},
   "source": [
    "### Correlation Analysis on attributes (Pearson correlation coefficient)"
   ]
  },
  {
   "cell_type": "code",
   "execution_count": 24,
   "metadata": {},
   "outputs": [],
   "source": [
    "for df in itertools.islice(userReader, 1):\n",
    "    df = df.filter(items=['useful', 'funny', 'cool', 'fans',\n",
    "                          'compliment_hot', 'compliment_more', 'compliment_profile', 'compliment_cute', \n",
    "                          'compliment_list', 'compliment_note','compliment_plain','compliment_cool', \n",
    "                          'compliment_funny','compliment_writer','compliment_photos'])"
   ]
  },
  {
   "cell_type": "code",
   "execution_count": 41,
   "metadata": {},
   "outputs": [
    {
     "data": {
      "image/png": "[encoded data removed]",
      "text/plain": [
       "<Figure size 432x288 with 2 Axes>"
      ]
     },
     "metadata": {
      "needs_background": "light"
     },
     "output_type": "display_data"
    },
    {
     "data": {
      "text/plain": [
       "None"
      ]
     },
     "metadata": {},
     "output_type": "display_data"
    },
    {
     "data": {
      "text/html": [
       "<div>\n",
       "<style scoped>\n",
       "    .dataframe tbody tr th:only-of-type {\n",
       "        vertical-align: middle;\n",
       "    }\n",
       "\n",
       "    .dataframe tbody tr th {\n",
       "        vertical-align: top;\n",
       "    }\n",
       "\n",
       "    .dataframe thead th {\n",
       "        text-align: right;\n",
       "    }\n",
       "</style>\n",
       "<table border=\"1\" class=\"dataframe\">\n",
       "  <thead>\n",
       "    <tr style=\"text-align: right;\">\n",
       "      <th></th>\n",
       "      <th>useful</th>\n",
       "      <th>funny</th>\n",
       "      <th>cool</th>\n",
       "      <th>fans</th>\n",
       "      <th>compliment_hot</th>\n",
       "      <th>compliment_more</th>\n",
       "      <th>compliment_profile</th>\n",
       "      <th>compliment_cute</th>\n",
       "      <th>compliment_list</th>\n",
       "      <th>compliment_note</th>\n",
       "      <th>compliment_plain</th>\n",
       "      <th>compliment_cool</th>\n",
       "      <th>compliment_funny</th>\n",
       "      <th>compliment_writer</th>\n",
       "      <th>compliment_photos</th>\n",
       "    </tr>\n",
       "  </thead>\n",
       "  <tbody>\n",
       "    <tr>\n",
       "      <th>useful</th>\n",
       "      <td>1.000000</td>\n",
       "      <td>0.964429</td>\n",
       "      <td>0.990598</td>\n",
       "      <td>0.800100</td>\n",
       "      <td>0.676497</td>\n",
       "      <td>0.590853</td>\n",
       "      <td>0.412548</td>\n",
       "      <td>0.438856</td>\n",
       "      <td>0.344067</td>\n",
       "      <td>0.750283</td>\n",
       "      <td>0.703319</td>\n",
       "      <td>0.775660</td>\n",
       "      <td>0.775660</td>\n",
       "      <td>0.778985</td>\n",
       "      <td>0.541254</td>\n",
       "    </tr>\n",
       "    <tr>\n",
       "      <th>funny</th>\n",
       "      <td>0.964429</td>\n",
       "      <td>1.000000</td>\n",
       "      <td>0.979204</td>\n",
       "      <td>0.749508</td>\n",
       "      <td>0.715929</td>\n",
       "      <td>0.618694</td>\n",
       "      <td>0.440731</td>\n",
       "      <td>0.469765</td>\n",
       "      <td>0.357368</td>\n",
       "      <td>0.755032</td>\n",
       "      <td>0.686609</td>\n",
       "      <td>0.798937</td>\n",
       "      <td>0.798937</td>\n",
       "      <td>0.800462</td>\n",
       "      <td>0.582671</td>\n",
       "    </tr>\n",
       "    <tr>\n",
       "      <th>cool</th>\n",
       "      <td>0.990598</td>\n",
       "      <td>0.979204</td>\n",
       "      <td>1.000000</td>\n",
       "      <td>0.765961</td>\n",
       "      <td>0.700247</td>\n",
       "      <td>0.596475</td>\n",
       "      <td>0.420534</td>\n",
       "      <td>0.446676</td>\n",
       "      <td>0.341227</td>\n",
       "      <td>0.747148</td>\n",
       "      <td>0.696675</td>\n",
       "      <td>0.793365</td>\n",
       "      <td>0.793365</td>\n",
       "      <td>0.785179</td>\n",
       "      <td>0.564949</td>\n",
       "    </tr>\n",
       "    <tr>\n",
       "      <th>fans</th>\n",
       "      <td>0.800100</td>\n",
       "      <td>0.749508</td>\n",
       "      <td>0.765961</td>\n",
       "      <td>1.000000</td>\n",
       "      <td>0.579987</td>\n",
       "      <td>0.503817</td>\n",
       "      <td>0.354003</td>\n",
       "      <td>0.475781</td>\n",
       "      <td>0.341401</td>\n",
       "      <td>0.718988</td>\n",
       "      <td>0.741951</td>\n",
       "      <td>0.672836</td>\n",
       "      <td>0.672836</td>\n",
       "      <td>0.663137</td>\n",
       "      <td>0.427317</td>\n",
       "    </tr>\n",
       "    <tr>\n",
       "      <th>compliment_hot</th>\n",
       "      <td>0.676497</td>\n",
       "      <td>0.715929</td>\n",
       "      <td>0.700247</td>\n",
       "      <td>0.579987</td>\n",
       "      <td>1.000000</td>\n",
       "      <td>0.747986</td>\n",
       "      <td>0.640863</td>\n",
       "      <td>0.723005</td>\n",
       "      <td>0.485924</td>\n",
       "      <td>0.844187</td>\n",
       "      <td>0.735904</td>\n",
       "      <td>0.931059</td>\n",
       "      <td>0.931059</td>\n",
       "      <td>0.883451</td>\n",
       "      <td>0.797463</td>\n",
       "    </tr>\n",
       "    <tr>\n",
       "      <th>compliment_more</th>\n",
       "      <td>0.590853</td>\n",
       "      <td>0.618694</td>\n",
       "      <td>0.596475</td>\n",
       "      <td>0.503817</td>\n",
       "      <td>0.747986</td>\n",
       "      <td>1.000000</td>\n",
       "      <td>0.931205</td>\n",
       "      <td>0.795233</td>\n",
       "      <td>0.846183</td>\n",
       "      <td>0.820796</td>\n",
       "      <td>0.609691</td>\n",
       "      <td>0.750316</td>\n",
       "      <td>0.750316</td>\n",
       "      <td>0.847727</td>\n",
       "      <td>0.652559</td>\n",
       "    </tr>\n",
       "    <tr>\n",
       "      <th>compliment_profile</th>\n",
       "      <td>0.412548</td>\n",
       "      <td>0.440731</td>\n",
       "      <td>0.420534</td>\n",
       "      <td>0.354003</td>\n",
       "      <td>0.640863</td>\n",
       "      <td>0.931205</td>\n",
       "      <td>1.000000</td>\n",
       "      <td>0.803681</td>\n",
       "      <td>0.909674</td>\n",
       "      <td>0.675253</td>\n",
       "      <td>0.470958</td>\n",
       "      <td>0.606259</td>\n",
       "      <td>0.606259</td>\n",
       "      <td>0.724287</td>\n",
       "      <td>0.594420</td>\n",
       "    </tr>\n",
       "    <tr>\n",
       "      <th>compliment_cute</th>\n",
       "      <td>0.438856</td>\n",
       "      <td>0.469765</td>\n",
       "      <td>0.446676</td>\n",
       "      <td>0.475781</td>\n",
       "      <td>0.723005</td>\n",
       "      <td>0.795233</td>\n",
       "      <td>0.803681</td>\n",
       "      <td>1.000000</td>\n",
       "      <td>0.794522</td>\n",
       "      <td>0.687479</td>\n",
       "      <td>0.534824</td>\n",
       "      <td>0.652611</td>\n",
       "      <td>0.652611</td>\n",
       "      <td>0.696560</td>\n",
       "      <td>0.563257</td>\n",
       "    </tr>\n",
       "    <tr>\n",
       "      <th>compliment_list</th>\n",
       "      <td>0.344067</td>\n",
       "      <td>0.357368</td>\n",
       "      <td>0.341227</td>\n",
       "      <td>0.341401</td>\n",
       "      <td>0.485924</td>\n",
       "      <td>0.846183</td>\n",
       "      <td>0.909674</td>\n",
       "      <td>0.794522</td>\n",
       "      <td>1.000000</td>\n",
       "      <td>0.596576</td>\n",
       "      <td>0.422405</td>\n",
       "      <td>0.478811</td>\n",
       "      <td>0.478811</td>\n",
       "      <td>0.590107</td>\n",
       "      <td>0.379907</td>\n",
       "    </tr>\n",
       "    <tr>\n",
       "      <th>compliment_note</th>\n",
       "      <td>0.750283</td>\n",
       "      <td>0.755032</td>\n",
       "      <td>0.747148</td>\n",
       "      <td>0.718988</td>\n",
       "      <td>0.844187</td>\n",
       "      <td>0.820796</td>\n",
       "      <td>0.675253</td>\n",
       "      <td>0.687479</td>\n",
       "      <td>0.596576</td>\n",
       "      <td>1.000000</td>\n",
       "      <td>0.871704</td>\n",
       "      <td>0.909363</td>\n",
       "      <td>0.909363</td>\n",
       "      <td>0.881898</td>\n",
       "      <td>0.683735</td>\n",
       "    </tr>\n",
       "    <tr>\n",
       "      <th>compliment_plain</th>\n",
       "      <td>0.703319</td>\n",
       "      <td>0.686609</td>\n",
       "      <td>0.696675</td>\n",
       "      <td>0.741951</td>\n",
       "      <td>0.735904</td>\n",
       "      <td>0.609691</td>\n",
       "      <td>0.470958</td>\n",
       "      <td>0.534824</td>\n",
       "      <td>0.422405</td>\n",
       "      <td>0.871704</td>\n",
       "      <td>1.000000</td>\n",
       "      <td>0.844504</td>\n",
       "      <td>0.844504</td>\n",
       "      <td>0.766483</td>\n",
       "      <td>0.525559</td>\n",
       "    </tr>\n",
       "    <tr>\n",
       "      <th>compliment_cool</th>\n",
       "      <td>0.775660</td>\n",
       "      <td>0.798937</td>\n",
       "      <td>0.793365</td>\n",
       "      <td>0.672836</td>\n",
       "      <td>0.931059</td>\n",
       "      <td>0.750316</td>\n",
       "      <td>0.606259</td>\n",
       "      <td>0.652611</td>\n",
       "      <td>0.478811</td>\n",
       "      <td>0.909363</td>\n",
       "      <td>0.844504</td>\n",
       "      <td>1.000000</td>\n",
       "      <td>1.000000</td>\n",
       "      <td>0.923049</td>\n",
       "      <td>0.757292</td>\n",
       "    </tr>\n",
       "    <tr>\n",
       "      <th>compliment_funny</th>\n",
       "      <td>0.775660</td>\n",
       "      <td>0.798937</td>\n",
       "      <td>0.793365</td>\n",
       "      <td>0.672836</td>\n",
       "      <td>0.931059</td>\n",
       "      <td>0.750316</td>\n",
       "      <td>0.606259</td>\n",
       "      <td>0.652611</td>\n",
       "      <td>0.478811</td>\n",
       "      <td>0.909363</td>\n",
       "      <td>0.844504</td>\n",
       "      <td>1.000000</td>\n",
       "      <td>1.000000</td>\n",
       "      <td>0.923049</td>\n",
       "      <td>0.757292</td>\n",
       "    </tr>\n",
       "    <tr>\n",
       "      <th>compliment_writer</th>\n",
       "      <td>0.778985</td>\n",
       "      <td>0.800462</td>\n",
       "      <td>0.785179</td>\n",
       "      <td>0.663137</td>\n",
       "      <td>0.883451</td>\n",
       "      <td>0.847727</td>\n",
       "      <td>0.724287</td>\n",
       "      <td>0.696560</td>\n",
       "      <td>0.590107</td>\n",
       "      <td>0.881898</td>\n",
       "      <td>0.766483</td>\n",
       "      <td>0.923049</td>\n",
       "      <td>0.923049</td>\n",
       "      <td>1.000000</td>\n",
       "      <td>0.771606</td>\n",
       "    </tr>\n",
       "    <tr>\n",
       "      <th>compliment_photos</th>\n",
       "      <td>0.541254</td>\n",
       "      <td>0.582671</td>\n",
       "      <td>0.564949</td>\n",
       "      <td>0.427317</td>\n",
       "      <td>0.797463</td>\n",
       "      <td>0.652559</td>\n",
       "      <td>0.594420</td>\n",
       "      <td>0.563257</td>\n",
       "      <td>0.379907</td>\n",
       "      <td>0.683735</td>\n",
       "      <td>0.525559</td>\n",
       "      <td>0.757292</td>\n",
       "      <td>0.757292</td>\n",
       "      <td>0.771606</td>\n",
       "      <td>1.000000</td>\n",
       "    </tr>\n",
       "  </tbody>\n",
       "</table>\n",
       "</div>"
      ],
      "text/plain": [
       "                      useful     funny      cool      fans  compliment_hot  \\\n",
       "useful              1.000000  0.964429  0.990598  0.800100        0.676497   \n",
       "funny               0.964429  1.000000  0.979204  0.749508        0.715929   \n",
       "cool                0.990598  0.979204  1.000000  0.765961        0.700247   \n",
       "fans                0.800100  0.749508  0.765961  1.000000        0.579987   \n",
       "compliment_hot      0.676497  0.715929  0.700247  0.579987        1.000000   \n",
       "compliment_more     0.590853  0.618694  0.596475  0.503817        0.747986   \n",
       "compliment_profile  0.412548  0.440731  0.420534  0.354003        0.640863   \n",
       "compliment_cute     0.438856  0.469765  0.446676  0.475781        0.723005   \n",
       "compliment_list     0.344067  0.357368  0.341227  0.341401        0.485924   \n",
       "compliment_note     0.750283  0.755032  0.747148  0.718988        0.844187   \n",
       "compliment_plain    0.703319  0.686609  0.696675  0.741951        0.735904   \n",
       "compliment_cool     0.775660  0.798937  0.793365  0.672836        0.931059   \n",
       "compliment_funny    0.775660  0.798937  0.793365  0.672836        0.931059   \n",
       "compliment_writer   0.778985  0.800462  0.785179  0.663137        0.883451   \n",
       "compliment_photos   0.541254  0.582671  0.564949  0.427317        0.797463   \n",
       "\n",
       "                    compliment_more  compliment_profile  compliment_cute  \\\n",
       "useful                     0.590853            0.412548         0.438856   \n",
       "funny                      0.618694            0.440731         0.469765   \n",
       "cool                       0.596475            0.420534         0.446676   \n",
       "fans                       0.503817            0.354003         0.475781   \n",
       "compliment_hot             0.747986            0.640863         0.723005   \n",
       "compliment_more            1.000000            0.931205         0.795233   \n",
       "compliment_profile         0.931205            1.000000         0.803681   \n",
       "compliment_cute            0.795233            0.803681         1.000000   \n",
       "compliment_list            0.846183            0.909674         0.794522   \n",
       "compliment_note            0.820796            0.675253         0.687479   \n",
       "compliment_plain           0.609691            0.470958         0.534824   \n",
       "compliment_cool            0.750316            0.606259         0.652611   \n",
       "compliment_funny           0.750316            0.606259         0.652611   \n",
       "compliment_writer          0.847727            0.724287         0.696560   \n",
       "compliment_photos          0.652559            0.594420         0.563257   \n",
       "\n",
       "                    compliment_list  compliment_note  compliment_plain  \\\n",
       "useful                     0.344067         0.750283          0.703319   \n",
       "funny                      0.357368         0.755032          0.686609   \n",
       "cool                       0.341227         0.747148          0.696675   \n",
       "fans                       0.341401         0.718988          0.741951   \n",
       "compliment_hot             0.485924         0.844187          0.735904   \n",
       "compliment_more            0.846183         0.820796          0.609691   \n",
       "compliment_profile         0.909674         0.675253          0.470958   \n",
       "compliment_cute            0.794522         0.687479          0.534824   \n",
       "compliment_list            1.000000         0.596576          0.422405   \n",
       "compliment_note            0.596576         1.000000          0.871704   \n",
       "compliment_plain           0.422405         0.871704          1.000000   \n",
       "compliment_cool            0.478811         0.909363          0.844504   \n",
       "compliment_funny           0.478811         0.909363          0.844504   \n",
       "compliment_writer          0.590107         0.881898          0.766483   \n",
       "compliment_photos          0.379907         0.683735          0.525559   \n",
       "\n",
       "                    compliment_cool  compliment_funny  compliment_writer  \\\n",
       "useful                     0.775660          0.775660           0.778985   \n",
       "funny                      0.798937          0.798937           0.800462   \n",
       "cool                       0.793365          0.793365           0.785179   \n",
       "fans                       0.672836          0.672836           0.663137   \n",
       "compliment_hot             0.931059          0.931059           0.883451   \n",
       "compliment_more            0.750316          0.750316           0.847727   \n",
       "compliment_profile         0.606259          0.606259           0.724287   \n",
       "compliment_cute            0.652611          0.652611           0.696560   \n",
       "compliment_list            0.478811          0.478811           0.590107   \n",
       "compliment_note            0.909363          0.909363           0.881898   \n",
       "compliment_plain           0.844504          0.844504           0.766483   \n",
       "compliment_cool            1.000000          1.000000           0.923049   \n",
       "compliment_funny           1.000000          1.000000           0.923049   \n",
       "compliment_writer          0.923049          0.923049           1.000000   \n",
       "compliment_photos          0.757292          0.757292           0.771606   \n",
       "\n",
       "                    compliment_photos  \n",
       "useful                       0.541254  \n",
       "funny                        0.582671  \n",
       "cool                         0.564949  \n",
       "fans                         0.427317  \n",
       "compliment_hot               0.797463  \n",
       "compliment_more              0.652559  \n",
       "compliment_profile           0.594420  \n",
       "compliment_cute              0.563257  \n",
       "compliment_list              0.379907  \n",
       "compliment_note              0.683735  \n",
       "compliment_plain             0.525559  \n",
       "compliment_cool              0.757292  \n",
       "compliment_funny             0.757292  \n",
       "compliment_writer            0.771606  \n",
       "compliment_photos            1.000000  "
      ]
     },
     "metadata": {},
     "output_type": "display_data"
    }
   ],
   "source": [
    "# Calculate Pearson correlation coefficient amongst variables\n",
    "data = df\n",
    "corr = data.corr()\n",
    "\n",
    "# Create correlation matrix chart\n",
    "fig = plt.figure()\n",
    "ax = fig.add_subplot(111)\n",
    "cax = ax.matshow(corr,cmap='coolwarm', vmin=-1, vmax=1)\n",
    "\n",
    "# Set and orient labels \n",
    "fig.colorbar(cax)\n",
    "ticks = np.arange(0,len(data.columns),1)\n",
    "ax.set_xticks(ticks)\n",
    "plt.xticks(rotation=90)\n",
    "ax.set_yticks(ticks)\n",
    "ax.set_xticklabels(data.columns)\n",
    "ax.set_yticklabels(data.columns)\n",
    "\n",
    "\n",
    "display(plt.show())\n",
    "display(corr)"
   ]
  },
  {
   "cell_type": "code",
   "execution_count": 52,
   "metadata": {},
   "outputs": [],
   "source": [
    "# Not a final list, just some to get the ball rolling \n",
    "dropUserAtrributes = ['cool','compliment_hot', 'compliment_more', 'compliment_profile', \n",
    "                     'compliment_cute', 'compliment_list', 'compliment_note','compliment_plain',\n",
    "                     'compliment_cool', 'compliment_funny','compliment_writer','compliment_photos']"
   ]
  },
  {
   "cell_type": "markdown",
   "metadata": {},
   "source": [
    "## Users File: Fully read in now\n",
    "> Now that key data reduction has been performed"
   ]
  },
  {
   "cell_type": "code",
   "execution_count": 53,
   "metadata": {},
   "outputs": [],
   "source": [
    "chunksize = 1000000\n",
    "userReader = pd.read_json(filePaths['users'], lines=True,\n",
    "                      dtype={'user_id':str,'name':str, 'review_count':int, 'yelping_since':str,\n",
    "                             'friends':list,'useful':int, 'funny':int, 'cool':int, 'fans':int, \n",
    "                             'elite': list, 'average_stars': float,'business_id':str,'stars':int,\n",
    "                             'compliment_hot':int, 'compliment_more':int, 'compliment_profile':int, \n",
    "                             'compliment_cute':int, 'compliment_list':int, 'compliment_note':int,'compliment_plain':int,\n",
    "                             'compliment_cool':int, 'compliment_funny':int,'compliment_writer':int,'compliment_photos':int\n",
    "                            },\n",
    "                      chunksize=chunksize)"
   ]
  },
  {
   "cell_type": "code",
   "execution_count": 54,
   "metadata": {},
   "outputs": [
    {
     "name": "stdout",
     "output_type": "stream",
     "text": [
      "1000000 merged out of 1,000,000 users\n",
      "968703 merged out of 1,000,000 users\n"
     ]
    }
   ],
   "source": [
    "# Collect all df chunks \n",
    "chunk_list = []\n",
    "for userChunk in userReader:\n",
    "    userChunk = userChunk.drop(dropUserAtrributes, axis=1)\n",
    "    # Show feedback on progress\n",
    "    print(f\"{userChunk.shape[0]} merged out of {chunksize:,} users\")\n",
    "    chunk_list.append(userChunk)"
   ]
  },
  {
   "cell_type": "code",
   "execution_count": 55,
   "metadata": {},
   "outputs": [],
   "source": [
    "# concat all dataframe chunks into 1 datafram\n",
    "dfUsers = pd.concat(chunk_list, ignore_index=True, axis=0)"
   ]
  },
  {
   "cell_type": "code",
   "execution_count": 56,
   "metadata": {},
   "outputs": [
    {
     "name": "stdout",
     "output_type": "stream",
     "text": [
      "<class 'pandas.core.frame.DataFrame'>\n",
      "RangeIndex: 1968703 entries, 0 to 1968702\n",
      "Data columns (total 10 columns):\n",
      " #   Column         Dtype  \n",
      "---  ------         -----  \n",
      " 0   user_id        object \n",
      " 1   name           object \n",
      " 2   review_count   int32  \n",
      " 3   yelping_since  object \n",
      " 4   useful         int32  \n",
      " 5   funny          int32  \n",
      " 6   elite          object \n",
      " 7   friends        object \n",
      " 8   fans           int32  \n",
      " 9   average_stars  float64\n",
      "dtypes: float64(1), int32(4), object(5)\n",
      "memory usage: 120.2+ MB\n"
     ]
    }
   ],
   "source": [
    "dfUsers.info()"
   ]
  },
  {
   "cell_type": "code",
   "execution_count": null,
   "metadata": {},
   "outputs": [],
   "source": []
  },
  {
   "cell_type": "markdown",
   "metadata": {},
   "source": [
    "## Reduce/Partition Users: \n",
    "Users with Low/Med and Users with High # of reviews\n",
    "\n",
    "***Run by Group:***\n",
    "- Potentially opportunity to cut down users, by taking subsets such as \"normal users\" and \"power users\""
   ]
  },
  {
   "cell_type": "code",
   "execution_count": 61,
   "metadata": {},
   "outputs": [],
   "source": [
    "reviewCount = dfUsers['review_count'].to_list()"
   ]
  },
  {
   "cell_type": "code",
   "execution_count": 66,
   "metadata": {},
   "outputs": [],
   "source": [
    "countThreshold = 100\n",
    "smallReviewCount = [count for count in reviewCount if count <= countThreshold]\n",
    "bigReviewCount = [count for count in reviewCount if count > countThreshold]"
   ]
  },
  {
   "cell_type": "code",
   "execution_count": 73,
   "metadata": {},
   "outputs": [
    {
     "data": {
      "image/png": "[encoded data removed]",
      "text/plain": [
       "<Figure size 1440x288 with 2 Axes>"
      ]
     },
     "metadata": {
      "needs_background": "light"
     },
     "output_type": "display_data"
    }
   ],
   "source": [
    "fig, (ax1, ax2) = plt.subplots(1,2,figsize=(20,4))\n",
    "\n",
    "sns.histplot(smallReviewCount, bins=10, ax=ax1)\n",
    "sns.histplot(bigReviewCount, binwidth=150, ax=ax2)\n",
    "ax1.set(title=f'Users with < {countThreshold} reviews (n={len(smallReviewCount)})', xlabel='# of Reviews', ylabel='User Count')\n",
    "ax2.set(title=f'Users with > {countThreshold} reviews (n={len(bigReviewCount)})', xlabel='# of Reviews', ylabel='User Count')\n",
    "plt.show()"
   ]
  },
  {
   "cell_type": "code",
   "execution_count": null,
   "metadata": {},
   "outputs": [],
   "source": []
  },
  {
   "cell_type": "code",
   "execution_count": null,
   "metadata": {},
   "outputs": [],
   "source": []
  },
  {
   "cell_type": "markdown",
   "metadata": {},
   "source": [
    "# Reviews json"
   ]
  },
  {
   "cell_type": "markdown",
   "metadata": {},
   "source": [
    "# Data Pre-Processing: Review Text\n",
    "\n",
    "---\n",
    "\n",
    "## Problem Description:\n",
    "- Bin and cluster average user rating to detect and remove \"outlier\" users that preferentially give the highest or lowest possible rating.\n",
    "- Use the bag-of-words model to simplify review text (i.e. tokenize words, generate feature vectors for sentences).\n",
    "- Model review text sentiment to classify reviews as either negative, positive or neutral\n",
    "\n",
    "- Trendy foods, Time and Restaurant Category "
   ]
  },
  {
   "cell_type": "code",
   "execution_count": 126,
   "metadata": {},
   "outputs": [],
   "source": [
    "chunksize = 1000000\n",
    "reviewReader = pd.read_json(filePaths['reviews'], lines=True,\n",
    "                      dtype={'review_id':str,'user_id':str,\n",
    "                             'business_id':str,'stars':int,\n",
    "                             'date':str,'text':str,'useful':int,\n",
    "                             'funny':int,'cool':int},\n",
    "                      chunksize=chunksize)"
   ]
  },
  {
   "cell_type": "markdown",
   "metadata": {},
   "source": [
    "## Todo: Pre-Process"
   ]
  },
  {
   "cell_type": "code",
   "execution_count": null,
   "metadata": {},
   "outputs": [],
   "source": []
  },
  {
   "cell_type": "code",
   "execution_count": null,
   "metadata": {},
   "outputs": [],
   "source": []
  },
  {
   "cell_type": "code",
   "execution_count": null,
   "metadata": {},
   "outputs": [],
   "source": []
  },
  {
   "cell_type": "markdown",
   "metadata": {},
   "source": [
    "## Merge json files: Reviews + Restaurants\n",
    "> only combining reviews data relevant to businesses in our restaurants dataset"
   ]
  },
  {
   "cell_type": "code",
   "execution_count": 127,
   "metadata": {},
   "outputs": [
    {
     "name": "stdout",
     "output_type": "stream",
     "text": [
      "687736 merged out of 1,000,000 reviews\n",
      "689432 merged out of 1,000,000 reviews\n",
      "687518 merged out of 1,000,000 reviews\n",
      "683562 merged out of 1,000,000 reviews\n",
      "678753 merged out of 1,000,000 reviews\n",
      "690264 merged out of 1,000,000 reviews\n",
      "691960 merged out of 1,000,000 reviews\n",
      "677194 merged out of 1,000,000 reviews\n",
      "12134 merged out of 1,000,000 reviews\n"
     ]
    }
   ],
   "source": [
    "# Collect all df chunks \n",
    "chunk_list = []\n",
    "for reviewChunk in reviewReader:\n",
    "    reviewChunk = reviewChunk.drop(['review_id','useful','funny','cool'], axis=1)\n",
    "    reviewChunk = reviewChunk.rename(columns={'stars': 'review_stars'})\n",
    "    # Inner merge to obtain reviews for only restaurant\n",
    "    chunk_merged = pd.merge(restaurantsTrimmed, reviewChunk, on='business_id', how='inner')\n",
    "    # Show feedback on progress\n",
    "    print(f\"{chunk_merged.shape[0]} merged out of {chunksize:,} reviews\")\n",
    "    chunk_list.append(chunk_merged)"
   ]
  },
  {
   "cell_type": "code",
   "execution_count": 149,
   "metadata": {},
   "outputs": [
    {
     "name": "stdout",
     "output_type": "stream",
     "text": [
      "<class 'pandas.core.frame.DataFrame'>\n",
      "RangeIndex: 1968703 entries, 0 to 1968702\n",
      "Data columns (total 22 columns):\n",
      " #   Column              Dtype  \n",
      "---  ------              -----  \n",
      " 0   user_id             object \n",
      " 1   name                object \n",
      " 2   review_count        int32  \n",
      " 3   yelping_since       object \n",
      " 4   useful              int32  \n",
      " 5   funny               int32  \n",
      " 6   cool                int32  \n",
      " 7   elite               object \n",
      " 8   friends             object \n",
      " 9   fans                int32  \n",
      " 10  average_stars       float64\n",
      " 11  compliment_hot      int32  \n",
      " 12  compliment_more     int32  \n",
      " 13  compliment_profile  int32  \n",
      " 14  compliment_cute     int32  \n",
      " 15  compliment_list     int32  \n",
      " 16  compliment_note     int32  \n",
      " 17  compliment_plain    int32  \n",
      " 18  compliment_cool     int32  \n",
      " 19  compliment_funny    int32  \n",
      " 20  compliment_writer   int32  \n",
      " 21  compliment_photos   int32  \n",
      "dtypes: float64(1), int32(16), object(5)\n",
      "memory usage: 210.3+ MB\n"
     ]
    }
   ],
   "source": [
    "# concat all dataframe chunks into 1 dataframe\n",
    "restaurants_reviews_df = pd.concat(chunk_list, ignore_index=True, axis=0)\n",
    "restaurants_reviews_df.info()"
   ]
  },
  {
   "cell_type": "code",
   "execution_count": null,
   "metadata": {},
   "outputs": [],
   "source": []
  },
  {
   "cell_type": "markdown",
   "metadata": {},
   "source": [
    "## Todo: Data integration\n",
    "\n",
    "> Compile all .json files into a relational database to improve accessibility.\n"
   ]
  }
 ],
 "metadata": {
  "kernelspec": {
   "display_name": "venv",
   "language": "python",
   "name": "venv"
  },
  "language_info": {
   "codemirror_mode": {
    "name": "ipython",
    "version": 3
   },
   "file_extension": ".py",
   "mimetype": "text/x-python",
   "name": "python",
   "nbconvert_exporter": "python",
   "pygments_lexer": "ipython3",
   "version": "3.9.2"
  }
 },
 "nbformat": 4,
 "nbformat_minor": 4
}
