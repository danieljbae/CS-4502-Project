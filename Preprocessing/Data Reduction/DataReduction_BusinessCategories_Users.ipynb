{
 "cells": [
  {
   "cell_type": "markdown",
   "metadata": {},
   "source": [
    "# Data Pre-Processing: Removing Unrelated Business Categories\n",
    "\n",
    "---\n",
    "\n",
    "## Problem Description:\n",
    "* The dataset ```yelp_academic_dataset_business.json``` has many business categories unrelated to food reviews.\n",
    "* Since our project focuses on food review text, we need to identify and remove unrelated business categories from our dataset during preprocessing."
   ]
  },
  {
   "cell_type": "markdown",
   "metadata": {},
   "source": [
    "___"
   ]
  },
  {
   "cell_type": "code",
   "execution_count": 64,
   "metadata": {},
   "outputs": [],
   "source": [
    "import pandas as pd\n",
    "import re\n",
    "\n",
    "# Do not truncate column content and show all columns\n",
    "pd.set_option('display.max_colwidth', None)"
   ]
  },
  {
   "cell_type": "code",
   "execution_count": 16,
   "metadata": {},
   "outputs": [],
   "source": [
    "prefix = '../../data/'\n",
    "files = {\n",
    "    \"reviewsPath\": prefix + 'yelp_academic_dataset_review.json',\n",
    "    \"businessesPath\": prefix + 'yelp_academic_dataset_business.json',\n",
    "    \"checkinsPath\": prefix + 'yelp_academic_dataset_checkin.json',\n",
    "    \"tipsPath\": prefix + 'yelp_academic_dataset_tip.json',\n",
    "    \"usersPath\": prefix + 'yelp_academic_dataset_user.json'\n",
    "}"
   ]
  },
  {
   "cell_type": "code",
   "execution_count": 56,
   "metadata": {},
   "outputs": [],
   "source": [
    "# Create a dataframe containing all business categories\n",
    "df = pd.read_json(\n",
    "    files[\"businessesPath\"], \n",
    "    lines=True\n",
    ")"
   ]
  },
  {
   "cell_type": "markdown",
   "metadata": {},
   "source": [
    "## Business Categories Documentation:\n",
    "\n",
    "* The yelp developer documentation has a businesses [category list](https://www.yelp.com/developers/documentation/v3/category_list). \n",
    "\n",
    "\n",
    "* The category```Restaurant (restaurant)``` sub-divides into cuisine types, e.g.: \n",
    "    * Soul Food\n",
    "    * Tapas\n",
    "    * ...\n",
    "\n",
    "\n",
    "* The category```Food (food)``` sub-divides into food vendors, e.g.:\n",
    "    * Gelato\n",
    "    * Food Trucks\n",
    "    * ...\n",
    "    \n",
    "\n",
    "* We should be good to go by just filtering out all businesses that do not contain 'Food' or 'Restaurant' using regular expressions.\n",
    "\n",
    "---\n"
   ]
  },
  {
   "cell_type": "markdown",
   "metadata": {},
   "source": [
    "## Solution 1: "
   ]
  },
  {
   "cell_type": "code",
   "execution_count": 72,
   "metadata": {},
   "outputs": [],
   "source": [
    "def regexMask():\n",
    "    # Use the regular expression above to create a boolean mask for each row in the dataframe. Note: na=False also filters NaN values\n",
    "    boolMask = dataframe['categories'].str.contains(r'\\bfood\\b|\\brestaurants\\b',flags=re.IGNORECASE, na=False)\n",
    "#     print(boolMask[:5])\n",
    "\n",
    "    # Apply the boolean mask to filter out all unrelated business categories\n",
    "    restaurants = dataframe[boolMask]\n",
    "    return restaurants\n",
    "\n",
    "    # Check the results\n",
    "#     print(restaurants['categories'].head(n=10).to_string(index=False).replace(' ',''))\n",
    "#     print('--'*50)\n",
    "#     print(f'\\nFound {len(restaurants)} restaurants or food related vendors')"
   ]
  },
  {
   "cell_type": "markdown",
   "metadata": {},
   "source": [
    "---\n",
    "\n",
    "## Solution 2:\n",
    "\n",
    "* Similar to solution 1: Use regex and bool mask but code may be more readable"
   ]
  },
  {
   "cell_type": "code",
   "execution_count": 73,
   "metadata": {},
   "outputs": [],
   "source": [
    "def containsMask():\n",
    "    # Filter the original dataframe categories using a bool mask for 'Restaurants' or 'Food' and str.contains()\n",
    "    restaurants_2 = dataframe[\n",
    "            (dataframe['categories'].str.contains('Restaurants')==True) | \n",
    "            (dataframe['categories'].str.contains('Food')==True) \n",
    "    ]\n",
    "    return restaurants_2\n",
    "    # Check the results\n",
    "#     print(restaurants_2['categories'].head(n=10).to_string(index=False).replace(' ',''))\n",
    "#     print('--'*50)\n",
    "#     print(f'\\nFound {len(restaurants)} restaurants or food related vendors')"
   ]
  },
  {
   "cell_type": "markdown",
   "metadata": {},
   "source": [
    "### Performance Comparison"
   ]
  },
  {
   "cell_type": "markdown",
   "metadata": {},
   "source": [
    "`%timeit -n100 -r3 <statement>`\n",
    "> The statement will get executed 3 times * 100 loops per execution = 300 times"
   ]
  },
  {
   "cell_type": "code",
   "execution_count": 63,
   "metadata": {},
   "outputs": [
    {
     "name": "stdout",
     "output_type": "stream",
     "text": [
      "341 ms ± 3.2 ms per loop (mean ± std. dev. of 3 runs, 100 loops each)\n",
      "214 ms ± 1.48 ms per loop (mean ± std. dev. of 3 runs, 100 loops each)\n"
     ]
    }
   ],
   "source": [
    "%timeit -n100 -r3 regexMask()\n",
    "%timeit -n100 -r3 containsMask()"
   ]
  },
  {
   "cell_type": "markdown",
   "metadata": {},
   "source": [
    "---\n",
    "\n",
    "## Export to JSON\n",
    "\n",
    "* Apply the restaurant filter to all datapoints in ```yelp_academic_dataset_business.json``` then export the processed data as a JSON "
   ]
  },
  {
   "cell_type": "code",
   "execution_count": 65,
   "metadata": {},
   "outputs": [],
   "source": [
    "# Export to JSON\n",
    "restaurants.to_json(r'yelp_academic_dataset_restaurants.json')"
   ]
  },
  {
   "cell_type": "markdown",
   "metadata": {},
   "source": [
    "## Summary:\n",
    "    \n",
    "* According to the Yelp developer documentation, regular expressions should be sufficient to remove unrelated business categories from our dataset.\n",
    "\n",
    "* If our data set were not structured and well documented, we would likely need to consider a classification technique for businesses such as **Named Entiy Recognition (NER)**.\n",
    "---"
   ]
  },
  {
   "cell_type": "code",
   "execution_count": null,
   "metadata": {},
   "outputs": [],
   "source": []
  }
 ],
 "metadata": {
  "kernelspec": {
   "display_name": "venv",
   "language": "python",
   "name": "venv"
  },
  "language_info": {
   "codemirror_mode": {
    "name": "ipython",
    "version": 3
   },
   "file_extension": ".py",
   "mimetype": "text/x-python",
   "name": "python",
   "nbconvert_exporter": "python",
   "pygments_lexer": "ipython3",
   "version": "3.9.2"
  }
 },
 "nbformat": 4,
 "nbformat_minor": 4
}
