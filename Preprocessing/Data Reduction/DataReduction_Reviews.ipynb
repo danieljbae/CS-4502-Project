{
 "cells": [
  {
   "cell_type": "code",
   "execution_count": 1,
   "metadata": {},
   "outputs": [],
   "source": [
    "import pandas as pd\n",
    "import re\n",
    "from itertools import chain,cycle, islice\n",
    "import itertools\n",
    "import numpy as np\n",
    "import seaborn as sns\n",
    "import matplotlib.pyplot as plt\n",
    "from IPython.display import display, HTML, display_html"
   ]
  },
  {
   "cell_type": "code",
   "execution_count": 2,
   "metadata": {},
   "outputs": [],
   "source": [
    "# Do not truncate column content and show all columns\n",
    "pd.set_option('display.max_colwidth', None)\n",
    "\n",
    "# Update output cell format to display mutliple objects (dataframes)\n",
    "# https://stackoverflow.com/questions/38783027/jupyter-notebook-display-two-pandas-tables-side-by-side\n",
    "def display_side_by_side(*args,titles=cycle([''])):\n",
    "    html_str=''\n",
    "    for df,title in zip(args, chain(titles,cycle(['</br>'])) ):\n",
    "        html_str+='<th style=\"text-align:center\"><td style=\"vertical-align:top\">'\n",
    "        html_str+=f'<h4>{title}</h4>'\n",
    "        html_str+=df.to_html().replace('table','table style=\"display:inline\"')\n",
    "        html_str+='</td></th>'\n",
    "    display_html(html_str,raw=True)"
   ]
  },
  {
   "cell_type": "code",
   "execution_count": 3,
   "metadata": {},
   "outputs": [],
   "source": [
    "prefix = '../../data/'\n",
    "filePaths = {\n",
    "    \"reviews\": prefix + 'yelp_academic_dataset_review.json',\n",
    "    \"businesses\": prefix + 'yelp_academic_dataset_business.json',\n",
    "    \"checkins\": prefix + 'yelp_academic_dataset_checkin.json',\n",
    "    \"tips\": prefix + 'yelp_academic_dataset_tip.json',\n",
    "    \"users\": prefix + 'yelp_academic_dataset_user.json'\n",
    "}"
   ]
  },
  {
   "cell_type": "markdown",
   "metadata": {},
   "source": [
    "***\n",
    "# Reviews json"
   ]
  },
  {
   "cell_type": "markdown",
   "metadata": {},
   "source": [
    "# Data Pre-Processing: Review Text\n",
    "---\n",
    "\n",
    "## Problem Description:\n",
    "- Bin and cluster average user rating to detect and remove \"outlier\" users that preferentially give the highest or lowest possible rating.\n",
    "- Use the bag-of-words model to simplify review text (i.e. tokenize words, generate feature vectors for sentences).\n",
    "- Model review text sentiment to classify reviews as either negative, positive or neutral\n",
    "\n",
    "- Trendy foods, Time and Restaurant Category "
   ]
  },
  {
   "cell_type": "code",
   "execution_count": 4,
   "metadata": {},
   "outputs": [],
   "source": [
    "chunksize = 1000000\n",
    "reviewReader = pd.read_json(filePaths['reviews'], lines=True,\n",
    "                      dtype={'review_id':str,'user_id':str,\n",
    "                             'business_id':str,'stars':int,\n",
    "                             'date':str,'text':str,'useful':int,\n",
    "                             'funny':int,'cool':int},\n",
    "                      chunksize=chunksize)"
   ]
  },
  {
   "cell_type": "markdown",
   "metadata": {},
   "source": [
    "## Todo: Pre-Process"
   ]
  },
  {
   "cell_type": "code",
   "execution_count": null,
   "metadata": {},
   "outputs": [],
   "source": []
  },
  {
   "cell_type": "code",
   "execution_count": null,
   "metadata": {},
   "outputs": [],
   "source": []
  },
  {
   "cell_type": "code",
   "execution_count": null,
   "metadata": {},
   "outputs": [],
   "source": []
  },
  {
   "cell_type": "markdown",
   "metadata": {},
   "source": [
    "***\n",
    "## Merge json files: Reviews + Restaurants\n",
    "> only combining reviews data relevant to businesses in our restaurants dataset\n",
    "***"
   ]
  },
  {
   "cell_type": "code",
   "execution_count": 5,
   "metadata": {},
   "outputs": [
    {
     "ename": "NameError",
     "evalue": "name 'restaurantsTrimmed' is not defined",
     "output_type": "error",
     "traceback": [
      "\u001b[0;31m---------------------------------------------------------------------------\u001b[0m",
      "\u001b[0;31mNameError\u001b[0m                                 Traceback (most recent call last)",
      "\u001b[0;32m<ipython-input-5-8a844a734c8e>\u001b[0m in \u001b[0;36m<module>\u001b[0;34m\u001b[0m\n\u001b[1;32m      5\u001b[0m     \u001b[0mreviewChunk\u001b[0m \u001b[0;34m=\u001b[0m \u001b[0mreviewChunk\u001b[0m\u001b[0;34m.\u001b[0m\u001b[0mrename\u001b[0m\u001b[0;34m(\u001b[0m\u001b[0mcolumns\u001b[0m\u001b[0;34m=\u001b[0m\u001b[0;34m{\u001b[0m\u001b[0;34m'stars'\u001b[0m\u001b[0;34m:\u001b[0m \u001b[0;34m'review_stars'\u001b[0m\u001b[0;34m}\u001b[0m\u001b[0;34m)\u001b[0m\u001b[0;34m\u001b[0m\u001b[0;34m\u001b[0m\u001b[0m\n\u001b[1;32m      6\u001b[0m     \u001b[0;31m# Inner merge to obtain reviews for only restaurant\u001b[0m\u001b[0;34m\u001b[0m\u001b[0;34m\u001b[0m\u001b[0;34m\u001b[0m\u001b[0m\n\u001b[0;32m----> 7\u001b[0;31m     \u001b[0mchunk_merged\u001b[0m \u001b[0;34m=\u001b[0m \u001b[0mpd\u001b[0m\u001b[0;34m.\u001b[0m\u001b[0mmerge\u001b[0m\u001b[0;34m(\u001b[0m\u001b[0mrestaurantsTrimmed\u001b[0m\u001b[0;34m,\u001b[0m \u001b[0mreviewChunk\u001b[0m\u001b[0;34m,\u001b[0m \u001b[0mon\u001b[0m\u001b[0;34m=\u001b[0m\u001b[0;34m'business_id'\u001b[0m\u001b[0;34m,\u001b[0m \u001b[0mhow\u001b[0m\u001b[0;34m=\u001b[0m\u001b[0;34m'inner'\u001b[0m\u001b[0;34m)\u001b[0m\u001b[0;34m\u001b[0m\u001b[0;34m\u001b[0m\u001b[0m\n\u001b[0m\u001b[1;32m      8\u001b[0m     \u001b[0;31m# Show feedback on progress\u001b[0m\u001b[0;34m\u001b[0m\u001b[0;34m\u001b[0m\u001b[0;34m\u001b[0m\u001b[0m\n\u001b[1;32m      9\u001b[0m     \u001b[0mprint\u001b[0m\u001b[0;34m(\u001b[0m\u001b[0;34mf\"{chunk_merged.shape[0]} merged out of {chunksize:,} reviews\"\u001b[0m\u001b[0;34m)\u001b[0m\u001b[0;34m\u001b[0m\u001b[0;34m\u001b[0m\u001b[0m\n",
      "\u001b[0;31mNameError\u001b[0m: name 'restaurantsTrimmed' is not defined"
     ]
    }
   ],
   "source": [
    "# Collect all df chunks \n",
    "chunk_list = []\n",
    "for reviewChunk in reviewReader:\n",
    "    reviewChunk = reviewChunk.drop(['review_id','useful','funny','cool'], axis=1)\n",
    "    reviewChunk = reviewChunk.rename(columns={'stars': 'review_stars'})\n",
    "    # Inner merge to obtain reviews for only restaurant\n",
    "    chunk_merged = pd.merge(restaurantsTrimmed, reviewChunk, on='business_id', how='inner')\n",
    "    # Show feedback on progress\n",
    "    print(f\"{chunk_merged.shape[0]} merged out of {chunksize:,} reviews\")\n",
    "    chunk_list.append(chunk_merged)"
   ]
  },
  {
   "cell_type": "code",
   "execution_count": 26,
   "metadata": {},
   "outputs": [
    {
     "name": "stdout",
     "output_type": "stream",
     "text": [
      "<class 'pandas.core.frame.DataFrame'>\n",
      "RangeIndex: 5498553 entries, 0 to 5498552\n",
      "Data columns (total 18 columns):\n",
      " #   Column        Dtype  \n",
      "---  ------        -----  \n",
      " 0   business_id   object \n",
      " 1   name          object \n",
      " 2   address       object \n",
      " 3   city          object \n",
      " 4   state         object \n",
      " 5   postal_code   object \n",
      " 6   latitude      float64\n",
      " 7   longitude     float64\n",
      " 8   stars         float64\n",
      " 9   review_count  int64  \n",
      " 10  is_open       int64  \n",
      " 11  attributes    object \n",
      " 12  categories    object \n",
      " 13  hours         object \n",
      " 14  user_id       object \n",
      " 15  review_stars  int32  \n",
      " 16  text          object \n",
      " 17  date          object \n",
      "dtypes: float64(3), int32(1), int64(2), object(12)\n",
      "memory usage: 734.1+ MB\n"
     ]
    }
   ],
   "source": [
    "# concat all dataframe chunks into 1 dataframe\n",
    "restaurants_reviews_df = pd.concat(chunk_list, ignore_index=True, axis=0)\n",
    "restaurants_reviews_df.info()"
   ]
  },
  {
   "cell_type": "code",
   "execution_count": null,
   "metadata": {},
   "outputs": [],
   "source": []
  },
  {
   "cell_type": "code",
   "execution_count": null,
   "metadata": {},
   "outputs": [],
   "source": []
  },
  {
   "cell_type": "code",
   "execution_count": null,
   "metadata": {},
   "outputs": [],
   "source": []
  },
  {
   "cell_type": "markdown",
   "metadata": {},
   "source": [
    "### City Distribution"
   ]
  },
  {
   "cell_type": "code",
   "execution_count": 203,
   "metadata": {},
   "outputs": [
    {
     "data": {
      "text/html": [
       "<div>\n",
       "<style scoped>\n",
       "    .dataframe tbody tr th:only-of-type {\n",
       "        vertical-align: middle;\n",
       "    }\n",
       "\n",
       "    .dataframe tbody tr th {\n",
       "        vertical-align: top;\n",
       "    }\n",
       "\n",
       "    .dataframe thead th {\n",
       "        text-align: right;\n",
       "    }\n",
       "</style>\n",
       "<table border=\"1\" class=\"dataframe\">\n",
       "  <thead>\n",
       "    <tr style=\"text-align: right;\">\n",
       "      <th></th>\n",
       "      <th>city</th>\n",
       "      <th>count</th>\n",
       "    </tr>\n",
       "  </thead>\n",
       "  <tbody>\n",
       "    <tr>\n",
       "      <th>0</th>\n",
       "      <td>Las Vegas</td>\n",
       "      <td>1609318</td>\n",
       "    </tr>\n",
       "    <tr>\n",
       "      <th>1</th>\n",
       "      <td>Phoenix</td>\n",
       "      <td>550164</td>\n",
       "    </tr>\n",
       "    <tr>\n",
       "      <th>2</th>\n",
       "      <td>Toronto</td>\n",
       "      <td>483619</td>\n",
       "    </tr>\n",
       "    <tr>\n",
       "      <th>3</th>\n",
       "      <td>Scottsdale</td>\n",
       "      <td>294496</td>\n",
       "    </tr>\n",
       "    <tr>\n",
       "      <th>4</th>\n",
       "      <td>Charlotte</td>\n",
       "      <td>283581</td>\n",
       "    </tr>\n",
       "    <tr>\n",
       "      <th>5</th>\n",
       "      <td>Pittsburgh</td>\n",
       "      <td>212637</td>\n",
       "    </tr>\n",
       "    <tr>\n",
       "      <th>6</th>\n",
       "      <td>Henderson</td>\n",
       "      <td>156332</td>\n",
       "    </tr>\n",
       "    <tr>\n",
       "      <th>7</th>\n",
       "      <td>Tempe</td>\n",
       "      <td>153852</td>\n",
       "    </tr>\n",
       "    <tr>\n",
       "      <th>8</th>\n",
       "      <td>Montréal</td>\n",
       "      <td>150174</td>\n",
       "    </tr>\n",
       "    <tr>\n",
       "      <th>9</th>\n",
       "      <td>Mesa</td>\n",
       "      <td>120877</td>\n",
       "    </tr>\n",
       "    <tr>\n",
       "      <th>10</th>\n",
       "      <td>Chandler</td>\n",
       "      <td>119107</td>\n",
       "    </tr>\n",
       "    <tr>\n",
       "      <th>11</th>\n",
       "      <td>Cleveland</td>\n",
       "      <td>106227</td>\n",
       "    </tr>\n",
       "    <tr>\n",
       "      <th>12</th>\n",
       "      <td>Gilbert</td>\n",
       "      <td>97574</td>\n",
       "    </tr>\n",
       "    <tr>\n",
       "      <th>13</th>\n",
       "      <td>Madison</td>\n",
       "      <td>89508</td>\n",
       "    </tr>\n",
       "    <tr>\n",
       "      <th>14</th>\n",
       "      <td>Calgary</td>\n",
       "      <td>78670</td>\n",
       "    </tr>\n",
       "    <tr>\n",
       "      <th>15</th>\n",
       "      <td>Glendale</td>\n",
       "      <td>76441</td>\n",
       "    </tr>\n",
       "    <tr>\n",
       "      <th>16</th>\n",
       "      <td>Mississauga</td>\n",
       "      <td>54399</td>\n",
       "    </tr>\n",
       "    <tr>\n",
       "      <th>17</th>\n",
       "      <td>Markham</td>\n",
       "      <td>53136</td>\n",
       "    </tr>\n",
       "    <tr>\n",
       "      <th>18</th>\n",
       "      <td>Peoria</td>\n",
       "      <td>42542</td>\n",
       "    </tr>\n",
       "    <tr>\n",
       "      <th>19</th>\n",
       "      <td>North Las Vegas</td>\n",
       "      <td>35634</td>\n",
       "    </tr>\n",
       "  </tbody>\n",
       "</table>\n",
       "</div>"
      ],
      "text/plain": [
       "               city    count\n",
       "0         Las Vegas  1609318\n",
       "1           Phoenix   550164\n",
       "2           Toronto   483619\n",
       "3        Scottsdale   294496\n",
       "4         Charlotte   283581\n",
       "5        Pittsburgh   212637\n",
       "6         Henderson   156332\n",
       "7             Tempe   153852\n",
       "8          Montréal   150174\n",
       "9              Mesa   120877\n",
       "10         Chandler   119107\n",
       "11        Cleveland   106227\n",
       "12          Gilbert    97574\n",
       "13          Madison    89508\n",
       "14          Calgary    78670\n",
       "15         Glendale    76441\n",
       "16      Mississauga    54399\n",
       "17          Markham    53136\n",
       "18           Peoria    42542\n",
       "19  North Las Vegas    35634"
      ]
     },
     "execution_count": 203,
     "metadata": {},
     "output_type": "execute_result"
    }
   ],
   "source": [
    "restaurant_city = restaurants_reviews_df.city.value_counts().reset_index()\n",
    "restaurant_city.columns = ['city', 'count']\n",
    "restaurant_city.head(20)"
   ]
  },
  {
   "cell_type": "code",
   "execution_count": null,
   "metadata": {},
   "outputs": [],
   "source": []
  },
  {
   "cell_type": "code",
   "execution_count": null,
   "metadata": {},
   "outputs": [],
   "source": []
  },
  {
   "cell_type": "markdown",
   "metadata": {},
   "source": [
    "### Which cities have the best ```<category>``` ? "
   ]
  },
  {
   "cell_type": "code",
   "execution_count": 27,
   "metadata": {},
   "outputs": [],
   "source": [
    "pd.set_option('display.max_colwidth', 50)"
   ]
  },
  {
   "cell_type": "code",
   "execution_count": 28,
   "metadata": {},
   "outputs": [
    {
     "data": {
      "text/html": [
       "<div>\n",
       "<style scoped>\n",
       "    .dataframe tbody tr th:only-of-type {\n",
       "        vertical-align: middle;\n",
       "    }\n",
       "\n",
       "    .dataframe tbody tr th {\n",
       "        vertical-align: top;\n",
       "    }\n",
       "\n",
       "    .dataframe thead th {\n",
       "        text-align: right;\n",
       "    }\n",
       "</style>\n",
       "<table border=\"1\" class=\"dataframe\">\n",
       "  <thead>\n",
       "    <tr style=\"text-align: right;\">\n",
       "      <th></th>\n",
       "      <th>business_id</th>\n",
       "      <th>name</th>\n",
       "      <th>address</th>\n",
       "      <th>city</th>\n",
       "      <th>state</th>\n",
       "      <th>postal_code</th>\n",
       "      <th>latitude</th>\n",
       "      <th>longitude</th>\n",
       "      <th>stars</th>\n",
       "      <th>review_count</th>\n",
       "      <th>is_open</th>\n",
       "      <th>attributes</th>\n",
       "      <th>categories</th>\n",
       "      <th>hours</th>\n",
       "    </tr>\n",
       "  </thead>\n",
       "  <tbody>\n",
       "    <tr>\n",
       "      <th>8</th>\n",
       "      <td>pQeaRpvuhoEqudo3uymHIQ</td>\n",
       "      <td>The Empanadas House</td>\n",
       "      <td>404 E Green St</td>\n",
       "      <td>Champaign</td>\n",
       "      <td>IL</td>\n",
       "      <td>61820</td>\n",
       "      <td>40.110446</td>\n",
       "      <td>-88.233073</td>\n",
       "      <td>4.5</td>\n",
       "      <td>5</td>\n",
       "      <td>1</td>\n",
       "      <td>{'RestaurantsAttire': 'u'casual'', 'Restaurant...</td>\n",
       "      <td>Ethnic Food, Food Trucks, Specialty Food, Impo...</td>\n",
       "      <td>{'Monday': '11:30-14:30', 'Tuesday': '11:30-14...</td>\n",
       "    </tr>\n",
       "    <tr>\n",
       "      <th>12</th>\n",
       "      <td>M_guz7Dj7hX0evS672wIwA</td>\n",
       "      <td>Chocolate Shoppe Ice Cream</td>\n",
       "      <td>2831 Parmenter St</td>\n",
       "      <td>Middleton</td>\n",
       "      <td>WI</td>\n",
       "      <td>53562</td>\n",
       "      <td>43.105310</td>\n",
       "      <td>-89.510142</td>\n",
       "      <td>3.5</td>\n",
       "      <td>6</td>\n",
       "      <td>1</td>\n",
       "      <td>{'BikeParking': 'True', 'Caters': 'True', 'Whe...</td>\n",
       "      <td>Desserts, Food, Ice Cream &amp; Frozen Yogurt</td>\n",
       "      <td>{'Monday': '0:0-0:0', 'Tuesday': '11:0-21:0', ...</td>\n",
       "    </tr>\n",
       "    <tr>\n",
       "      <th>20</th>\n",
       "      <td>CsLQLiRoafpJPJSkNX2h5Q</td>\n",
       "      <td>Middle East Deli</td>\n",
       "      <td>4508 E Independence Blvd</td>\n",
       "      <td>Charlotte</td>\n",
       "      <td>NC</td>\n",
       "      <td>28205</td>\n",
       "      <td>35.194894</td>\n",
       "      <td>-80.767442</td>\n",
       "      <td>3.0</td>\n",
       "      <td>5</td>\n",
       "      <td>0</td>\n",
       "      <td>{'RestaurantsGoodForGroups': 'True', 'OutdoorS...</td>\n",
       "      <td>Food, Restaurants, Grocery, Middle Eastern</td>\n",
       "      <td>None</td>\n",
       "    </tr>\n",
       "    <tr>\n",
       "      <th>23</th>\n",
       "      <td>mKTq1T_IAplDpHUcMzOXkw</td>\n",
       "      <td>Tipsy Ryde</td>\n",
       "      <td></td>\n",
       "      <td>Gastonia</td>\n",
       "      <td>NC</td>\n",
       "      <td>28054</td>\n",
       "      <td>35.252842</td>\n",
       "      <td>-81.152698</td>\n",
       "      <td>3.5</td>\n",
       "      <td>3</td>\n",
       "      <td>1</td>\n",
       "      <td>{'BusinessAcceptsCreditCards': 'True'}</td>\n",
       "      <td>Hotels &amp; Travel, Transportation, Taxis, Beer, ...</td>\n",
       "      <td>{'Monday': '0:0-0:0', 'Tuesday': '9:0-0:0', 'W...</td>\n",
       "    </tr>\n",
       "    <tr>\n",
       "      <th>24</th>\n",
       "      <td>eBEfgOPG7pvFhb2wcG9I7w</td>\n",
       "      <td>Philthy Phillys</td>\n",
       "      <td>15480 Bayview Avenue, unit D0110</td>\n",
       "      <td>Aurora</td>\n",
       "      <td>ON</td>\n",
       "      <td>L4G 7J1</td>\n",
       "      <td>44.010962</td>\n",
       "      <td>-79.448677</td>\n",
       "      <td>4.5</td>\n",
       "      <td>4</td>\n",
       "      <td>1</td>\n",
       "      <td>{'RestaurantsTableService': 'False', 'Restaura...</td>\n",
       "      <td>Restaurants, Cheesesteaks, Poutineries</td>\n",
       "      <td>{'Monday': '11:0-22:0', 'Tuesday': '11:0-22:0'...</td>\n",
       "    </tr>\n",
       "  </tbody>\n",
       "</table>\n",
       "</div>"
      ],
      "text/plain": [
       "               business_id                        name  \\\n",
       "8   pQeaRpvuhoEqudo3uymHIQ         The Empanadas House   \n",
       "12  M_guz7Dj7hX0evS672wIwA  Chocolate Shoppe Ice Cream   \n",
       "20  CsLQLiRoafpJPJSkNX2h5Q            Middle East Deli   \n",
       "23  mKTq1T_IAplDpHUcMzOXkw                  Tipsy Ryde   \n",
       "24  eBEfgOPG7pvFhb2wcG9I7w             Philthy Phillys   \n",
       "\n",
       "                             address       city state postal_code   latitude  \\\n",
       "8                     404 E Green St  Champaign    IL       61820  40.110446   \n",
       "12                 2831 Parmenter St  Middleton    WI       53562  43.105310   \n",
       "20          4508 E Independence Blvd  Charlotte    NC       28205  35.194894   \n",
       "23                                     Gastonia    NC       28054  35.252842   \n",
       "24  15480 Bayview Avenue, unit D0110     Aurora    ON     L4G 7J1  44.010962   \n",
       "\n",
       "    longitude  stars  review_count  is_open  \\\n",
       "8  -88.233073    4.5             5        1   \n",
       "12 -89.510142    3.5             6        1   \n",
       "20 -80.767442    3.0             5        0   \n",
       "23 -81.152698    3.5             3        1   \n",
       "24 -79.448677    4.5             4        1   \n",
       "\n",
       "                                           attributes  \\\n",
       "8   {'RestaurantsAttire': 'u'casual'', 'Restaurant...   \n",
       "12  {'BikeParking': 'True', 'Caters': 'True', 'Whe...   \n",
       "20  {'RestaurantsGoodForGroups': 'True', 'OutdoorS...   \n",
       "23             {'BusinessAcceptsCreditCards': 'True'}   \n",
       "24  {'RestaurantsTableService': 'False', 'Restaura...   \n",
       "\n",
       "                                           categories  \\\n",
       "8   Ethnic Food, Food Trucks, Specialty Food, Impo...   \n",
       "12          Desserts, Food, Ice Cream & Frozen Yogurt   \n",
       "20         Food, Restaurants, Grocery, Middle Eastern   \n",
       "23  Hotels & Travel, Transportation, Taxis, Beer, ...   \n",
       "24             Restaurants, Cheesesteaks, Poutineries   \n",
       "\n",
       "                                                hours  \n",
       "8   {'Monday': '11:30-14:30', 'Tuesday': '11:30-14...  \n",
       "12  {'Monday': '0:0-0:0', 'Tuesday': '11:0-21:0', ...  \n",
       "20                                               None  \n",
       "23  {'Monday': '0:0-0:0', 'Tuesday': '9:0-0:0', 'W...  \n",
       "24  {'Monday': '11:0-22:0', 'Tuesday': '11:0-22:0'...  "
      ]
     },
     "execution_count": 28,
     "metadata": {},
     "output_type": "execute_result"
    }
   ],
   "source": [
    "restaurantsTrimmed.head()\n",
    "# dfCities = restaurantsTrimmed[[]]"
   ]
  },
  {
   "cell_type": "code",
   "execution_count": null,
   "metadata": {},
   "outputs": [],
   "source": []
  },
  {
   "cell_type": "code",
   "execution_count": null,
   "metadata": {},
   "outputs": [],
   "source": []
  },
  {
   "cell_type": "code",
   "execution_count": null,
   "metadata": {},
   "outputs": [],
   "source": []
  },
  {
   "cell_type": "markdown",
   "metadata": {},
   "source": [
    "# Reviews: Text Features"
   ]
  },
  {
   "cell_type": "code",
   "execution_count": null,
   "metadata": {},
   "outputs": [],
   "source": []
  },
  {
   "cell_type": "code",
   "execution_count": null,
   "metadata": {},
   "outputs": [],
   "source": []
  },
  {
   "cell_type": "code",
   "execution_count": null,
   "metadata": {},
   "outputs": [],
   "source": []
  },
  {
   "cell_type": "markdown",
   "metadata": {},
   "source": [
    "## Todo: Data integration\n",
    "\n",
    "> Compile all .json files into a relational database to improve accessibility.\n"
   ]
  }
 ],
 "metadata": {
  "kernelspec": {
   "display_name": "venv",
   "language": "python",
   "name": "venv"
  },
  "language_info": {
   "codemirror_mode": {
    "name": "ipython",
    "version": 3
   },
   "file_extension": ".py",
   "mimetype": "text/x-python",
   "name": "python",
   "nbconvert_exporter": "python",
   "pygments_lexer": "ipython3",
   "version": "3.9.2"
  }
 },
 "nbformat": 4,
 "nbformat_minor": 4
}
