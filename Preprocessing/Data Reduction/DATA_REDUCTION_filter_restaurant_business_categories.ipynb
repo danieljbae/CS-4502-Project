{
 "cells": [
  {
   "cell_type": "markdown",
   "metadata": {},
   "source": [
    "# Data Pre-Processing: Removing Unrelated Business Categories\n",
    "\n",
    "---\n",
    "\n",
    "### Problem Description:\n",
    "* The dataset ```yelp_academic_dataset_business.json``` has many business categories unrelated to food reviews.\n",
    "* Since our project focuses on food review text, we need to identify and remove unrelated business categories from our dataset during preprocessing."
   ]
  },
  {
   "cell_type": "code",
   "execution_count": 82,
   "metadata": {},
   "outputs": [
    {
     "name": "stdout",
     "output_type": "stream",
     "text": [
      "ActiveLife,Gun/RifleRanges,Guns&Ammo,Shopping\n",
      "Health&Medical,Fitness&Instruction,Yoga,ActiveLife,Pilates\n",
      "Pets,PetServices,PetGroomers\n",
      "HardwareStores,HomeServices,BuildingSupplies,Home&Garden,Shopping\n",
      "HomeServices,Plumbing,Electricians,Handyman,Contractors\n",
      "AutoRepair,Automotive,OilChangeStations,TransmissionRepair\n",
      "DryCleaning&Laundry,LocalServices,LaundryServices\n",
      "AutoRepair,OilChangeStations,Automotive,Tires\n",
      "EthnicFood,FoodTrucks,SpecialtyFood,ImportedFood,Argentine,Food,Restaurants,Empanadas\n",
      "MartialArts,Gyms,Fitness&Instruction,ActiveLife\n"
     ]
    }
   ],
   "source": [
    "import pandas as pd\n",
    "\n",
    "# Do not truncate column content and show all columns\n",
    "pd.set_option('display.max_colwidth', None)\n",
    "\n",
    "# Create a dataframe containing the first fifty datapoints\n",
    "dataframe = pd.read_json(\"yelp_academic_dataset_business.json\", lines=True, nrows=50)\n",
    "\n",
    "# Print each business category\n",
    "print(dataframe['categories'].head(n=10).to_string(index=False).replace(' ',''))"
   ]
  },
  {
   "cell_type": "markdown",
   "metadata": {},
   "source": [
    "### Regular Expressions Solution\n",
    "\n",
    "* The yelp developer documentation has a businesses [category list](https://www.yelp.com/developers/documentation/v3/category_list). \n",
    "\n",
    "\n",
    "* The category```Restaurant (restaurant)``` sub-divides into cuisine types, e.g.: \n",
    "    * Soul Food\n",
    "    * Tapas\n",
    "\n",
    "\n",
    "* The category```Food (food)``` sub-divides into food vendors, e.g.:\n",
    "    * Gelato\n",
    "    * Food Trucks\n",
    "\n",
    "\n",
    "* Ignore unrelated business categories involving food:\n",
    "    * Food Safety Training (foodsafety)\n",
    "    * Food Tours (foodtours)\n",
    "    * Food Banks (foodbanks)\n",
    "    \n",
    "\n",
    "\n",
    "* Use a regular expression to select targets categories for ```Food (food)``` and ```Restaurant (restaurant)```:"
   ]
  },
  {
   "cell_type": "code",
   "execution_count": 83,
   "metadata": {},
   "outputs": [
    {
     "name": "stdout",
     "output_type": "stream",
     "text": [
      "['Food,Restaurants,Grocery,MiddleEastern', 'Restaurants,Cheesesteaks,Poutineries', 'Food,Grocery', 'Food,Pretzels,Bakeries,FastFood,Restaurants', 'Restaurants,Burgers,Food', 'Restaurants,Vietnamese,Soup', 'Restaurants,Lebanese,MiddleEastern', 'Restaurants,FastFood,Burgers']\n"
     ]
    }
   ],
   "source": [
    "import re\n",
    "\n",
    "# Create a dataframe containing the fifty datapoints of the dataset\n",
    "dataframe = pd.read_json(\"yelp_academic_dataset_business.json\", lines=True, nrows=50)\n",
    "\n",
    "# Split the business category string by newline character\n",
    "businesses = dataframe['categories'].to_string(index=False).replace(' ','').splitlines()\n",
    "\n",
    "# Construct our regular expression\n",
    "foodieRegex = re.compile(r'\\bfood\\b|\\brestaurants\\b', flags=re.IGNORECASE)\n",
    "\n",
    "# Filter our business categories using the regular expression\n",
    "print(list(filter(foodieRegex.match, businesses)))"
   ]
  },
  {
   "cell_type": "markdown",
   "metadata": {},
   "source": [
    "\n",
    "    "
   ]
  },
  {
   "cell_type": "markdown",
   "metadata": {},
   "source": [
    "### Data Reduction: Remove Unrelated Business Categories"
   ]
  },
  {
   "cell_type": "code",
   "execution_count": 92,
   "metadata": {},
   "outputs": [
    {
     "name": "stdout",
     "output_type": "stream",
     "text": [
      "EthnicFood,FoodTrucks,SpecialtyFood,ImportedFood,Argentine,Food,Restaurants,Empanadas\n",
      "Desserts,Food,IceCream&FrozenYogurt\n",
      "Food,Restaurants,Grocery,MiddleEastern\n",
      "Hotels&Travel,Transportation,Taxis,Beer,Wine&Spirits,Food,FoodDeliveryServices\n",
      "Restaurants,Cheesesteaks,Poutineries\n",
      "Japanese,FastFood,FoodCourt,Restaurants\n",
      "Shopping,Food,OrganicStores,SpecialtyFood,HealthMarkets,FoodDeliveryServices,Grocery,FarmersMarket\n",
      "Persian/Iranian,Turkish,MiddleEastern,Restaurants,Kebab\n",
      "Food,Grocery\n",
      "Donuts,JuiceBars&Smoothies,Food,Coffee&Tea\n"
     ]
    }
   ],
   "source": [
    "# Use the regular expression above to create a boolean mask for each row in the dataframe. Note: na=False also filters NaN values\n",
    "boolMask = dataframe['categories'].str.contains(r'\\bfood\\b|\\brestaurants\\b',flags=re.IGNORECASE, na=False)\n",
    "\n",
    "# Apply the boolean mask to filter out all unrelated business categories\n",
    "restaurants = dataframe[boolMask]\n",
    "\n",
    "# Check the results\n",
    "print(restaurants['categories'].head(n=10).to_string(index=False).replace(' ',''))"
   ]
  },
  {
   "cell_type": "markdown",
   "metadata": {},
   "source": [
    "## Export to JSON\n",
    "\n",
    "* Apply the restaurant filter to all datapoints in ```yelp_academic_dataset_business.json``` then export the processed data as a JSON "
   ]
  },
  {
   "cell_type": "code",
   "execution_count": 149,
   "metadata": {},
   "outputs": [],
   "source": [
    "# Load the data\n",
    "dataframe = pd.read_json(\"yelp_academic_dataset_business.json\", lines=True)\n",
    "\n",
    "# Use the regular expression above to create a boolean mask for each row in the dataframe. Note: na=False also filters NaN values\n",
    "boolMask = dataframe['categories'].str.contains(r'\\bfood\\b|\\brestaurants\\b',flags=re.IGNORECASE, na=False)\n",
    "\n",
    "# Apply the boolean mask to filter out all unrelated business categories\n",
    "restaurants = dataframe[boolMask]\n",
    "\n",
    "# Export to JSON\n",
    "restaurants.to_json(r'yelp_academic_dataset_restaurants.json')"
   ]
  },
  {
   "cell_type": "markdown",
   "metadata": {},
   "source": [
    "## Check the updated dataframe for restaurants and food vendor locations in the state of Arizona"
   ]
  },
  {
   "cell_type": "code",
   "execution_count": 195,
   "metadata": {},
   "outputs": [
    {
     "name": "stdout",
     "output_type": "stream",
     "text": [
      "This dataset contains 15706 restaurants or food related vendors in the state of Arizona.\n",
      "\n",
      "\n"
     ]
    },
    {
     "data": {
      "text/html": [
       "<div>\n",
       "<style scoped>\n",
       "    .dataframe tbody tr th:only-of-type {\n",
       "        vertical-align: middle;\n",
       "    }\n",
       "\n",
       "    .dataframe tbody tr th {\n",
       "        vertical-align: top;\n",
       "    }\n",
       "\n",
       "    .dataframe thead th {\n",
       "        text-align: right;\n",
       "    }\n",
       "</style>\n",
       "<table border=\"1\" class=\"dataframe\">\n",
       "  <thead>\n",
       "    <tr style=\"text-align: right;\">\n",
       "      <th></th>\n",
       "      <th>business_id</th>\n",
       "      <th>name</th>\n",
       "      <th>address</th>\n",
       "      <th>city</th>\n",
       "      <th>state</th>\n",
       "      <th>postal_code</th>\n",
       "      <th>latitude</th>\n",
       "      <th>longitude</th>\n",
       "      <th>stars</th>\n",
       "      <th>review_count</th>\n",
       "      <th>is_open</th>\n",
       "      <th>attributes</th>\n",
       "      <th>categories</th>\n",
       "      <th>hours</th>\n",
       "      <th>geometry</th>\n",
       "    </tr>\n",
       "  </thead>\n",
       "  <tbody>\n",
       "    <tr>\n",
       "      <th>32</th>\n",
       "      <td>DCsS3SgVFO56F6wRO_ewgA</td>\n",
       "      <td>Missy Donuts &amp; Coffee</td>\n",
       "      <td>1255 W Main St</td>\n",
       "      <td>Mesa</td>\n",
       "      <td>AZ</td>\n",
       "      <td>85201</td>\n",
       "      <td>33.414409</td>\n",
       "      <td>-111.858378</td>\n",
       "      <td>2.5</td>\n",
       "      <td>7</td>\n",
       "      <td>0</td>\n",
       "      <td>{'BikeParking': 'True', 'BusinessParking': '{'garage': False, 'street': False, 'validated': False, 'lot': False, 'valet': False}', 'BusinessAcceptsCreditCards': 'True', 'RestaurantsPriceRange2': '1'}</td>\n",
       "      <td>Donuts, Juice Bars &amp; Smoothies, Food, Coffee &amp; Tea</td>\n",
       "      <td>{'Monday': '0:0-0:0', 'Tuesday': '0:0-0:0', 'Wednesday': '0:0-0:0', 'Thursday': '0:0-0:0', 'Friday': '0:0-0:0', 'Saturday': '0:0-0:0', 'Sunday': '0:0-0:0'}</td>\n",
       "      <td>POINT (-111.85838 33.41441)</td>\n",
       "    </tr>\n",
       "    <tr>\n",
       "      <th>33</th>\n",
       "      <td>vjTVxnsQEZ34XjYNS-XUpA</td>\n",
       "      <td>Wetzel's Pretzels</td>\n",
       "      <td>4550 East Cactus Rd, #KSFC-4</td>\n",
       "      <td>Phoenix</td>\n",
       "      <td>AZ</td>\n",
       "      <td>85032</td>\n",
       "      <td>33.602822</td>\n",
       "      <td>-111.983533</td>\n",
       "      <td>4.0</td>\n",
       "      <td>10</td>\n",
       "      <td>1</td>\n",
       "      <td>{'GoodForKids': 'True', 'RestaurantsTakeOut': 'True', 'RestaurantsPriceRange2': '1', 'BusinessAcceptsCreditCards': 'True', 'OutdoorSeating': 'False', 'BikeParking': 'True', 'RestaurantsAttire': 'u'casual'', 'RestaurantsReservations': 'False', 'Ambience': '{'romantic': False, 'intimate': False, 'touristy': False, 'hipster': False, 'divey': False, 'classy': False, 'trendy': False, 'upscale': False, 'casual': False}', 'RestaurantsGoodForGroups': 'True', 'Alcohol': 'u'none'', 'RestaurantsDelivery': 'False', 'HasTV': 'False', 'BusinessParking': '{'garage': False, 'street': False, 'validated': False, 'lot': True, 'valet': False}'}</td>\n",
       "      <td>Food, Pretzels, Bakeries, Fast Food, Restaurants</td>\n",
       "      <td>{'Monday': '10:0-21:0', 'Tuesday': '10:0-21:0', 'Wednesday': '10:0-21:0', 'Thursday': '10:0-21:0', 'Friday': '10:0-21:0', 'Saturday': '10:0-21:0', 'Sunday': '11:0-18:0'}</td>\n",
       "      <td>POINT (-111.98353 33.60282)</td>\n",
       "    </tr>\n",
       "    <tr>\n",
       "      <th>44</th>\n",
       "      <td>Ga2Bt7xfqoggTypWD5VpoQ</td>\n",
       "      <td>Amando's Bros</td>\n",
       "      <td>2602 W Southern Ave</td>\n",
       "      <td>Tempe</td>\n",
       "      <td>AZ</td>\n",
       "      <td>85282</td>\n",
       "      <td>33.393199</td>\n",
       "      <td>-111.976270</td>\n",
       "      <td>4.0</td>\n",
       "      <td>9</td>\n",
       "      <td>0</td>\n",
       "      <td>{'Caters': 'False', 'RestaurantsGoodForGroups': 'True', 'RestaurantsAttire': 'u'casual'', 'Alcohol': 'u'none'', 'Ambience': '{'romantic': False, 'intimate': False, 'classy': False, 'hipster': False, 'divey': False, 'touristy': False, 'trendy': False, 'upscale': False, 'casual': True}', 'RestaurantsTakeOut': 'True', 'NoiseLevel': 'u'quiet'', 'BusinessAcceptsCreditCards': 'True', 'WiFi': 'u'no'', 'RestaurantsReservations': 'False', 'HasTV': 'True', 'RestaurantsPriceRange2': '1', 'GoodForKids': 'True', 'RestaurantsDelivery': 'False', 'OutdoorSeating': 'False', 'BusinessParking': '{'garage': False, 'street': False, 'validated': False, 'lot': False, 'valet': False}'}</td>\n",
       "      <td>Mexican, Restaurants</td>\n",
       "      <td>{'Monday': '7:0-20:0', 'Tuesday': '7:0-20:0', 'Wednesday': '7:0-20:0', 'Thursday': '7:0-20:0', 'Friday': '7:0-20:0', 'Saturday': '7:0-20:0', 'Sunday': '7:0-20:0'}</td>\n",
       "      <td>POINT (-111.97627 33.39320)</td>\n",
       "    </tr>\n",
       "  </tbody>\n",
       "</table>\n",
       "</div>"
      ],
      "text/plain": [
       "               business_id                   name  \\\n",
       "32  DCsS3SgVFO56F6wRO_ewgA  Missy Donuts & Coffee   \n",
       "33  vjTVxnsQEZ34XjYNS-XUpA      Wetzel's Pretzels   \n",
       "44  Ga2Bt7xfqoggTypWD5VpoQ          Amando's Bros   \n",
       "\n",
       "                         address     city state postal_code   latitude  \\\n",
       "32                1255 W Main St     Mesa    AZ       85201  33.414409   \n",
       "33  4550 East Cactus Rd, #KSFC-4  Phoenix    AZ       85032  33.602822   \n",
       "44           2602 W Southern Ave    Tempe    AZ       85282  33.393199   \n",
       "\n",
       "     longitude  stars  review_count  is_open  \\\n",
       "32 -111.858378    2.5             7        0   \n",
       "33 -111.983533    4.0            10        1   \n",
       "44 -111.976270    4.0             9        0   \n",
       "\n",
       "                                                                                                                                                                                                                                                                                                                                                                                                                                                                                                                                                                                                                                                                                        attributes  \\\n",
       "32                                                                                                                                                                                                                                                                                                                                                                                                                                                                                         {'BikeParking': 'True', 'BusinessParking': '{'garage': False, 'street': False, 'validated': False, 'lot': False, 'valet': False}', 'BusinessAcceptsCreditCards': 'True', 'RestaurantsPriceRange2': '1'}   \n",
       "33                                        {'GoodForKids': 'True', 'RestaurantsTakeOut': 'True', 'RestaurantsPriceRange2': '1', 'BusinessAcceptsCreditCards': 'True', 'OutdoorSeating': 'False', 'BikeParking': 'True', 'RestaurantsAttire': 'u'casual'', 'RestaurantsReservations': 'False', 'Ambience': '{'romantic': False, 'intimate': False, 'touristy': False, 'hipster': False, 'divey': False, 'classy': False, 'trendy': False, 'upscale': False, 'casual': False}', 'RestaurantsGoodForGroups': 'True', 'Alcohol': 'u'none'', 'RestaurantsDelivery': 'False', 'HasTV': 'False', 'BusinessParking': '{'garage': False, 'street': False, 'validated': False, 'lot': True, 'valet': False}'}   \n",
       "44  {'Caters': 'False', 'RestaurantsGoodForGroups': 'True', 'RestaurantsAttire': 'u'casual'', 'Alcohol': 'u'none'', 'Ambience': '{'romantic': False, 'intimate': False, 'classy': False, 'hipster': False, 'divey': False, 'touristy': False, 'trendy': False, 'upscale': False, 'casual': True}', 'RestaurantsTakeOut': 'True', 'NoiseLevel': 'u'quiet'', 'BusinessAcceptsCreditCards': 'True', 'WiFi': 'u'no'', 'RestaurantsReservations': 'False', 'HasTV': 'True', 'RestaurantsPriceRange2': '1', 'GoodForKids': 'True', 'RestaurantsDelivery': 'False', 'OutdoorSeating': 'False', 'BusinessParking': '{'garage': False, 'street': False, 'validated': False, 'lot': False, 'valet': False}'}   \n",
       "\n",
       "                                            categories  \\\n",
       "32  Donuts, Juice Bars & Smoothies, Food, Coffee & Tea   \n",
       "33    Food, Pretzels, Bakeries, Fast Food, Restaurants   \n",
       "44                                Mexican, Restaurants   \n",
       "\n",
       "                                                                                                                                                                        hours  \\\n",
       "32                {'Monday': '0:0-0:0', 'Tuesday': '0:0-0:0', 'Wednesday': '0:0-0:0', 'Thursday': '0:0-0:0', 'Friday': '0:0-0:0', 'Saturday': '0:0-0:0', 'Sunday': '0:0-0:0'}   \n",
       "33  {'Monday': '10:0-21:0', 'Tuesday': '10:0-21:0', 'Wednesday': '10:0-21:0', 'Thursday': '10:0-21:0', 'Friday': '10:0-21:0', 'Saturday': '10:0-21:0', 'Sunday': '11:0-18:0'}   \n",
       "44         {'Monday': '7:0-20:0', 'Tuesday': '7:0-20:0', 'Wednesday': '7:0-20:0', 'Thursday': '7:0-20:0', 'Friday': '7:0-20:0', 'Saturday': '7:0-20:0', 'Sunday': '7:0-20:0'}   \n",
       "\n",
       "                       geometry  \n",
       "32  POINT (-111.85838 33.41441)  \n",
       "33  POINT (-111.98353 33.60282)  \n",
       "44  POINT (-111.97627 33.39320)  "
      ]
     },
     "execution_count": 195,
     "metadata": {},
     "output_type": "execute_result"
    }
   ],
   "source": [
    "import matplotlib.pyplot as plt\n",
    "import descartes\n",
    "import geopandas as gpd\n",
    "from shapely.geometry import Point, Polygon\n",
    "\n",
    "# Apply a filter to select all restaurants in the state of Arizona\n",
    "arizonaFilter = restaurants['state'].str.contains(r'\\bAZ\\b', na=False)\n",
    "arizonaRestaurants = restaurants[arizonaFilter]\n",
    "\n",
    "# How many restaurants / food related vendors are there in our dataset for the state of Arizona?\n",
    "print(f\"This dataset contains {arizonaRestaurants.shape[0]} restaurants or food related vendors in the state of Arizona.\\n\\n\")\n",
    "\n",
    "# Get the longitude and latitude data\n",
    "geometry = [Point(xy) for xy in zip(arizonaRestaurants['longitude'], arizonaRestaurants['latitude'])]\n",
    "geo_df = gpd.GeoDataFrame(arizonaRestaurants, geometry=geometry)\n",
    "geo_df.head(n=3)"
   ]
  },
  {
   "cell_type": "markdown",
   "metadata": {},
   "source": [
    "## Summary:\n",
    "    \n",
    "* According to the Yelp developer documentation, regular expressions should be sufficient to remove unrelated business categories from our dataset.\n",
    "\n",
    "* If our data set were not structured and well documented, we would likely need to consider a classification technique for businesses such as **Named Entiy Recognition (NER)**.\n",
    "---"
   ]
  },
  {
   "cell_type": "code",
   "execution_count": null,
   "metadata": {},
   "outputs": [],
   "source": []
  }
 ],
 "metadata": {
  "kernelspec": {
   "display_name": "venv",
   "language": "python",
   "name": "venv"
  },
  "language_info": {
   "codemirror_mode": {
    "name": "ipython",
    "version": 3
   },
   "file_extension": ".py",
   "mimetype": "text/x-python",
   "name": "python",
   "nbconvert_exporter": "python",
   "pygments_lexer": "ipython3",
   "version": "3.9.1"
  }
 },
 "nbformat": 4,
 "nbformat_minor": 4
}
