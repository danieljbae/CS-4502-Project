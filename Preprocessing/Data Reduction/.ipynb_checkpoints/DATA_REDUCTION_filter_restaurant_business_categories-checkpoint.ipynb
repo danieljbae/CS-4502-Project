{
 "cells": [
  {
   "cell_type": "markdown",
   "metadata": {},
   "source": [
    "# Data Pre-Processing: Removing Unrelated Business Categories\n",
    "\n",
    "---\n",
    "\n",
    "## Problem Description:\n",
    "* The dataset ```yelp_academic_dataset_business.json``` has many business categories unrelated to food reviews.\n",
    "* Since our project focuses on food review text, we need to identify and remove unrelated business categories from our dataset during preprocessing."
   ]
  },
  {
   "cell_type": "code",
   "execution_count": 53,
   "metadata": {},
   "outputs": [
    {
     "name": "stdout",
     "output_type": "stream",
     "text": [
      "ActiveLife,Gun/RifleRanges,Guns&Ammo,Shopping\n",
      "Health&Medical,Fitness&Instruction,Yoga,ActiveLife,Pilates\n",
      "Pets,PetServices,PetGroomers\n",
      "HardwareStores,HomeServices,BuildingSupplies,Home&Garden,Shopping\n",
      "HomeServices,Plumbing,Electricians,Handyman,Contractors\n",
      "AutoRepair,Automotive,OilChangeStations,TransmissionRepair\n",
      "DryCleaning&Laundry,LocalServices,LaundryServices\n",
      "AutoRepair,OilChangeStations,Automotive,Tires\n",
      "EthnicFood,FoodTrucks,SpecialtyFood,ImportedFood,Argentine,Food,Restaurants,Empanadas\n",
      "MartialArts,Gyms,Fitness&Instruction,ActiveLife\n"
     ]
    }
   ],
   "source": [
    "import pandas as pd\n",
    "\n",
    "# Do not truncate column content and show all columns\n",
    "pd.set_option('display.max_colwidth', None)\n",
    "\n",
    "# Create a dataframe containing all business categories\n",
    "dataframe = pd.read_json(\"yelp_academic_dataset_business.json\", lines=True)\n",
    "\n",
    "# Print n=10 business category\n",
    "print(dataframe['categories'].head(n=10).to_string(index=False).replace(' ',''))"
   ]
  },
  {
   "cell_type": "markdown",
   "metadata": {},
   "source": [
    "## Business Categories Documentation:\n",
    "\n",
    "* The yelp developer documentation has a businesses [category list](https://www.yelp.com/developers/documentation/v3/category_list). \n",
    "\n",
    "\n",
    "* The category```Restaurant (restaurant)``` sub-divides into cuisine types, e.g.: \n",
    "    * Soul Food\n",
    "    * Tapas\n",
    "    * ...\n",
    "\n",
    "\n",
    "* The category```Food (food)``` sub-divides into food vendors, e.g.:\n",
    "    * Gelato\n",
    "    * Food Trucks\n",
    "    * ...\n",
    "    \n",
    "\n",
    "* We should be good to go by just filtering out all businesses that do not contain 'Food' or 'Restaurant' using regular expressions.\n",
    "\n",
    "---\n"
   ]
  },
  {
   "cell_type": "markdown",
   "metadata": {},
   "source": [
    "## Solution 1: "
   ]
  },
  {
   "cell_type": "code",
   "execution_count": 62,
   "metadata": {},
   "outputs": [
    {
     "name": "stdout",
     "output_type": "stream",
     "text": [
      "EthnicFood,FoodTrucks,SpecialtyFood,ImportedFood,Argentine,Food,Restaurants,Empanadas\n",
      "Desserts,Food,IceCream&FrozenYogurt\n",
      "Food,Restaurants,Grocery,MiddleEastern\n",
      "Hotels&Travel,Transportation,Taxis,Beer,Wine&Spirits,Food,FoodDeliveryServices\n",
      "Restaurants,Cheesesteaks,Poutineries\n",
      "Japanese,FastFood,FoodCourt,Restaurants\n",
      "Shopping,Food,OrganicStores,SpecialtyFood,HealthMarkets,FoodDeliveryServices,Grocery,FarmersMarket\n",
      "Persian/Iranian,Turkish,MiddleEastern,Restaurants,Kebab\n",
      "Food,Grocery\n",
      "Donuts,JuiceBars&Smoothies,Food,Coffee&Tea\n",
      "----------------------------------------------------------------------------------------------------\n",
      "\n",
      "Found 80492 restaurants or food related vendors\n"
     ]
    }
   ],
   "source": [
    "import re\n",
    "\n",
    "# Use the regular expression above to create a boolean mask for each row in the dataframe. Note: na=False also filters NaN values\n",
    "boolMask = dataframe['categories'].str.contains(r'\\bfood\\b|\\brestaurants\\b',flags=re.IGNORECASE, na=False)\n",
    "\n",
    "# Apply the boolean mask to filter out all unrelated business categories\n",
    "restaurants = dataframe[boolMask]\n",
    "\n",
    "# Check the results\n",
    "print(restaurants['categories'].head(n=10).to_string(index=False).replace(' ',''))\n",
    "print('--'*50)\n",
    "print(f'\\nFound {len(restaurants)} restaurants or food related vendors')"
   ]
  },
  {
   "cell_type": "markdown",
   "metadata": {},
   "source": [
    "---\n",
    "\n",
    "## Solution 2:\n",
    "\n",
    "* Similar to solution 1: Use regex and bool mask but code may be more readable"
   ]
  },
  {
   "cell_type": "code",
   "execution_count": 64,
   "metadata": {},
   "outputs": [
    {
     "name": "stdout",
     "output_type": "stream",
     "text": [
      "EthnicFood,FoodTrucks,SpecialtyFood,ImportedFood,Argentine,Food,Restaurants,Empanadas\n",
      "Desserts,Food,IceCream&FrozenYogurt\n",
      "Food,Restaurants,Grocery,MiddleEastern\n",
      "Hotels&Travel,Transportation,Taxis,Beer,Wine&Spirits,Food,FoodDeliveryServices\n",
      "Restaurants,Cheesesteaks,Poutineries\n",
      "Japanese,FastFood,FoodCourt,Restaurants\n",
      "Shopping,Food,OrganicStores,SpecialtyFood,HealthMarkets,FoodDeliveryServices,Grocery,FarmersMarket\n",
      "Persian/Iranian,Turkish,MiddleEastern,Restaurants,Kebab\n",
      "Food,Grocery\n",
      "Donuts,JuiceBars&Smoothies,Food,Coffee&Tea\n",
      "----------------------------------------------------------------------------------------------------\n",
      "\n",
      "Found 80492 restaurants or food related vendors\n"
     ]
    }
   ],
   "source": [
    "# Filter the original dataframe categories using a bool mask for 'Restaurants' or 'Food' and str.contains()\n",
    "restaurants_2 = dataframe[\n",
    "        (dataframe['categories'].str.contains('Restaurants')==True) | \n",
    "        (dataframe['categories'].str.contains('Food')==True) \n",
    "]\n",
    "\n",
    "# Check the results\n",
    "print(restaurants_2['categories'].head(n=10).to_string(index=False).replace(' ',''))\n",
    "print('--'*50)\n",
    "print(f'\\nFound {len(restaurants)} restaurants or food related vendors')"
   ]
  },
  {
   "cell_type": "markdown",
   "metadata": {},
   "source": [
    "---\n",
    "\n",
    "## Export to JSON\n",
    "\n",
    "* Apply the restaurant filter to all datapoints in ```yelp_academic_dataset_business.json``` then export the processed data as a JSON "
   ]
  },
  {
   "cell_type": "code",
   "execution_count": 65,
   "metadata": {},
   "outputs": [],
   "source": [
    "# Export to JSON\n",
    "restaurants.to_json(r'yelp_academic_dataset_restaurants.json')"
   ]
  },
  {
   "cell_type": "markdown",
   "metadata": {},
   "source": [
    "## Summary:\n",
    "    \n",
    "* According to the Yelp developer documentation, regular expressions should be sufficient to remove unrelated business categories from our dataset.\n",
    "\n",
    "* If our data set were not structured and well documented, we would likely need to consider a classification technique for businesses such as **Named Entiy Recognition (NER)**.\n",
    "---"
   ]
  },
  {
   "cell_type": "code",
   "execution_count": null,
   "metadata": {},
   "outputs": [],
   "source": []
  }
 ],
 "metadata": {
  "kernelspec": {
   "display_name": "venv",
   "language": "python",
   "name": "venv"
  },
  "language_info": {
   "codemirror_mode": {
    "name": "ipython",
    "version": 3
   },
   "file_extension": ".py",
   "mimetype": "text/x-python",
   "name": "python",
   "nbconvert_exporter": "python",
   "pygments_lexer": "ipython3",
   "version": "3.9.1"
  }
 },
 "nbformat": 4,
 "nbformat_minor": 4
}
