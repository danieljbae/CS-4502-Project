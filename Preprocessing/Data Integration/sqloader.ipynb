{
 "cells": [
  {
   "cell_type": "code",
   "execution_count": 1,
   "metadata": {},
   "outputs": [],
   "source": [
    "#Standalone lines, delete table to re-perform import, close connection when needed, free memory\n",
    "import gc\n",
    "# c.execute(\"Drop table if exists Businesses\")\n",
    "# c.execute(\"Drop table if exists Checkins\")\n",
    "# c.execute(\"Drop table if exists Users\")\n",
    "# c.execute(\"Drop table if exists Tips\")\n",
    "# c.execute(\"Drop table if exists Reviews\")\n",
    "# c.execute(\"Drop table if exists LV_Businesses\")\n",
    "# c.execute(\"Drop table if exists Joined\")\n",
    "# c.execute(\"Drop table if exists LV_Reviews\")"
   ]
  },
  {
   "cell_type": "code",
   "execution_count": 68,
   "metadata": {},
   "outputs": [],
   "source": [
    "#conn.close()"
   ]
  },
  {
   "cell_type": "code",
   "execution_count": 2,
   "metadata": {},
   "outputs": [
    {
     "data": {
      "text/plain": [
       "28"
      ]
     },
     "execution_count": 2,
     "metadata": {},
     "output_type": "execute_result"
    }
   ],
   "source": [
    "gc.collect()"
   ]
  },
  {
   "cell_type": "code",
   "execution_count": 3,
   "metadata": {},
   "outputs": [
    {
     "name": "stdout",
     "output_type": "stream",
     "text": [
      "2.6.0\n",
      "Wall time: 1.26 s\n"
     ]
    }
   ],
   "source": [
    "%%time\n",
    "import pandas as pd\n",
    "import json\n",
    "import sqlite3\n",
    "from sqlite3 import Error\n",
    "\n",
    "def create_connection(db_file):\n",
    "    \"\"\" create a database connection to a SQLite database \"\"\"\n",
    "    conn = None\n",
    "    try:\n",
    "        conn = sqlite3.connect(db_file)\n",
    "        print(sqlite3.version)\n",
    "    except Error as e:\n",
    "        print(e)\n",
    "    finally:\n",
    "        if conn:\n",
    "            return conn\n",
    "\n",
    "# fullyelp.db created and used instead of original yelp.db for troubleshooting\n",
    "conn = create_connection(r\"C:\\Users\\pajuc\\Documents\\yelp\\data\\yelp.db\")\n",
    "c = conn.cursor()"
   ]
  },
  {
   "cell_type": "code",
   "execution_count": 4,
   "metadata": {},
   "outputs": [
    {
     "name": "stdout",
     "output_type": "stream",
     "text": [
      "Wall time: 0 ns\n"
     ]
    }
   ],
   "source": [
    "%%time\n",
    "import pandas as pd\n",
    "prefix = \"C:\\\\Users\\\\pajuc\\\\Documents\\\\yelp\\\\data\\\\\"\n",
    "filePaths = {\n",
    "    \"reviews\": prefix + 'yelp_academic_dataset_review.json',\n",
    "    \"businesses\": prefix + 'yelp_academic_dataset_business.json',\n",
    "    \"checkins\": prefix + 'yelp_academic_dataset_checkin.json',\n",
    "    \"tips\": prefix + 'yelp_academic_dataset_tip.json',\n",
    "    \"users\": prefix + 'yelp_academic_dataset_user.json'\n",
    "}"
   ]
  },
  {
   "cell_type": "code",
   "execution_count": 5,
   "metadata": {},
   "outputs": [
    {
     "name": "stdout",
     "output_type": "stream",
     "text": [
      "Wall time: 13.6 s\n"
     ]
    }
   ],
   "source": [
    "%%time\n",
    "#Loads business table, entire JSON fits in memory\n",
    "dfBusinesses = pd.read_json(\n",
    "    filePaths[\"businesses\"], \n",
    "    lines=True\n",
    ")\n",
    "\n",
    "# This is a little brute force to get these dicts into SQL text. There are wrappers to maintain the struct if needed...\n",
    "# Right now they will just be a large string. Since they are structured it may be easier to make some functions to\n",
    "# extract info. TBD\n",
    "\n",
    "dfBusinesses['attributes'] = dfBusinesses['attributes'].apply(json.dumps)\n",
    "dfBusinesses['hours'] = dfBusinesses['hours'].apply(json.dumps)\n",
    "dfBusinesses.to_sql('Businesses', con=conn)"
   ]
  },
  {
   "cell_type": "code",
   "execution_count": 6,
   "metadata": {},
   "outputs": [
    {
     "name": "stdout",
     "output_type": "stream",
     "text": [
      "Wall time: 10.3 s\n"
     ]
    }
   ],
   "source": [
    "%%time\n",
    "#Loads checkins table\n",
    "dfCheckins = pd.read_json(\n",
    "    filePaths[\"checkins\"], \n",
    "    lines=True\n",
    ")\n",
    "dfCheckins.to_sql('Checkins', con=conn)"
   ]
  },
  {
   "cell_type": "code",
   "execution_count": 7,
   "metadata": {},
   "outputs": [
    {
     "name": "stdout",
     "output_type": "stream",
     "text": [
      "Wall time: 25.3 s\n"
     ]
    }
   ],
   "source": [
    "%%time\n",
    "#Loads tips table\n",
    "dfTips = pd.read_json(\n",
    "    filePaths[\"tips\"], \n",
    "    lines=True\n",
    ")\n",
    "dfTips.to_sql('Tips', con=conn)"
   ]
  },
  {
   "cell_type": "code",
   "execution_count": 8,
   "metadata": {},
   "outputs": [
    {
     "name": "stdout",
     "output_type": "stream",
     "text": [
      "Wall time: 2min 1s\n"
     ]
    }
   ],
   "source": [
    "%%time\n",
    "# Loads users table\n",
    "# There is a bug in pandas 1.1.3 (et al) requiring nrows to be greater than # lines in file\n",
    "# This was causing issues with chunking, but excess nrows fixed it.\n",
    "# I read it was solved in 1.1.4 but didn't bother trying\n",
    "\n",
    "for df in pd.read_json(\n",
    "    filePaths[\"users\"], \n",
    "    lines=True,\n",
    "    orient='records',\n",
    "    chunksize=100000,\n",
    "    nrows=234236523\n",
    "):\n",
    "    new_users = pd.DataFrame(df)\n",
    "    new_users.to_sql('Users', con=conn, if_exists='append')"
   ]
  },
  {
   "cell_type": "code",
   "execution_count": 9,
   "metadata": {},
   "outputs": [
    {
     "name": "stdout",
     "output_type": "stream",
     "text": [
      "Wall time: 5min 9s\n"
     ]
    }
   ],
   "source": [
    "%%time\n",
    "# Loads reviews table\n",
    "for df in pd.read_json(\n",
    "    filePaths[\"reviews\"], \n",
    "    lines=True,\n",
    "    orient='records',\n",
    "    chunksize=100000, # Dataframe size\n",
    "    nrows=4234236234234\n",
    "):\n",
    "    new_reviews = pd.DataFrame(df)\n",
    "    new_reviews.to_sql('Reviews', con=conn, if_exists='append')"
   ]
  },
  {
   "cell_type": "code",
   "execution_count": 11,
   "metadata": {},
   "outputs": [],
   "source": [
    "## Requires exported json from DataReduction_Businesses (Las Vegas businesses subset)\n",
    "import os\n",
    "vegas = pd.read_json(os.path.abspath('') + \"/cleaned_restaurants.json\")"
   ]
  },
  {
   "cell_type": "code",
   "execution_count": 12,
   "metadata": {},
   "outputs": [
    {
     "data": {
      "text/html": [
       "<div>\n",
       "<style scoped>\n",
       "    .dataframe tbody tr th:only-of-type {\n",
       "        vertical-align: middle;\n",
       "    }\n",
       "\n",
       "    .dataframe tbody tr th {\n",
       "        vertical-align: top;\n",
       "    }\n",
       "\n",
       "    .dataframe thead th {\n",
       "        text-align: right;\n",
       "    }\n",
       "</style>\n",
       "<table border=\"1\" class=\"dataframe\">\n",
       "  <thead>\n",
       "    <tr style=\"text-align: right;\">\n",
       "      <th></th>\n",
       "      <th>index</th>\n",
       "      <th>business_id</th>\n",
       "      <th>name</th>\n",
       "      <th>address</th>\n",
       "      <th>city</th>\n",
       "      <th>state</th>\n",
       "      <th>postal_code</th>\n",
       "      <th>latitude</th>\n",
       "      <th>longitude</th>\n",
       "      <th>stars</th>\n",
       "      <th>review_count</th>\n",
       "      <th>is_open</th>\n",
       "      <th>attributes</th>\n",
       "      <th>categories</th>\n",
       "      <th>hours</th>\n",
       "    </tr>\n",
       "  </thead>\n",
       "  <tbody>\n",
       "    <tr>\n",
       "      <th>0</th>\n",
       "      <td>0</td>\n",
       "      <td>fnZrZlqW1Z8iWgTVDfv_MA</td>\n",
       "      <td>Carl's Jr</td>\n",
       "      <td>9595 W Tropicana Ave</td>\n",
       "      <td>Las Vegas</td>\n",
       "      <td>NV</td>\n",
       "      <td>89147</td>\n",
       "      <td>36.099738</td>\n",
       "      <td>-115.301568</td>\n",
       "      <td>2.5</td>\n",
       "      <td>15</td>\n",
       "      <td>0</td>\n",
       "      <td>{'Alcohol': 'u'none'', 'WiFi': 'u'no'', 'GoodF...</td>\n",
       "      <td>Mexican, Restaurants, Fast Food</td>\n",
       "      <td>None</td>\n",
       "    </tr>\n",
       "    <tr>\n",
       "      <th>1</th>\n",
       "      <td>1</td>\n",
       "      <td>fhNf_sg-XzZ3e7HEVGuOZg</td>\n",
       "      <td>Meat Chix And Wieners</td>\n",
       "      <td>6530 S Decatur Blvd</td>\n",
       "      <td>Las Vegas</td>\n",
       "      <td>NV</td>\n",
       "      <td>89118</td>\n",
       "      <td>36.071196</td>\n",
       "      <td>-115.207463</td>\n",
       "      <td>3.0</td>\n",
       "      <td>10</td>\n",
       "      <td>0</td>\n",
       "      <td>{'RestaurantsPriceRange2': '2', 'BusinessParki...</td>\n",
       "      <td>Burgers, Restaurants, American (Traditional), ...</td>\n",
       "      <td>{'Monday': '11:0-22:0', 'Tuesday': '11:0-22:0'...</td>\n",
       "    </tr>\n",
       "    <tr>\n",
       "      <th>2</th>\n",
       "      <td>3</td>\n",
       "      <td>MTx-Zdl_KcU_z9G832XAjg</td>\n",
       "      <td>Taco Bell</td>\n",
       "      <td>8033 N Durango Dr</td>\n",
       "      <td>Las Vegas</td>\n",
       "      <td>NV</td>\n",
       "      <td>89131</td>\n",
       "      <td>36.307495</td>\n",
       "      <td>-115.279059</td>\n",
       "      <td>2.5</td>\n",
       "      <td>37</td>\n",
       "      <td>1</td>\n",
       "      <td>{'OutdoorSeating': 'False', 'Alcohol': 'u'none...</td>\n",
       "      <td>Fast Food, Restaurants</td>\n",
       "      <td>None</td>\n",
       "    </tr>\n",
       "    <tr>\n",
       "      <th>3</th>\n",
       "      <td>6</td>\n",
       "      <td>upSPwM6Fr6RHAhwagnleow</td>\n",
       "      <td>Manantial De Salud</td>\n",
       "      <td>4254 E Charleston Blvd</td>\n",
       "      <td>Las Vegas</td>\n",
       "      <td>NV</td>\n",
       "      <td>89104</td>\n",
       "      <td>36.159221</td>\n",
       "      <td>-115.082607</td>\n",
       "      <td>5.0</td>\n",
       "      <td>3</td>\n",
       "      <td>1</td>\n",
       "      <td>{'BusinessAcceptsBitcoin': 'False', 'BikeParki...</td>\n",
       "      <td>Specialty Food, Health Markets, Food, Shopping...</td>\n",
       "      <td>{'Monday': '0:0-0:0', 'Tuesday': '10:0-18:30',...</td>\n",
       "    </tr>\n",
       "    <tr>\n",
       "      <th>4</th>\n",
       "      <td>7</td>\n",
       "      <td>Yr_w9lakJrKMyEG_hI6zbA</td>\n",
       "      <td>Fat Moe's Pizza &amp; Wings</td>\n",
       "      <td>6125 W Tropicana Ave, Ste F</td>\n",
       "      <td>Las Vegas</td>\n",
       "      <td>NV</td>\n",
       "      <td>89103</td>\n",
       "      <td>36.099361</td>\n",
       "      <td>-115.226636</td>\n",
       "      <td>4.0</td>\n",
       "      <td>141</td>\n",
       "      <td>1</td>\n",
       "      <td>{'RestaurantsAttire': 'u'casual'', 'Restaurant...</td>\n",
       "      <td>Pizza, Salad, Burgers, Restaurants</td>\n",
       "      <td>{'Monday': '11:0-22:0', 'Tuesday': '11:0-22:0'...</td>\n",
       "    </tr>\n",
       "  </tbody>\n",
       "</table>\n",
       "</div>"
      ],
      "text/plain": [
       "   index             business_id                     name  \\\n",
       "0      0  fnZrZlqW1Z8iWgTVDfv_MA                Carl's Jr   \n",
       "1      1  fhNf_sg-XzZ3e7HEVGuOZg    Meat Chix And Wieners   \n",
       "2      3  MTx-Zdl_KcU_z9G832XAjg                Taco Bell   \n",
       "3      6  upSPwM6Fr6RHAhwagnleow       Manantial De Salud   \n",
       "4      7  Yr_w9lakJrKMyEG_hI6zbA  Fat Moe's Pizza & Wings   \n",
       "\n",
       "                       address       city state postal_code   latitude  \\\n",
       "0         9595 W Tropicana Ave  Las Vegas    NV       89147  36.099738   \n",
       "1          6530 S Decatur Blvd  Las Vegas    NV       89118  36.071196   \n",
       "2            8033 N Durango Dr  Las Vegas    NV       89131  36.307495   \n",
       "3       4254 E Charleston Blvd  Las Vegas    NV       89104  36.159221   \n",
       "4  6125 W Tropicana Ave, Ste F  Las Vegas    NV       89103  36.099361   \n",
       "\n",
       "    longitude  stars  review_count  is_open  \\\n",
       "0 -115.301568    2.5            15        0   \n",
       "1 -115.207463    3.0            10        0   \n",
       "2 -115.279059    2.5            37        1   \n",
       "3 -115.082607    5.0             3        1   \n",
       "4 -115.226636    4.0           141        1   \n",
       "\n",
       "                                          attributes  \\\n",
       "0  {'Alcohol': 'u'none'', 'WiFi': 'u'no'', 'GoodF...   \n",
       "1  {'RestaurantsPriceRange2': '2', 'BusinessParki...   \n",
       "2  {'OutdoorSeating': 'False', 'Alcohol': 'u'none...   \n",
       "3  {'BusinessAcceptsBitcoin': 'False', 'BikeParki...   \n",
       "4  {'RestaurantsAttire': 'u'casual'', 'Restaurant...   \n",
       "\n",
       "                                          categories  \\\n",
       "0                    Mexican, Restaurants, Fast Food   \n",
       "1  Burgers, Restaurants, American (Traditional), ...   \n",
       "2                             Fast Food, Restaurants   \n",
       "3  Specialty Food, Health Markets, Food, Shopping...   \n",
       "4                 Pizza, Salad, Burgers, Restaurants   \n",
       "\n",
       "                                               hours  \n",
       "0                                               None  \n",
       "1  {'Monday': '11:0-22:0', 'Tuesday': '11:0-22:0'...  \n",
       "2                                               None  \n",
       "3  {'Monday': '0:0-0:0', 'Tuesday': '10:0-18:30',...  \n",
       "4  {'Monday': '11:0-22:0', 'Tuesday': '11:0-22:0'...  "
      ]
     },
     "execution_count": 12,
     "metadata": {},
     "output_type": "execute_result"
    }
   ],
   "source": [
    "vegas.head()"
   ]
  },
  {
   "cell_type": "code",
   "execution_count": 13,
   "metadata": {},
   "outputs": [
    {
     "name": "stdout",
     "output_type": "stream",
     "text": [
      "Wall time: 193 ms\n"
     ]
    }
   ],
   "source": [
    "%%time\n",
    "#c.execute(\"Drop table if exists LV_Businesses\")\n",
    "vegas['attributes'] = vegas['attributes'].apply(json.dumps)\n",
    "vegas['hours'] = vegas['hours'].apply(json.dumps)\n",
    "vegas.to_sql('LV_Businesses', con=conn)"
   ]
  },
  {
   "cell_type": "code",
   "execution_count": 14,
   "metadata": {},
   "outputs": [
    {
     "name": "stdout",
     "output_type": "stream",
     "text": [
      "Wall time: 7min 25s\n"
     ]
    }
   ],
   "source": [
    "%%time\n",
    "# Creates dataframe joining reviews to LV Businesses\n",
    "# 2GB in-memory\n",
    "join_query =  pd.read_sql_query(\"Select * from Reviews Join LV_Businesses on Reviews.business_id = LV_Businesses.business_id\", conn)"
   ]
  },
  {
   "cell_type": "code",
   "execution_count": 15,
   "metadata": {},
   "outputs": [
    {
     "data": {
      "text/html": [
       "<div>\n",
       "<style scoped>\n",
       "    .dataframe tbody tr th:only-of-type {\n",
       "        vertical-align: middle;\n",
       "    }\n",
       "\n",
       "    .dataframe tbody tr th {\n",
       "        vertical-align: top;\n",
       "    }\n",
       "\n",
       "    .dataframe thead th {\n",
       "        text-align: right;\n",
       "    }\n",
       "</style>\n",
       "<table border=\"1\" class=\"dataframe\">\n",
       "  <thead>\n",
       "    <tr style=\"text-align: right;\">\n",
       "      <th></th>\n",
       "      <th>index</th>\n",
       "      <th>review_id</th>\n",
       "      <th>user_id</th>\n",
       "      <th>business_id</th>\n",
       "      <th>stars</th>\n",
       "      <th>useful</th>\n",
       "      <th>funny</th>\n",
       "      <th>cool</th>\n",
       "      <th>text</th>\n",
       "      <th>date</th>\n",
       "      <th>...</th>\n",
       "      <th>state</th>\n",
       "      <th>postal_code</th>\n",
       "      <th>latitude</th>\n",
       "      <th>longitude</th>\n",
       "      <th>stars</th>\n",
       "      <th>review_count</th>\n",
       "      <th>is_open</th>\n",
       "      <th>attributes</th>\n",
       "      <th>categories</th>\n",
       "      <th>hours</th>\n",
       "    </tr>\n",
       "  </thead>\n",
       "  <tbody>\n",
       "    <tr>\n",
       "      <th>0</th>\n",
       "      <td>16</td>\n",
       "      <td>bVTjZgRNq8ToxzvtiVrqMA</td>\n",
       "      <td>2hRe26HSCAWbFRn5WChK-Q</td>\n",
       "      <td>d4qwVw4PcN-_2mK2o1Ro1g</td>\n",
       "      <td>1</td>\n",
       "      <td>0</td>\n",
       "      <td>0</td>\n",
       "      <td>0</td>\n",
       "      <td>10pm on a super bowl Sunday and they're alread...</td>\n",
       "      <td>2015-02-02 06:28:00</td>\n",
       "      <td>...</td>\n",
       "      <td>NV</td>\n",
       "      <td>89169</td>\n",
       "      <td>36.109706</td>\n",
       "      <td>-115.154021</td>\n",
       "      <td>3.5</td>\n",
       "      <td>1120</td>\n",
       "      <td>1</td>\n",
       "      <td>{\"RestaurantsTakeOut\": \"True\", \"BusinessAccept...</td>\n",
       "      <td>Mexican, Restaurants</td>\n",
       "      <td>{\"Monday\": \"11:0-22:0\", \"Tuesday\": \"11:0-22:0\"...</td>\n",
       "    </tr>\n",
       "    <tr>\n",
       "      <th>1</th>\n",
       "      <td>21</td>\n",
       "      <td>TeX0eOIeZb_wpo86rCedXQ</td>\n",
       "      <td>RR-2nouBn408e3djxC470g</td>\n",
       "      <td>d4qwVw4PcN-_2mK2o1Ro1g</td>\n",
       "      <td>5</td>\n",
       "      <td>0</td>\n",
       "      <td>0</td>\n",
       "      <td>0</td>\n",
       "      <td>Holy heck this place is amazing. I love their ...</td>\n",
       "      <td>2017-02-09 04:25:03</td>\n",
       "      <td>...</td>\n",
       "      <td>NV</td>\n",
       "      <td>89169</td>\n",
       "      <td>36.109706</td>\n",
       "      <td>-115.154021</td>\n",
       "      <td>3.5</td>\n",
       "      <td>1120</td>\n",
       "      <td>1</td>\n",
       "      <td>{\"RestaurantsTakeOut\": \"True\", \"BusinessAccept...</td>\n",
       "      <td>Mexican, Restaurants</td>\n",
       "      <td>{\"Monday\": \"11:0-22:0\", \"Tuesday\": \"11:0-22:0\"...</td>\n",
       "    </tr>\n",
       "    <tr>\n",
       "      <th>2</th>\n",
       "      <td>32</td>\n",
       "      <td>NHQWhZve7UEaGLt7IwAyDw</td>\n",
       "      <td>H3wPBzQCKCKiHcV7GZK4kg</td>\n",
       "      <td>LkMtMHVetws5_7QfRjPtlg</td>\n",
       "      <td>2</td>\n",
       "      <td>5</td>\n",
       "      <td>3</td>\n",
       "      <td>4</td>\n",
       "      <td>This actually used to be one of my favorite ho...</td>\n",
       "      <td>2011-01-09 00:09:50</td>\n",
       "      <td>...</td>\n",
       "      <td>NV</td>\n",
       "      <td>89109</td>\n",
       "      <td>36.136257</td>\n",
       "      <td>-115.151253</td>\n",
       "      <td>2.5</td>\n",
       "      <td>944</td>\n",
       "      <td>0</td>\n",
       "      <td>{\"NoiseLevel\": \"u'average'\", \"RestaurantsDeliv...</td>\n",
       "      <td>Casinos, Nightlife, Restaurants, Hotels &amp; Trav...</td>\n",
       "      <td>{\"Monday\": \"6:0-6:0\", \"Tuesday\": \"6:0-6:0\", \"W...</td>\n",
       "    </tr>\n",
       "    <tr>\n",
       "      <th>3</th>\n",
       "      <td>40</td>\n",
       "      <td>TkcxD1A4N_9kRZwGhUjDKA</td>\n",
       "      <td>bgG0jJyUXta_kczGrQW2Rw</td>\n",
       "      <td>7EZ4Eu7YJ1ltRCC5jXFJrQ</td>\n",
       "      <td>1</td>\n",
       "      <td>1</td>\n",
       "      <td>0</td>\n",
       "      <td>0</td>\n",
       "      <td>There wasn't one specific thing that made this...</td>\n",
       "      <td>2013-04-10 16:19:12</td>\n",
       "      <td>...</td>\n",
       "      <td>NV</td>\n",
       "      <td>89109</td>\n",
       "      <td>36.124829</td>\n",
       "      <td>-115.171991</td>\n",
       "      <td>2.5</td>\n",
       "      <td>824</td>\n",
       "      <td>1</td>\n",
       "      <td>{\"NoiseLevel\": \"u'average'\", \"RestaurantsDeliv...</td>\n",
       "      <td>Asian Fusion, Event Planning &amp; Services, Resta...</td>\n",
       "      <td>{\"Monday\": \"7:0-22:0\", \"Tuesday\": \"7:0-22:0\", ...</td>\n",
       "    </tr>\n",
       "    <tr>\n",
       "      <th>4</th>\n",
       "      <td>46</td>\n",
       "      <td>8qdikDQ0bkJj7QZa2IdvrQ</td>\n",
       "      <td>7MXunAzrmnbBd0XQR33zaA</td>\n",
       "      <td>nJcyfIRGbI31EGLzillWYg</td>\n",
       "      <td>1</td>\n",
       "      <td>0</td>\n",
       "      <td>0</td>\n",
       "      <td>0</td>\n",
       "      <td>A margarita in clear plastic dickie cup??? Wtf...</td>\n",
       "      <td>2015-01-18 16:12:27</td>\n",
       "      <td>...</td>\n",
       "      <td>NV</td>\n",
       "      <td>89109</td>\n",
       "      <td>36.137112</td>\n",
       "      <td>-115.163311</td>\n",
       "      <td>3.0</td>\n",
       "      <td>448</td>\n",
       "      <td>1</td>\n",
       "      <td>{\"Ambience\": \"{'touristy': True, 'hipster': Fa...</td>\n",
       "      <td>Breakfast &amp; Brunch, Nightlife, Bars, American ...</td>\n",
       "      <td>{\"Monday\": \"7:0-0:0\", \"Tuesday\": \"7:0-0:0\", \"W...</td>\n",
       "    </tr>\n",
       "  </tbody>\n",
       "</table>\n",
       "<p>5 rows × 26 columns</p>\n",
       "</div>"
      ],
      "text/plain": [
       "   index               review_id                 user_id  \\\n",
       "0     16  bVTjZgRNq8ToxzvtiVrqMA  2hRe26HSCAWbFRn5WChK-Q   \n",
       "1     21  TeX0eOIeZb_wpo86rCedXQ  RR-2nouBn408e3djxC470g   \n",
       "2     32  NHQWhZve7UEaGLt7IwAyDw  H3wPBzQCKCKiHcV7GZK4kg   \n",
       "3     40  TkcxD1A4N_9kRZwGhUjDKA  bgG0jJyUXta_kczGrQW2Rw   \n",
       "4     46  8qdikDQ0bkJj7QZa2IdvrQ  7MXunAzrmnbBd0XQR33zaA   \n",
       "\n",
       "              business_id stars  useful  funny  cool  \\\n",
       "0  d4qwVw4PcN-_2mK2o1Ro1g     1       0      0     0   \n",
       "1  d4qwVw4PcN-_2mK2o1Ro1g     5       0      0     0   \n",
       "2  LkMtMHVetws5_7QfRjPtlg     2       5      3     4   \n",
       "3  7EZ4Eu7YJ1ltRCC5jXFJrQ     1       1      0     0   \n",
       "4  nJcyfIRGbI31EGLzillWYg     1       0      0     0   \n",
       "\n",
       "                                                text                 date  \\\n",
       "0  10pm on a super bowl Sunday and they're alread...  2015-02-02 06:28:00   \n",
       "1  Holy heck this place is amazing. I love their ...  2017-02-09 04:25:03   \n",
       "2  This actually used to be one of my favorite ho...  2011-01-09 00:09:50   \n",
       "3  There wasn't one specific thing that made this...  2013-04-10 16:19:12   \n",
       "4  A margarita in clear plastic dickie cup??? Wtf...  2015-01-18 16:12:27   \n",
       "\n",
       "   ...  state  postal_code   latitude   longitude stars review_count is_open  \\\n",
       "0  ...     NV        89169  36.109706 -115.154021   3.5         1120       1   \n",
       "1  ...     NV        89169  36.109706 -115.154021   3.5         1120       1   \n",
       "2  ...     NV        89109  36.136257 -115.151253   2.5          944       0   \n",
       "3  ...     NV        89109  36.124829 -115.171991   2.5          824       1   \n",
       "4  ...     NV        89109  36.137112 -115.163311   3.0          448       1   \n",
       "\n",
       "                                          attributes  \\\n",
       "0  {\"RestaurantsTakeOut\": \"True\", \"BusinessAccept...   \n",
       "1  {\"RestaurantsTakeOut\": \"True\", \"BusinessAccept...   \n",
       "2  {\"NoiseLevel\": \"u'average'\", \"RestaurantsDeliv...   \n",
       "3  {\"NoiseLevel\": \"u'average'\", \"RestaurantsDeliv...   \n",
       "4  {\"Ambience\": \"{'touristy': True, 'hipster': Fa...   \n",
       "\n",
       "                                          categories  \\\n",
       "0                               Mexican, Restaurants   \n",
       "1                               Mexican, Restaurants   \n",
       "2  Casinos, Nightlife, Restaurants, Hotels & Trav...   \n",
       "3  Asian Fusion, Event Planning & Services, Resta...   \n",
       "4  Breakfast & Brunch, Nightlife, Bars, American ...   \n",
       "\n",
       "                                               hours  \n",
       "0  {\"Monday\": \"11:0-22:0\", \"Tuesday\": \"11:0-22:0\"...  \n",
       "1  {\"Monday\": \"11:0-22:0\", \"Tuesday\": \"11:0-22:0\"...  \n",
       "2  {\"Monday\": \"6:0-6:0\", \"Tuesday\": \"6:0-6:0\", \"W...  \n",
       "3  {\"Monday\": \"7:0-22:0\", \"Tuesday\": \"7:0-22:0\", ...  \n",
       "4  {\"Monday\": \"7:0-0:0\", \"Tuesday\": \"7:0-0:0\", \"W...  \n",
       "\n",
       "[5 rows x 26 columns]"
      ]
     },
     "execution_count": 15,
     "metadata": {},
     "output_type": "execute_result"
    }
   ],
   "source": [
    "join_query.head()"
   ]
  },
  {
   "cell_type": "code",
   "execution_count": 16,
   "metadata": {},
   "outputs": [
    {
     "data": {
      "text/plain": [
       "21615620"
      ]
     },
     "execution_count": 16,
     "metadata": {},
     "output_type": "execute_result"
    }
   ],
   "source": [
    "join_query.size"
   ]
  },
  {
   "cell_type": "code",
   "execution_count": 17,
   "metadata": {},
   "outputs": [
    {
     "data": {
      "text/plain": [
       "Index(['index', 'review_id', 'user_id', 'business_id', 'stars', 'useful',\n",
       "       'funny', 'cool', 'text', 'date', 'level_0', 'index', 'business_id',\n",
       "       'name', 'address', 'city', 'state', 'postal_code', 'latitude',\n",
       "       'longitude', 'stars', 'review_count', 'is_open', 'attributes',\n",
       "       'categories', 'hours'],\n",
       "      dtype='object')"
      ]
     },
     "execution_count": 17,
     "metadata": {},
     "output_type": "execute_result"
    }
   ],
   "source": [
    "join_query.columns"
   ]
  },
  {
   "cell_type": "code",
   "execution_count": 18,
   "metadata": {},
   "outputs": [],
   "source": [
    "# Removes extraneous garbage columns\n",
    "# This can be taken care of with earlier import/exports but done here to avoid re-creating data tables\n",
    "join_query = join_query.drop(columns=['index', 'level_0'])"
   ]
  },
  {
   "cell_type": "code",
   "execution_count": 24,
   "metadata": {},
   "outputs": [],
   "source": [
    "# Pandas read_query keeps join columns unlike regular SQL join\n",
    "# Removing to allow table creation in database\n",
    "join_query = join_query.loc[:,~join_query.columns.duplicated()]"
   ]
  },
  {
   "cell_type": "code",
   "execution_count": 25,
   "metadata": {},
   "outputs": [
    {
     "data": {
      "text/plain": [
       "Index(['review_id', 'user_id', 'business_id', 'stars', 'useful', 'funny',\n",
       "       'cool', 'text', 'date', 'name', 'address', 'city', 'state',\n",
       "       'postal_code', 'latitude', 'longitude', 'review_count', 'is_open',\n",
       "       'attributes', 'categories', 'hours'],\n",
       "      dtype='object')"
      ]
     },
     "execution_count": 25,
     "metadata": {},
     "output_type": "execute_result"
    }
   ],
   "source": [
    "join_query.columns"
   ]
  },
  {
   "cell_type": "code",
   "execution_count": 21,
   "metadata": {},
   "outputs": [],
   "source": [
    "join_query.to_sql(\"LV_Reviews\", conn, if_exists=\"replace\", index=False)"
   ]
  },
  {
   "cell_type": "code",
   "execution_count": 27,
   "metadata": {},
   "outputs": [],
   "source": [
    "gc.collect()\n",
    "conn.close() "
   ]
  },
  {
   "cell_type": "code",
   "execution_count": null,
   "metadata": {},
   "outputs": [],
   "source": []
  }
 ],
 "metadata": {
  "kernelspec": {
   "display_name": "Python 3",
   "language": "python",
   "name": "python3"
  },
  "language_info": {
   "codemirror_mode": {
    "name": "ipython",
    "version": 3
   },
   "file_extension": ".py",
   "mimetype": "text/x-python",
   "name": "python",
   "nbconvert_exporter": "python",
   "pygments_lexer": "ipython3",
   "version": "3.8.6"
  }
 },
 "nbformat": 4,
 "nbformat_minor": 4
}