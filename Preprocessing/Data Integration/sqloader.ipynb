{
 "cells": [
  {
   "cell_type": "code",
   "execution_count": 30,
   "metadata": {},
   "outputs": [
    {
     "data": {
      "text/plain": [
       "20"
      ]
     },
     "execution_count": 30,
     "metadata": {},
     "output_type": "execute_result"
    }
   ],
   "source": [
    "#Standalone lines, delete table to re-perform import, close connection when needed, free memory\n",
    "import gc\n",
    "# c.execute(\"Drop table if exists Businesses\")\n",
    "# c.execute(\"Drop table if exists Checkins\")\n",
    "# c.execute(\"Drop table if exists Users\")\n",
    "# c.execute(\"Drop table if exists Tips\")\n",
    "# c.execute(\"Drop table if exists Reviews\")\n",
    "# conn.close()\n",
    "gc.collect()"
   ]
  },
  {
   "cell_type": "code",
   "execution_count": 31,
   "metadata": {},
   "outputs": [
    {
     "name": "stdout",
     "output_type": "stream",
     "text": [
      "2.6.0\n",
      "Wall time: 32 ms\n"
     ]
    }
   ],
   "source": [
    "%%time\n",
    "import pandas as pd\n",
    "import json\n",
    "import sqlite3\n",
    "from sqlite3 import Error\n",
    "\n",
    "def create_connection(db_file):\n",
    "    \"\"\" create a database connection to a SQLite database \"\"\"\n",
    "    conn = None\n",
    "    try:\n",
    "        conn = sqlite3.connect(db_file)\n",
    "        print(sqlite3.version)\n",
    "    except Error as e:\n",
    "        print(e)\n",
    "    finally:\n",
    "        if conn:\n",
    "            return conn\n",
    "            \n",
    "conn = create_connection(r\"C:\\Users\\pajuc\\Documents\\yelp\\data\\yelp.db\")\n",
    "c = conn.cursor()"
   ]
  },
  {
   "cell_type": "code",
   "execution_count": 32,
   "metadata": {},
   "outputs": [
    {
     "name": "stdout",
     "output_type": "stream",
     "text": [
      "Wall time: 0 ns\n"
     ]
    }
   ],
   "source": [
    "%%time\n",
    "import pandas as pd\n",
    "prefix = \"C:\\\\Users\\\\pajuc\\\\Documents\\\\yelp\\\\data\\\\\"\n",
    "filePaths = {\n",
    "    \"reviews\": prefix + 'yelp_academic_dataset_review.json',\n",
    "    \"businesses\": prefix + 'yelp_academic_dataset_business.json',\n",
    "    \"checkins\": prefix + 'yelp_academic_dataset_checkin.json',\n",
    "    \"tips\": prefix + 'yelp_academic_dataset_tip.json',\n",
    "    \"users\": prefix + 'yelp_academic_dataset_user.json'\n",
    "}"
   ]
  },
  {
   "cell_type": "code",
   "execution_count": 33,
   "metadata": {},
   "outputs": [
    {
     "name": "stdout",
     "output_type": "stream",
     "text": [
      "Wall time: 10.2 s\n"
     ]
    }
   ],
   "source": [
    "%%time\n",
    "#Loads business table, entire JSON fits in memory\n",
    "dfBusinesses = pd.read_json(\n",
    "    filePaths[\"businesses\"], \n",
    "    lines=True\n",
    ")\n",
    "\n",
    "# This is a little brute force to get these dicts into SQL text. There are wrappers to maintain the struct if needed...\n",
    "# Right now they will just be a large string. Since they are structured it may be easier to make some functions to\n",
    "# extract info. TBD\n",
    "\n",
    "dfBusinesses['attributes'] = dfBusinesses['attributes'].apply(json.dumps)\n",
    "dfBusinesses['hours'] = dfBusinesses['hours'].apply(json.dumps)\n",
    "dfBusinesses.to_sql('Businesses', con=conn)"
   ]
  },
  {
   "cell_type": "code",
   "execution_count": 34,
   "metadata": {},
   "outputs": [
    {
     "name": "stdout",
     "output_type": "stream",
     "text": [
      "Wall time: 8.99 s\n"
     ]
    }
   ],
   "source": [
    "%%time\n",
    "#Loads checkins table\n",
    "dfCheckins = pd.read_json(\n",
    "    filePaths[\"checkins\"], \n",
    "    lines=True\n",
    ")\n",
    "dfCheckins.to_sql('Checkins', con=conn)"
   ]
  },
  {
   "cell_type": "code",
   "execution_count": 35,
   "metadata": {},
   "outputs": [
    {
     "name": "stdout",
     "output_type": "stream",
     "text": [
      "Wall time: 24 s\n"
     ]
    }
   ],
   "source": [
    "%%time\n",
    "#Loads tips table\n",
    "dfTips = pd.read_json(\n",
    "    filePaths[\"tips\"], \n",
    "    lines=True\n",
    ")\n",
    "dfTips.to_sql('Tips', con=conn)"
   ]
  },
  {
   "cell_type": "code",
   "execution_count": 36,
   "metadata": {},
   "outputs": [
    {
     "name": "stdout",
     "output_type": "stream",
     "text": [
      "Wall time: 2min 25s\n"
     ]
    }
   ],
   "source": [
    "%%time\n",
    "# Loads users table\n",
    "# There is a bug in pandas 1.1.3 (et al) requiring nrows to be greater than # lines in file\n",
    "# This was causing issues with chunking, but excess nrows fixed it.\n",
    "# I read it was solved in 1.1.4 but didn't bother trying\n",
    "\n",
    "for df in pd.read_json(\n",
    "    filePaths[\"users\"], \n",
    "    lines=True,\n",
    "    orient='records',\n",
    "    chunksize=100000,\n",
    "    nrows=234236523\n",
    "):\n",
    "    new_users = pd.DataFrame(df)\n",
    "    new_users.to_sql('Users', con=conn, if_exists='append')"
   ]
  },
  {
   "cell_type": "code",
   "execution_count": 37,
   "metadata": {},
   "outputs": [
    {
     "name": "stdout",
     "output_type": "stream",
     "text": [
      "Wall time: 5min 52s\n"
     ]
    }
   ],
   "source": [
    "%%time\n",
    "# Loads reviews table\n",
    "for df in pd.read_json(\n",
    "    filePaths[\"reviews\"], \n",
    "    lines=True,\n",
    "    orient='records',\n",
    "    chunksize=100000, # Dataframe size\n",
    "    nrows=4234236234234\n",
    "):\n",
    "    new_reviews = pd.DataFrame(df)\n",
    "    new_reviews.to_sql('Reviews', con=conn, if_exists='append')"
   ]
  },
  {
   "cell_type": "code",
   "execution_count": 7,
   "metadata": {},
   "outputs": [
    {
     "name": "stdout",
     "output_type": "stream",
     "text": [
      "\n",
      "INSTALLED VERSIONS\n",
      "------------------\n",
      "commit           : db08276bc116c438d3fdee492026f8223584c477\n",
      "python           : 3.8.5.final.0\n",
      "python-bits      : 64\n",
      "OS               : Windows\n",
      "OS-release       : 10\n",
      "Version          : 10.0.19041\n",
      "machine          : AMD64\n",
      "processor        : AMD64 Family 21 Model 2 Stepping 0, AuthenticAMD\n",
      "byteorder        : little\n",
      "LC_ALL           : None\n",
      "LANG             : None\n",
      "LOCALE           : English_United States.1252\n",
      "\n",
      "pandas           : 1.1.3\n",
      "numpy            : 1.19.2\n",
      "pytz             : 2020.1\n",
      "dateutil         : 2.8.1\n",
      "pip              : 20.2.4\n",
      "setuptools       : 50.3.1.post20201107\n",
      "Cython           : 0.29.21\n",
      "pytest           : 6.1.1\n",
      "hypothesis       : None\n",
      "sphinx           : 3.2.1\n",
      "blosc            : None\n",
      "feather          : None\n",
      "xlsxwriter       : 1.3.7\n",
      "lxml.etree       : 4.6.1\n",
      "html5lib         : 1.1\n",
      "pymysql          : None\n",
      "psycopg2         : None\n",
      "jinja2           : 2.11.2\n",
      "IPython          : 7.19.0\n",
      "pandas_datareader: None\n",
      "bs4              : 4.9.3\n",
      "bottleneck       : 1.3.2\n",
      "fsspec           : 0.8.3\n",
      "fastparquet      : None\n",
      "gcsfs            : None\n",
      "matplotlib       : 3.3.2\n",
      "numexpr          : 2.7.1\n",
      "odfpy            : None\n",
      "openpyxl         : 3.0.5\n",
      "pandas_gbq       : None\n",
      "pyarrow          : None\n",
      "pytables         : None\n",
      "pyxlsb           : None\n",
      "s3fs             : None\n",
      "scipy            : 1.5.2\n",
      "sqlalchemy       : 1.3.20\n",
      "tables           : 3.6.1\n",
      "tabulate         : None\n",
      "xarray           : None\n",
      "xlrd             : 1.2.0\n",
      "xlwt             : 1.3.0\n",
      "numba            : 0.51.2\n"
     ]
    }
   ],
   "source": []
  },
  {
   "cell_type": "code",
   "execution_count": null,
   "metadata": {},
   "outputs": [],
   "source": []
  }
 ],
 "metadata": {
  "kernelspec": {
   "display_name": "Python 3",
   "language": "python",
   "name": "python3"
  },
  "language_info": {
   "codemirror_mode": {
    "name": "ipython",
    "version": 3
   },
   "file_extension": ".py",
   "mimetype": "text/x-python",
   "name": "python",
   "nbconvert_exporter": "python",
   "pygments_lexer": "ipython3",
   "version": "3.8.5"
  }
 },
 "nbformat": 4,
 "nbformat_minor": 4
}
